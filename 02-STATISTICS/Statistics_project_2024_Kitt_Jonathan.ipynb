{
 "cells": [
  {
   "cell_type": "markdown",
   "id": "d4faea59-bb29-45ac-839e-d4e98ecbcfbc",
   "metadata": {},
   "source": [
    "## DU Data Scientist project 2024\n",
    "### Date: 2024-10-16\n",
    "#### Author : Jonathan Kitt"
   ]
  },
  {
   "cell_type": "markdown",
   "id": "c3d6f4f4-2140-480c-9cb3-ee6d1f30f877",
   "metadata": {},
   "source": [
    "## 1. Using the reciprocal of the cumulative distribution"
   ]
  }
 ],
 "metadata": {
  "kernelspec": {
   "display_name": "Python 3 (ipykernel)",
   "language": "python",
   "name": "python3"
  },
  "language_info": {
   "codemirror_mode": {
    "name": "ipython",
    "version": 3
   },
   "file_extension": ".py",
   "mimetype": "text/x-python",
   "name": "python",
   "nbconvert_exporter": "python",
   "pygments_lexer": "ipython3",
   "version": "3.12.4"
  }
 },
 "nbformat": 4,
 "nbformat_minor": 5
}
