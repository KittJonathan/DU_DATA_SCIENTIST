{
 "cells": [
  {
   "cell_type": "markdown",
   "id": "a0c5440e-d04a-435d-8516-798b79b6f1eb",
   "metadata": {},
   "source": [
    "# Cells of code\n",
    "## Input and output"
   ]
  },
  {
   "cell_type": "code",
   "execution_count": 50,
   "id": "8777150a-2f12-4ad0-9700-ea84a3196f33",
   "metadata": {},
   "outputs": [
    {
     "data": {
      "text/plain": [
       "5"
      ]
     },
     "execution_count": 50,
     "metadata": {},
     "output_type": "execute_result"
    }
   ],
   "source": [
    "# Variable definition \n",
    "x = 2\n",
    "y = 3\n",
    "\n",
    "# Compute the sum\n",
    "x + y"
   ]
  },
  {
   "cell_type": "code",
   "execution_count": 52,
   "id": "b88934b3-bda0-4f22-85d0-a114ca863a16",
   "metadata": {},
   "outputs": [],
   "source": [
    "x = 4"
   ]
  },
  {
   "cell_type": "code",
   "execution_count": 54,
   "id": "660d1c96-9b7e-49e7-aec8-4a4ce0a9b1cb",
   "metadata": {},
   "outputs": [],
   "source": [
    "# Variable definition\n",
    "x = 2\n",
    "y = 3\n",
    "\n",
    "# Compute the sum\n",
    "x + y;"
   ]
  },
  {
   "cell_type": "code",
   "execution_count": 60,
   "id": "60ab08bb-8f6b-43fe-8dec-896d86d8c710",
   "metadata": {},
   "outputs": [
    {
     "name": "stdout",
     "output_type": "stream",
     "text": [
      "5\n"
     ]
    }
   ],
   "source": [
    "# Variable definition\n",
    "x = 2\n",
    "y = 3\n",
    "\n",
    "# Compute and print the sum\n",
    "print(x + y)"
   ]
  },
  {
   "cell_type": "markdown",
   "id": "d8b5ba47-a3e0-40e0-aafd-2139a4ffe562",
   "metadata": {},
   "source": [
    "## Be careful: order of execution matters!"
   ]
  },
  {
   "cell_type": "code",
   "execution_count": 72,
   "id": "13fb4af4-4296-4247-933f-ffe75078e410",
   "metadata": {},
   "outputs": [
    {
     "name": "stdout",
     "output_type": "stream",
     "text": [
      "5\n"
     ]
    }
   ],
   "source": [
    "## CODE 1\n",
    "x = 2\n",
    "y = 3\n",
    "print(x + y)"
   ]
  },
  {
   "cell_type": "code",
   "execution_count": 76,
   "id": "1607cb28-43b9-4333-a625-26db4bac9aef",
   "metadata": {},
   "outputs": [
    {
     "name": "stdout",
     "output_type": "stream",
     "text": [
      "20\n"
     ]
    }
   ],
   "source": [
    "## CODE 2\n",
    "x = 10\n",
    "print(x + y)"
   ]
  },
  {
   "cell_type": "code",
   "execution_count": 74,
   "id": "7d2eeaa9-a280-4e39-9faa-d489277555e7",
   "metadata": {},
   "outputs": [
    {
     "name": "stdout",
     "output_type": "stream",
     "text": [
      "12\n"
     ]
    }
   ],
   "source": [
    "## CODE 3\n",
    "y = 10\n",
    "print(x + y)"
   ]
  },
  {
   "cell_type": "markdown",
   "id": "daace891-8bf1-4bcf-a16e-4aa639cd7541",
   "metadata": {},
   "source": [
    "## A realistic example with several code cells"
   ]
  },
  {
   "cell_type": "code",
   "execution_count": 79,
   "id": "cb6b3de5-3cf0-4b28-bb4e-b010bf00798b",
   "metadata": {},
   "outputs": [],
   "source": [
    "n1 = 10\n",
    "n2 = 50\n",
    "n3 = 99"
   ]
  },
  {
   "cell_type": "code",
   "execution_count": 83,
   "id": "2d5a7c49-5d86-420e-b85d-e2aa99b414b7",
   "metadata": {},
   "outputs": [],
   "source": [
    "def SumUpToN(n):\n",
    "    '''\n",
    "    This function returns the sum of the n first integers:\n",
    "        sum = 1 + 2 + ... + n\n",
    "    '''\n",
    "\n",
    "    # Initialisation\n",
    "    s = 0\n",
    "\n",
    "    # Loop over from to n\n",
    "    for i in range(n+1):\n",
    "        s = s + i\n",
    "\n",
    "    # Return the result\n",
    "    return s"
   ]
  },
  {
   "cell_type": "code",
   "execution_count": 87,
   "id": "f86ef964-96ea-4641-be87-c8dfa250f5fa",
   "metadata": {},
   "outputs": [
    {
     "name": "stdout",
     "output_type": "stream",
     "text": [
      "n = 10 --> SUM = 55\n",
      "n = 50 --> SUM = 1275\n",
      "n = 99 --> SUM = 4950\n"
     ]
    }
   ],
   "source": [
    "for n in [n1, n2, n3]:\n",
    "    print('n = {} --> SUM = {}'.format(n, SumUpToN(n)))"
   ]
  },
  {
   "cell_type": "markdown",
   "id": "330a80bd-ac4b-4234-82b4-eb3c45997c86",
   "metadata": {},
   "source": [
    "## Example with plots"
   ]
  },
  {
   "cell_type": "code",
   "execution_count": 93,
   "id": "24ce7385-9716-42b3-ae42-bff74c7720d5",
   "metadata": {},
   "outputs": [
    {
     "data": {
      "image/png": "[encoded data removed]",
      "text/plain": [
       "<Figure size 640x480 with 1 Axes>"
      ]
     },
     "metadata": {},
     "output_type": "display_data"
    }
   ],
   "source": [
    "# Import Python plotting tool\n",
    "import matplotlib.pyplot as plt\n",
    "\n",
    "# Define its behaviour in the notebook.\n",
    "# Note: this command needs to be run once per notebook, not per cell.\n",
    "%matplotlib inline\n",
    "\n",
    "# Define Xs = [0, 1, ..., 50].\n",
    "Xs = range(50)\n",
    "\n",
    "# Define Ys = [SumUpToN(0), SumUpToN(1), ..., SumUpToN(50)].\n",
    "Ys = [SumUpToN(x) for x in Xs]\n",
    "\n",
    "# Plot Ys vs Xs.\n",
    "plt.plot(Xs, Ys)\n",
    "\n",
    "# Add a label to the x-axis.\n",
    "# Note the \";\" to avoid having the line printed.\n",
    "plt.xlabel('N');\n",
    "plt.ylabel('Sum of integers up to N');"
   ]
  },
  {
   "cell_type": "markdown",
   "id": "097b051f-ed0f-4036-9d7b-354d178f886e",
   "metadata": {},
   "source": [
    "## How to use Python documentation"
   ]
  },
  {
   "cell_type": "code",
   "execution_count": 95,
   "id": "e4bd1ab6-3c4b-447d-a996-8f14a6b73de9",
   "metadata": {},
   "outputs": [
    {
     "name": "stdout",
     "output_type": "stream",
     "text": [
      "Help on built-in function rand:\n",
      "\n",
      "rand(...) method of numpy.random.mtrand.RandomState instance\n",
      "    rand(d0, d1, ..., dn)\n",
      "\n",
      "    Random values in a given shape.\n",
      "\n",
      "    .. note::\n",
      "        This is a convenience function for users porting code from Matlab,\n",
      "        and wraps `random_sample`. That function takes a\n",
      "        tuple to specify the size of the output, which is consistent with\n",
      "        other NumPy functions like `numpy.zeros` and `numpy.ones`.\n",
      "\n",
      "    Create an array of the given shape and populate it with\n",
      "    random samples from a uniform distribution\n",
      "    over ``[0, 1)``.\n",
      "\n",
      "    Parameters\n",
      "    ----------\n",
      "    d0, d1, ..., dn : int, optional\n",
      "        The dimensions of the returned array, must be non-negative.\n",
      "        If no argument is given a single Python float is returned.\n",
      "\n",
      "    Returns\n",
      "    -------\n",
      "    out : ndarray, shape ``(d0, d1, ..., dn)``\n",
      "        Random values.\n",
      "\n",
      "    See Also\n",
      "    --------\n",
      "    random\n",
      "\n",
      "    Examples\n",
      "    --------\n",
      "    >>> np.random.rand(3,2)\n",
      "    array([[ 0.14022471,  0.96360618],  #random\n",
      "           [ 0.37601032,  0.25528411],  #random\n",
      "           [ 0.49313049,  0.94909878]]) #random\n",
      "\n"
     ]
    }
   ],
   "source": [
    "import numpy as np\n",
    "help(np.random.rand)"
   ]
  },
  {
   "cell_type": "code",
   "execution_count": 97,
   "id": "ceb248aa-d047-4f7d-bcd7-3aeab9914853",
   "metadata": {},
   "outputs": [
    {
     "name": "stdout",
     "output_type": "stream",
     "text": [
      "Help on function SumUpToN in module __main__:\n",
      "\n",
      "SumUpToN(n)\n",
      "    This function returns the sum of the n first integers:\n",
      "        sum = 1 + 2 + ... + n\n",
      "\n"
     ]
    }
   ],
   "source": [
    "help(SumUpToN)"
   ]
  },
  {
   "cell_type": "markdown",
   "id": "d33a41c1-35b6-4f0d-bac2-2c6a298c42ee",
   "metadata": {},
   "source": [
    "# Cells of text"
   ]
  },
  {
   "cell_type": "markdown",
   "id": "f5baac2b-c9e3-4460-aa0f-ca8e7034eeb7",
   "metadata": {},
   "source": [
    "## The Markdown syntax"
   ]
  },
  {
   "cell_type": "markdown",
   "id": "bd712578-2daf-407d-9232-db4fe9f684ee",
   "metadata": {},
   "source": [
    "*italic text*  \n",
    "**bold text**  \n",
    "`line of code`  \n",
    "[link](url)  \n",
    "![name](image.jpg)  "
   ]
  },
  {
   "cell_type": "markdown",
   "id": "8f420a87-23b4-449e-a871-c9a2667e3afe",
   "metadata": {},
   "source": [
    "| col1 | col2|\n",
    "|------|-----|\n",
    "| y    | n   |\n",
    "| y    | y   |\n",
    "| n    | n   |"
   ]
  },
  {
   "cell_type": "markdown",
   "id": "78761bc8-212c-4cd3-a24a-18aba7790f9b",
   "metadata": {},
   "source": [
    "# Title\n",
    "blablabla\n",
    "## Subtitle\n",
    "blablabla\n",
    "### Subsubtitle\n",
    "blablabla"
   ]
  },
  {
   "cell_type": "code",
   "execution_count": 109,
   "id": "5f17381e-c1a4-4b09-bc01-acc2b50c20ba",
   "metadata": {},
   "outputs": [
    {
     "ename": "SyntaxError",
     "evalue": "invalid syntax (620442419.py, line 1)",
     "output_type": "error",
     "traceback": [
      "\u001b[1;36m  Cell \u001b[1;32mIn[109], line 1\u001b[1;36m\u001b[0m\n\u001b[1;33m    ```python\u001b[0m\n\u001b[1;37m    ^\u001b[0m\n\u001b[1;31mSyntaxError\u001b[0m\u001b[1;31m:\u001b[0m invalid syntax\n"
     ]
    }
   ],
   "source": [
    "```python\n",
    "# Python code\n",
    "list = [0, 1, 2, 3]\n",
    "for i in list:\n",
    "    print(i)\n",
    "```"
   ]
  },
  {
   "cell_type": "markdown",
   "id": "77090739-413f-4092-9d1a-5419c3b037aa",
   "metadata": {},
   "source": [
    "> One day, one man said this would be a nice quotation.\n",
    "> \n",
    "> Romain M."
   ]
  },
  {
   "cell_type": "markdown",
   "id": "6c762b82-6d41-4d29-a29b-377ca288b42d",
   "metadata": {},
   "source": [
    "## Typical use of LaTeX"
   ]
  },
  {
   "cell_type": "markdown",
   "id": "acac1b04-634c-4e98-aef6-87fc63203935",
   "metadata": {},
   "source": [
    "$$\n",
    "\\sum_{i=0}^{n} i^2 \\neq \\int^{\\infty}_{0} \\varphi \\times f(\\theta) \\times \\sin \\left(\\frac{\\pi x}{x+1}\\right) \\, \\mathrm{d}x\n",
    "$$"
   ]
  },
  {
   "cell_type": "markdown",
   "id": "998c43cb-9d1c-4a3d-8bcc-2285db8b9108",
   "metadata": {},
   "source": [
    "## Typical use of HTML"
   ]
  },
  {
   "cell_type": "markdown",
   "id": "8db12503-deb5-4131-aaa9-cabd30e200b8",
   "metadata": {},
   "source": [
    "<div style=\"color:white;background:blue;width:50%;padding:10px;font-size:18px;text-align:center\">This is a block with a HTML + CSS style!\n",
    "</div>"
   ]
  },
  {
   "cell_type": "code",
   "execution_count": null,
   "id": "c538abfb-d4f6-4622-b556-f0057c103877",
   "metadata": {},
   "outputs": [],
   "source": []
  }
 ],
 "metadata": {
  "kernelspec": {
   "display_name": "Python 3 (ipykernel)",
   "language": "python",
   "name": "python3"
  },
  "language_info": {
   "codemirror_mode": {
    "name": "ipython",
    "version": 3
   },
   "file_extension": ".py",
   "mimetype": "text/x-python",
   "name": "python",
   "nbconvert_exporter": "python",
   "pygments_lexer": "ipython3",
   "version": "3.12.4"
  }
 },
 "nbformat": 4,
 "nbformat_minor": 5
}
