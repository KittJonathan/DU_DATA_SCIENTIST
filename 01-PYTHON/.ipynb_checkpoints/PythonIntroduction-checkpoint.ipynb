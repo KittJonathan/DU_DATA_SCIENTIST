{
 "cells": [
  {
   "cell_type": "markdown",
   "id": "9a799c97-1ecc-40e2-a284-0a1f1e3f004f",
   "metadata": {},
   "source": [
    "# 1. Practical introduction to Python\n",
    "## 1.1. General information"
   ]
  },
  {
   "cell_type": "code",
   "execution_count": 7,
   "id": "8d76ddc5-cb56-4a79-bc1f-719f7afac0c3",
   "metadata": {},
   "outputs": [
    {
     "name": "stdout",
     "output_type": "stream",
     "text": [
      "x = 2 and y = 3\n"
     ]
    }
   ],
   "source": [
    "x = 2\n",
    "y = 3\n",
    "print('x = {} and y = {}'.format(x, y))"
   ]
  },
  {
   "cell_type": "code",
   "execution_count": 9,
   "id": "5198ea4f-83d3-4929-9101-11bedbfb9f9a",
   "metadata": {},
   "outputs": [
    {
     "name": "stdout",
     "output_type": "stream",
     "text": [
      "x = 2 and y = 3\n"
     ]
    }
   ],
   "source": [
    "print(f'x = {x} and y = {y}')"
   ]
  },
  {
   "cell_type": "markdown",
   "id": "990c06cb-6cb3-4512-af49-95de877078da",
   "metadata": {},
   "source": [
    "## 1.2. Object types"
   ]
  },
  {
   "cell_type": "code",
   "execution_count": 12,
   "id": "77155223-0d29-4fc6-8a43-a52c68436a01",
   "metadata": {},
   "outputs": [
    {
     "name": "stdout",
     "output_type": "stream",
     "text": [
      "5.140000000000001\n",
      "8.815240927012887\n"
     ]
    }
   ],
   "source": [
    "# Basic numbers and operations\n",
    "a = 2\n",
    "b = 3.14\n",
    "print(a+b)\n",
    "print(a**b)"
   ]
  },
  {
   "cell_type": "code",
   "execution_count": 14,
   "id": "d40bae7f-7151-4cf2-9164-d5f5bdfdcb5d",
   "metadata": {},
   "outputs": [
    {
     "data": {
      "text/plain": [
       "(-1+0j)"
      ]
     },
     "execution_count": 14,
     "metadata": {},
     "output_type": "execute_result"
    }
   ],
   "source": [
    "# Complex numbers and power\n",
    "a = 1j\n",
    "a**2"
   ]
  },
  {
   "cell_type": "code",
   "execution_count": 16,
   "id": "cbf2d4c2-99c3-45bd-b1b1-7dec020bcd2b",
   "metadata": {},
   "outputs": [
    {
     "name": "stdout",
     "output_type": "stream",
     "text": [
      "10 = 2x4 + 2\n"
     ]
    }
   ],
   "source": [
    "# Integer division example (// and % operators)\n",
    "a, b = 10, 4\n",
    "divisor, rest = a//b, a%b\n",
    "print('{} = {}x{} + {}'.format(a, divisor, b, rest))"
   ]
  },
  {
   "cell_type": "code",
   "execution_count": 20,
   "id": "05508213-70bb-418f-ba86-f522a7316df7",
   "metadata": {},
   "outputs": [
    {
     "name": "stdout",
     "output_type": "stream",
     "text": [
      "hello 5 l\n"
     ]
    }
   ],
   "source": [
    "# Strings\n",
    "w1 = 'hello'\n",
    "print(w1, len(w1), w1[3])"
   ]
  },
  {
   "cell_type": "code",
   "execution_count": 22,
   "id": "9fd39e12-a620-4d4b-b361-6c46d49f255d",
   "metadata": {},
   "outputs": [
    {
     "name": "stdout",
     "output_type": "stream",
     "text": [
      "hello world\n"
     ]
    }
   ],
   "source": [
    "# Summing strings is possible (all other operations don't work)\n",
    "blank, w2 = ' ', 'world'\n",
    "sentence = w1 + blank + w2\n",
    "print(sentence)"
   ]
  },
  {
   "cell_type": "code",
   "execution_count": 24,
   "id": "f5e36809-9756-4c01-beb2-ba3d8414d3ba",
   "metadata": {},
   "outputs": [
    {
     "name": "stdout",
     "output_type": "stream",
     "text": [
      "hello worldhello worldhello world\n"
     ]
    }
   ],
   "source": [
    "# Multiplying a string by an integer is also possible\n",
    "repetition = sentence * 3\n",
    "print(repetition)"
   ]
  },
  {
   "cell_type": "code",
   "execution_count": 26,
   "id": "c1e914ea-b531-4d06-af14-8fe35c1f81a0",
   "metadata": {},
   "outputs": [
    {
     "name": "stdout",
     "output_type": "stream",
     "text": [
      "['It', 'is', 'rainy', 'today']\n"
     ]
    }
   ],
   "source": [
    "# Get a list of words from a sentence (cf. below for list objects)\n",
    "s = 'It is rainy today'\n",
    "list_words = s.split(' ')\n",
    "print(list_words)"
   ]
  },
  {
   "cell_type": "code",
   "execution_count": 28,
   "id": "fe1808a7-d20d-4beb-8d2d-654f9df1d271",
   "metadata": {},
   "outputs": [
    {
     "name": "stdout",
     "output_type": "stream",
     "text": [
      "It 2\n",
      "is 2\n",
      "rainy 5\n",
      "today 5\n"
     ]
    }
   ],
   "source": [
    "# Loop over the words and get the number of letters\n",
    "for w in s.split(' '):\n",
    "    print(w, len(w))"
   ]
  },
  {
   "cell_type": "markdown",
   "id": "02cd3e65-5299-4290-aa4a-e4135722772a",
   "metadata": {},
   "source": [
    "## 1.3. Object collections"
   ]
  },
  {
   "cell_type": "markdown",
   "id": "115cde6c-bc75-4b93-8afd-a0ff2b032e5d",
   "metadata": {},
   "source": [
    "### 1.3.1. Lists"
   ]
  },
  {
   "cell_type": "code",
   "execution_count": 42,
   "id": "3937cf75-163f-482d-a15c-40d3e846042e",
   "metadata": {},
   "outputs": [
    {
     "name": "stdout",
     "output_type": "stream",
     "text": [
      "Second element is 3\n",
      "Number of elements: 4\n",
      "Is 'banana' in the list? True\n"
     ]
    }
   ],
   "source": [
    "# Defining a list and access basic information\n",
    "my_list1 = [1, 3, 4, 'banana']\n",
    "print('Second element is {}'.format(my_list1[1]))\n",
    "print('Number of elements: {}'.format(len(my_list1)))\n",
    "print('Is \\'banana\\' in the list? {}'.format('banana' in my_list1))"
   ]
  },
  {
   "cell_type": "code",
   "execution_count": 46,
   "id": "9aa0a973-3b4f-41d6-a674-c3e24f85e661",
   "metadata": {},
   "outputs": [
    {
     "name": "stdout",
     "output_type": "stream",
     "text": [
      "[1, 3, 4, 'banana', 'string', (1+3j), [100, 1000]]\n"
     ]
    }
   ],
   "source": [
    "# Sum of two lists\n",
    "my_list2 = ['string', 1+3j, [100, 1000]]\n",
    "my_list = my_list1 + my_list2\n",
    "print(my_list)"
   ]
  },
  {
   "cell_type": "code",
   "execution_count": 48,
   "id": "d2b6cf6e-559f-4486-b344-d6e9b9ba3185",
   "metadata": {},
   "outputs": [
    {
     "name": "stdout",
     "output_type": "stream",
     "text": [
      "[1, 3, 4, 'banana', 'string', (1+3j), [100, 1000], 1, 3, 4, 'banana', 'string', (1+3j), [100, 1000]]\n"
     ]
    }
   ],
   "source": [
    "# List multiplied by an integer\n",
    "my_list = my_list*2\n",
    "print(my_list)"
   ]
  },
  {
   "cell_type": "code",
   "execution_count": 50,
   "id": "55df7150-28fe-4321-b8fe-3e5272e3726f",
   "metadata": {},
   "outputs": [
    {
     "name": "stdout",
     "output_type": "stream",
     "text": [
      "[100, 1000] is <class 'list'>\n",
      "(1+3j) is <class 'complex'>\n",
      "string is <class 'str'>\n",
      "banana is <class 'str'>\n",
      "4 is <class 'int'>\n",
      "3 is <class 'int'>\n"
     ]
    }
   ],
   "source": [
    "# Looping over list element and print the type of seven first elements in the reversed order\n",
    "for element in my_list[6:0:-1]:\n",
    "    print('{} is {}'.format(element, type(element)))"
   ]
  },
  {
   "cell_type": "markdown",
   "id": "b8e21dd3-f6f3-45cf-b8ba-5e2c5eced551",
   "metadata": {},
   "source": [
    "### 1.3.2. Sets and tuples"
   ]
  },
  {
   "cell_type": "code",
   "execution_count": 52,
   "id": "7daec2b2-c0b5-42c6-9f66-5d779b830463",
   "metadata": {},
   "outputs": [
    {
     "name": "stdout",
     "output_type": "stream",
     "text": [
      "(1, 3, 7)\n"
     ]
    }
   ],
   "source": [
    "# Tuple\n",
    "t = (1, 3, 7)\n",
    "print(t)"
   ]
  },
  {
   "cell_type": "code",
   "execution_count": 54,
   "id": "9227660c-c933-4005-a08b-6135f689b2fa",
   "metadata": {},
   "outputs": [
    {
     "name": "stdout",
     "output_type": "stream",
     "text": [
      "7\n"
     ]
    }
   ],
   "source": [
    "# Access the third element\n",
    "print(t[2])"
   ]
  },
  {
   "cell_type": "code",
   "execution_count": 60,
   "id": "4c298e5b-996d-4977-bd1a-c1d311d4afff",
   "metadata": {},
   "outputs": [
    {
     "name": "stdout",
     "output_type": "stream",
     "text": [
      "Impossible to change the value of a tuple\n"
     ]
    }
   ],
   "source": [
    "# Try to modify the second element - using the 'try - except' syntax\n",
    "try:\n",
    "    t[1] = 'hello'\n",
    "except TypeError:\n",
    "    print('Impossible to change the value of a tuple')"
   ]
  },
  {
   "cell_type": "code",
   "execution_count": 74,
   "id": "dfd67d52-9fc2-45be-b351-5975104f4933",
   "metadata": {},
   "outputs": [
    {
     "name": "stdout",
     "output_type": "stream",
     "text": [
      "{'banana', 'orange', 'apple'}\n",
      "{'banana', 'orange', 'apple', 'pineapple'}\n",
      "{'prune', 'apple', 'orange', 'pear', 'pineapple', 'banana'}\n"
     ]
    }
   ],
   "source": [
    "# Set\n",
    "s = {'apple', 'banana', 'orange'}\n",
    "print(s)\n",
    "\n",
    "# Add one element\n",
    "s.add('pineapple')\n",
    "print(s)\n",
    "\n",
    "# Add a list\n",
    "s.update(['pear', 'prune'])\n",
    "print(s)"
   ]
  },
  {
   "cell_type": "code",
   "execution_count": 84,
   "id": "9751f240-b954-4bfc-87c9-5e916d06a2d8",
   "metadata": {},
   "outputs": [
    {
     "name": "stdout",
     "output_type": "stream",
     "text": [
      "Impossible to access element via indexing\n"
     ]
    }
   ],
   "source": [
    "# Try to access the second element - using the 'try - except' syntax\n",
    "try:\n",
    "    print(s[1])\n",
    "except TypeError:\n",
    "    print('Impossible to access element via indexing')"
   ]
  },
  {
   "cell_type": "markdown",
   "id": "54b62795-37da-4a6e-809b-fe260af9375b",
   "metadata": {},
   "source": [
    "### 1.3.3. Dictionaries"
   ]
  },
  {
   "cell_type": "code",
   "execution_count": 87,
   "id": "24383c4b-fbc3-4e30-afd4-cb85ffcc48e0",
   "metadata": {},
   "outputs": [
    {
     "name": "stdout",
     "output_type": "stream",
     "text": [
      "{'name': 'Charles', 'age': 78, 'size': 173, 'gender': 'M'}\n"
     ]
    }
   ],
   "source": [
    "# dictionary\n",
    "person = {'name': 'Charles', 'age':78, 'size':173, 'gender':'M'}\n",
    "print(person)"
   ]
  },
  {
   "cell_type": "code",
   "execution_count": 91,
   "id": "46d9b68a-3380-410e-b415-2357950dfdea",
   "metadata": {},
   "outputs": [
    {
     "name": "stdout",
     "output_type": "stream",
     "text": [
      "Charles (M) is 78 years old and is 173 cm\n"
     ]
    }
   ],
   "source": [
    "# Accessing value using the key\n",
    "template = '{} ({}) is {} years old and is {} cm'\n",
    "print(template.format(person['name'], person['gender'], person['age'], person['size']))"
   ]
  },
  {
   "cell_type": "code",
   "execution_count": 93,
   "id": "c559017f-885a-4cee-a6f9-d94ff630a5a5",
   "metadata": {},
   "outputs": [
    {
     "name": "stdout",
     "output_type": "stream",
     "text": [
      "{'name': 'Charles', 'age': 78, 'size': 173, 'gender': 'M', 'eyes': 'blue'}\n"
     ]
    }
   ],
   "source": [
    "# Adding a key and its value\n",
    "person['eyes'] = 'blue'\n",
    "print(person)"
   ]
  },
  {
   "cell_type": "code",
   "execution_count": 95,
   "id": "bee32f24-e68f-4ad4-aeb7-c4e689e73611",
   "metadata": {},
   "outputs": [
    {
     "name": "stdout",
     "output_type": "stream",
     "text": [
      "True\n",
      "False\n"
     ]
    }
   ],
   "source": [
    "# Test if a key is present\n",
    "print('name' in person)\n",
    "print('brand' in person)"
   ]
  },
  {
   "cell_type": "markdown",
   "id": "ff29e6ae-a359-48cc-88e9-ffd3549908ee",
   "metadata": {},
   "source": [
    "## 1.4. Loops"
   ]
  },
  {
   "cell_type": "markdown",
   "id": "551f2982-7134-4a82-a1ae-1897c4886bb8",
   "metadata": {},
   "source": [
    "### 1.4.1. for loops"
   ]
  },
  {
   "cell_type": "code",
   "execution_count": 101,
   "id": "96bddd42-5e1e-4555-a9c6-09c4ae97fb17",
   "metadata": {},
   "outputs": [
    {
     "name": "stdout",
     "output_type": "stream",
     "text": [
      "0\n",
      "1\n",
      "5\n",
      "14\n",
      "30\n",
      "55\n",
      "91\n",
      "140\n",
      "204\n",
      "285\n"
     ]
    }
   ],
   "source": [
    "# Compute sum(i^2) for i from 0 to 9\n",
    "x = 0\n",
    "for i in range(0, 10):\n",
    "    x += i**2\n",
    "    print(x)"
   ]
  },
  {
   "cell_type": "code",
   "execution_count": 105,
   "id": "7fc27664-d0a2-4d59-a1de-749d7f606589",
   "metadata": {},
   "outputs": [
    {
     "name": "stdout",
     "output_type": "stream",
     "text": [
      "prune\n",
      "apple\n",
      "pear\n",
      "pineapple\n"
     ]
    }
   ],
   "source": [
    "# Loop over fruit via a set and print only ones with a 'p'\n",
    "for fruit in s:\n",
    "    if 'p' in fruit:\n",
    "        print(fruit)"
   ]
  },
  {
   "cell_type": "code",
   "execution_count": 107,
   "id": "77d62238-174c-4139-b27f-afc6e17429c5",
   "metadata": {},
   "outputs": [
    {
     "name": "stdout",
     "output_type": "stream",
     "text": [
      "name: Charles\n",
      "age: 78\n",
      "size: 173\n",
      "gender: M\n",
      "eyes: blue\n"
     ]
    }
   ],
   "source": [
    "# Loop over keys for a dictionary and access the value of each\n",
    "for properties in person:\n",
    "    value = person[properties]\n",
    "    print('{}: {}'.format(properties, value))"
   ]
  },
  {
   "cell_type": "code",
   "execution_count": 109,
   "id": "246731d6-4998-4888-a88a-64148d5791b9",
   "metadata": {},
   "outputs": [
    {
     "name": "stdout",
     "output_type": "stream",
     "text": [
      "Charles\n",
      "78\n",
      "173\n",
      "M\n",
      "blue\n"
     ]
    }
   ],
   "source": [
    "# Loop over dictionary values only\n",
    "for v in person.values():\n",
    "    print(v)"
   ]
  },
  {
   "cell_type": "code",
   "execution_count": 111,
   "id": "18b0b02e-56a2-4fd2-a4e1-677593015076",
   "metadata": {},
   "outputs": [
    {
     "name": "stdout",
     "output_type": "stream",
     "text": [
      "name: Charles\n",
      "age: 78\n",
      "size: 173\n",
      "gender: M\n",
      "eyes: blue\n"
     ]
    }
   ],
   "source": [
    "# Loop over both keys and values directly\n",
    "for key, value in person.items():\n",
    "    print('{}: {}'.format(key, value))"
   ]
  },
  {
   "cell_type": "code",
   "execution_count": 115,
   "id": "6dedbffc-fcc0-4732-b575-05ae2cd8664c",
   "metadata": {},
   "outputs": [
    {
     "name": "stdout",
     "output_type": "stream",
     "text": [
      "Jean 12\n",
      "Chloe 17\n",
      "Olivier 8\n",
      "Helene 10\n"
     ]
    }
   ],
   "source": [
    "# Define a dictionary\n",
    "students_marks = {\n",
    "    'Jean': 12,\n",
    "    'Chloe': 17,\n",
    "    'Olivier': 8,\n",
    "    'Helene': 10\n",
    "}\n",
    "\n",
    "# Print the key, values items\n",
    "for name, mark in students_marks.items():\n",
    "    print(name, mark)"
   ]
  },
  {
   "cell_type": "code",
   "execution_count": 123,
   "id": "68f4f3cd-0d2c-4683-9e90-8b62732376fa",
   "metadata": {},
   "outputs": [
    {
     "name": "stdout",
     "output_type": "stream",
     "text": [
      "('Jacques', 12) has a a mark of 12 and J as 1st letter\n"
     ]
    }
   ],
   "source": [
    "# Order it by increasing marks\n",
    "def get_mark(item):\n",
    "    return item[1]\n",
    "\n",
    "# Or by the first letter of the name\n",
    "def get_name(item):\n",
    "    return item[0][0]\n",
    "\n",
    "# Testing with an item\n",
    "item_test = ('Jacques', 12)\n",
    "print('{} has a a mark of {} and {} as 1st letter'.format(item_test, get_mark(item_test), get_name(item_test)))"
   ]
  },
  {
   "cell_type": "code",
   "execution_count": 127,
   "id": "0e6ec49d-bd1c-4752-a96a-acbb24b583c5",
   "metadata": {},
   "outputs": [],
   "source": [
    "# Get all items and sort them by increasing mark\n",
    "all_items = students_marks.items()\n",
    "items_sorted_by_marks = sorted(all_items, key=get_mark)\n",
    "items_sorted_by_names = sorted(all_items, key=get_name)"
   ]
  },
  {
   "cell_type": "code",
   "execution_count": 129,
   "id": "72cafc17-a3d4-45a3-aac1-bd4764301420",
   "metadata": {},
   "outputs": [],
   "source": [
    "# Check the version of Python\n",
    "import sys\n",
    "version = sys.version_info[0]\n",
    "isPython2 = version == 2"
   ]
  },
  {
   "cell_type": "code",
   "execution_count": 133,
   "id": "2e907677-a9c3-4214-84e9-ed4a2bae96ce",
   "metadata": {},
   "outputs": [],
   "source": [
    "# Final conversion of collection of items into a dictionary\n",
    "if isPython2:\n",
    "    from collections import OrderedDict\n",
    "    marks_sorted_dict = OrderedDict(items_sorted_by_marks)\n",
    "    names_sorted_dict = OrderedDict(items_sorted_by_names)\n",
    "\n",
    "else:\n",
    "    marks_sorted_dict = {k: v for k, v in items_sorted_by_marks}\n",
    "    names_sorted_dict = {k: v for k, v in items_sorted_by_names}"
   ]
  },
  {
   "cell_type": "code",
   "execution_count": 135,
   "id": "f2205bc1-757b-4bb4-a77a-fcfeb8e6e44e",
   "metadata": {},
   "outputs": [
    {
     "name": "stdout",
     "output_type": "stream",
     "text": [
      "Olivier 8\n",
      "Helene 10\n",
      "Jean 12\n",
      "Chloe 17\n"
     ]
    }
   ],
   "source": [
    "# Check the mark sorted results:\n",
    "for k, v in marks_sorted_dict.items():\n",
    "    print(k, v)"
   ]
  },
  {
   "cell_type": "code",
   "execution_count": 137,
   "id": "8dfa2307-c25b-4568-873e-45e0461163ed",
   "metadata": {},
   "outputs": [
    {
     "name": "stdout",
     "output_type": "stream",
     "text": [
      "Chloe 17\n",
      "Helene 10\n",
      "Jean 12\n",
      "Olivier 8\n"
     ]
    }
   ],
   "source": [
    "# Check the name sorted results:\n",
    "for k, v in names_sorted_dict.items():\n",
    "    print(k, v)"
   ]
  },
  {
   "cell_type": "markdown",
   "id": "1b665cb3-bc20-4df4-b457-859d53ccdfc1",
   "metadata": {},
   "source": [
    "### 1.4.2. while loops"
   ]
  },
  {
   "cell_type": "code",
   "execution_count": 140,
   "id": "3a99b44d-d6f3-4aca-a8f1-f89c66dab8c8",
   "metadata": {},
   "outputs": [],
   "source": [
    "# Cast (ie change type) the set s into a list\n",
    "my_list = list(s)"
   ]
  },
  {
   "cell_type": "code",
   "execution_count": 142,
   "id": "b649df80-db34-47fe-ad6f-2b38eccb47a5",
   "metadata": {},
   "outputs": [
    {
     "name": "stdout",
     "output_type": "stream",
     "text": [
      "['prune', 'apple', 'orange', 'pear', 'pineapple']\n",
      "['prune', 'apple', 'orange', 'pear']\n",
      "['prune', 'apple', 'orange']\n",
      "['prune', 'apple']\n",
      "['prune']\n",
      "[]\n"
     ]
    }
   ],
   "source": [
    "# Remove items one by one until there are no items left\n",
    "while len(my_list) > 0:\n",
    "    my_list.pop()\n",
    "    print(my_list)"
   ]
  },
  {
   "cell_type": "markdown",
   "id": "2ae53b1a-9e8f-4cbb-bf77-f649f2fa12ad",
   "metadata": {},
   "source": [
    "## 1.5. A few Python syntax typs"
   ]
  },
  {
   "cell_type": "code",
   "execution_count": null,
   "id": "a4dfa06b-90d9-4380-95ce-978dc37cf502",
   "metadata": {},
   "outputs": [],
   "source": []
  }
 ],
 "metadata": {
  "kernelspec": {
   "display_name": "Python 3 (ipykernel)",
   "language": "python",
   "name": "python3"
  },
  "language_info": {
   "codemirror_mode": {
    "name": "ipython",
    "version": 3
   },
   "file_extension": ".py",
   "mimetype": "text/x-python",
   "name": "python",
   "nbconvert_exporter": "python",
   "pygments_lexer": "ipython3",
   "version": "3.12.4"
  }
 },
 "nbformat": 4,
 "nbformat_minor": 5
}
