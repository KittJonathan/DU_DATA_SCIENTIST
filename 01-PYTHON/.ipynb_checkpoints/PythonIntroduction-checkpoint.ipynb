{
 "cells": [
  {
   "cell_type": "markdown",
   "id": "9a799c97-1ecc-40e2-a284-0a1f1e3f004f",
   "metadata": {},
   "source": [
    "# 1. Practical introduction to Python\n",
    "## 1.1. General information"
   ]
  },
  {
   "cell_type": "code",
   "execution_count": 7,
   "id": "8d76ddc5-cb56-4a79-bc1f-719f7afac0c3",
   "metadata": {},
   "outputs": [
    {
     "name": "stdout",
     "output_type": "stream",
     "text": [
      "x = 2 and y = 3\n"
     ]
    }
   ],
   "source": [
    "x = 2\n",
    "y = 3\n",
    "print('x = {} and y = {}'.format(x, y))"
   ]
  },
  {
   "cell_type": "code",
   "execution_count": 9,
   "id": "5198ea4f-83d3-4929-9101-11bedbfb9f9a",
   "metadata": {},
   "outputs": [
    {
     "name": "stdout",
     "output_type": "stream",
     "text": [
      "x = 2 and y = 3\n"
     ]
    }
   ],
   "source": [
    "print(f'x = {x} and y = {y}')"
   ]
  },
  {
   "cell_type": "markdown",
   "id": "990c06cb-6cb3-4512-af49-95de877078da",
   "metadata": {},
   "source": [
    "## 1.2. Object types"
   ]
  },
  {
   "cell_type": "code",
   "execution_count": 12,
   "id": "77155223-0d29-4fc6-8a43-a52c68436a01",
   "metadata": {},
   "outputs": [
    {
     "name": "stdout",
     "output_type": "stream",
     "text": [
      "5.140000000000001\n",
      "8.815240927012887\n"
     ]
    }
   ],
   "source": [
    "# Basic numbers and operations\n",
    "a = 2\n",
    "b = 3.14\n",
    "print(a+b)\n",
    "print(a**b)"
   ]
  },
  {
   "cell_type": "code",
   "execution_count": 14,
   "id": "d40bae7f-7151-4cf2-9164-d5f5bdfdcb5d",
   "metadata": {},
   "outputs": [
    {
     "data": {
      "text/plain": [
       "(-1+0j)"
      ]
     },
     "execution_count": 14,
     "metadata": {},
     "output_type": "execute_result"
    }
   ],
   "source": [
    "# Complex numbers and power\n",
    "a = 1j\n",
    "a**2"
   ]
  },
  {
   "cell_type": "code",
   "execution_count": 16,
   "id": "cbf2d4c2-99c3-45bd-b1b1-7dec020bcd2b",
   "metadata": {},
   "outputs": [
    {
     "name": "stdout",
     "output_type": "stream",
     "text": [
      "10 = 2x4 + 2\n"
     ]
    }
   ],
   "source": [
    "# Integer division example (// and % operators)\n",
    "a, b = 10, 4\n",
    "divisor, rest = a//b, a%b\n",
    "print('{} = {}x{} + {}'.format(a, divisor, b, rest))"
   ]
  },
  {
   "cell_type": "code",
   "execution_count": 20,
   "id": "05508213-70bb-418f-ba86-f522a7316df7",
   "metadata": {},
   "outputs": [
    {
     "name": "stdout",
     "output_type": "stream",
     "text": [
      "hello 5 l\n"
     ]
    }
   ],
   "source": [
    "# Strings\n",
    "w1 = 'hello'\n",
    "print(w1, len(w1), w1[3])"
   ]
  },
  {
   "cell_type": "code",
   "execution_count": 22,
   "id": "9fd39e12-a620-4d4b-b361-6c46d49f255d",
   "metadata": {},
   "outputs": [
    {
     "name": "stdout",
     "output_type": "stream",
     "text": [
      "hello world\n"
     ]
    }
   ],
   "source": [
    "# Summing strings is possible (all other operations don't work)\n",
    "blank, w2 = ' ', 'world'\n",
    "sentence = w1 + blank + w2\n",
    "print(sentence)"
   ]
  },
  {
   "cell_type": "code",
   "execution_count": 24,
   "id": "f5e36809-9756-4c01-beb2-ba3d8414d3ba",
   "metadata": {},
   "outputs": [
    {
     "name": "stdout",
     "output_type": "stream",
     "text": [
      "hello worldhello worldhello world\n"
     ]
    }
   ],
   "source": [
    "# Multiplying a string by an integer is also possible\n",
    "repetition = sentence * 3\n",
    "print(repetition)"
   ]
  },
  {
   "cell_type": "code",
   "execution_count": 26,
   "id": "c1e914ea-b531-4d06-af14-8fe35c1f81a0",
   "metadata": {},
   "outputs": [
    {
     "name": "stdout",
     "output_type": "stream",
     "text": [
      "['It', 'is', 'rainy', 'today']\n"
     ]
    }
   ],
   "source": [
    "# Get a list of words from a sentence (cf. below for list objects)\n",
    "s = 'It is rainy today'\n",
    "list_words = s.split(' ')\n",
    "print(list_words)"
   ]
  },
  {
   "cell_type": "code",
   "execution_count": 28,
   "id": "fe1808a7-d20d-4beb-8d2d-654f9df1d271",
   "metadata": {},
   "outputs": [
    {
     "name": "stdout",
     "output_type": "stream",
     "text": [
      "It 2\n",
      "is 2\n",
      "rainy 5\n",
      "today 5\n"
     ]
    }
   ],
   "source": [
    "# Loop over the words and get the number of letters\n",
    "for w in s.split(' '):\n",
    "    print(w, len(w))"
   ]
  },
  {
   "cell_type": "markdown",
   "id": "02cd3e65-5299-4290-aa4a-e4135722772a",
   "metadata": {},
   "source": [
    "## 1.3. Object collections"
   ]
  },
  {
   "cell_type": "markdown",
   "id": "115cde6c-bc75-4b93-8afd-a0ff2b032e5d",
   "metadata": {},
   "source": [
    "### 1.3.1. Lists"
   ]
  },
  {
   "cell_type": "code",
   "execution_count": 42,
   "id": "3937cf75-163f-482d-a15c-40d3e846042e",
   "metadata": {},
   "outputs": [
    {
     "name": "stdout",
     "output_type": "stream",
     "text": [
      "Second element is 3\n",
      "Number of elements: 4\n",
      "Is 'banana' in the list? True\n"
     ]
    }
   ],
   "source": [
    "# Defining a list and access basic information\n",
    "my_list1 = [1, 3, 4, 'banana']\n",
    "print('Second element is {}'.format(my_list1[1]))\n",
    "print('Number of elements: {}'.format(len(my_list1)))\n",
    "print('Is \\'banana\\' in the list? {}'.format('banana' in my_list1))"
   ]
  },
  {
   "cell_type": "code",
   "execution_count": 46,
   "id": "9aa0a973-3b4f-41d6-a674-c3e24f85e661",
   "metadata": {},
   "outputs": [
    {
     "name": "stdout",
     "output_type": "stream",
     "text": [
      "[1, 3, 4, 'banana', 'string', (1+3j), [100, 1000]]\n"
     ]
    }
   ],
   "source": [
    "# Sum of two lists\n",
    "my_list2 = ['string', 1+3j, [100, 1000]]\n",
    "my_list = my_list1 + my_list2\n",
    "print(my_list)"
   ]
  },
  {
   "cell_type": "code",
   "execution_count": 48,
   "id": "d2b6cf6e-559f-4486-b344-d6e9b9ba3185",
   "metadata": {},
   "outputs": [
    {
     "name": "stdout",
     "output_type": "stream",
     "text": [
      "[1, 3, 4, 'banana', 'string', (1+3j), [100, 1000], 1, 3, 4, 'banana', 'string', (1+3j), [100, 1000]]\n"
     ]
    }
   ],
   "source": [
    "# List multiplied by an integer\n",
    "my_list = my_list*2\n",
    "print(my_list)"
   ]
  },
  {
   "cell_type": "code",
   "execution_count": 50,
   "id": "55df7150-28fe-4321-b8fe-3e5272e3726f",
   "metadata": {},
   "outputs": [
    {
     "name": "stdout",
     "output_type": "stream",
     "text": [
      "[100, 1000] is <class 'list'>\n",
      "(1+3j) is <class 'complex'>\n",
      "string is <class 'str'>\n",
      "banana is <class 'str'>\n",
      "4 is <class 'int'>\n",
      "3 is <class 'int'>\n"
     ]
    }
   ],
   "source": [
    "# Looping over list element and print the type of seven first elements in the reversed order\n",
    "for element in my_list[6:0:-1]:\n",
    "    print('{} is {}'.format(element, type(element)))"
   ]
  },
  {
   "cell_type": "markdown",
   "id": "b8e21dd3-f6f3-45cf-b8ba-5e2c5eced551",
   "metadata": {},
   "source": [
    "### 1.3.2. Sets and tuples"
   ]
  },
  {
   "cell_type": "code",
   "execution_count": 52,
   "id": "7daec2b2-c0b5-42c6-9f66-5d779b830463",
   "metadata": {},
   "outputs": [
    {
     "name": "stdout",
     "output_type": "stream",
     "text": [
      "(1, 3, 7)\n"
     ]
    }
   ],
   "source": [
    "# Tuple\n",
    "t = (1, 3, 7)\n",
    "print(t)"
   ]
  },
  {
   "cell_type": "code",
   "execution_count": 54,
   "id": "9227660c-c933-4005-a08b-6135f689b2fa",
   "metadata": {},
   "outputs": [
    {
     "name": "stdout",
     "output_type": "stream",
     "text": [
      "7\n"
     ]
    }
   ],
   "source": [
    "# Access the third element\n",
    "print(t[2])"
   ]
  },
  {
   "cell_type": "code",
   "execution_count": 60,
   "id": "4c298e5b-996d-4977-bd1a-c1d311d4afff",
   "metadata": {},
   "outputs": [
    {
     "name": "stdout",
     "output_type": "stream",
     "text": [
      "Impossible to change the value of a tuple\n"
     ]
    }
   ],
   "source": [
    "# Try to modify the second element - using the 'try - except' syntax\n",
    "try:\n",
    "    t[1] = 'hello'\n",
    "except TypeError:\n",
    "    print('Impossible to change the value of a tuple')"
   ]
  },
  {
   "cell_type": "code",
   "execution_count": 74,
   "id": "dfd67d52-9fc2-45be-b351-5975104f4933",
   "metadata": {},
   "outputs": [
    {
     "name": "stdout",
     "output_type": "stream",
     "text": [
      "{'banana', 'orange', 'apple'}\n",
      "{'banana', 'orange', 'apple', 'pineapple'}\n",
      "{'prune', 'apple', 'orange', 'pear', 'pineapple', 'banana'}\n"
     ]
    }
   ],
   "source": [
    "# Set\n",
    "s = {'apple', 'banana', 'orange'}\n",
    "print(s)\n",
    "\n",
    "# Add one element\n",
    "s.add('pineapple')\n",
    "print(s)\n",
    "\n",
    "# Add a list\n",
    "s.update(['pear', 'prune'])\n",
    "print(s)"
   ]
  },
  {
   "cell_type": "code",
   "execution_count": 84,
   "id": "9751f240-b954-4bfc-87c9-5e916d06a2d8",
   "metadata": {},
   "outputs": [
    {
     "name": "stdout",
     "output_type": "stream",
     "text": [
      "Impossible to access element via indexing\n"
     ]
    }
   ],
   "source": [
    "# Try to access the second element - using the 'try - except' syntax\n",
    "try:\n",
    "    print(s[1])\n",
    "except TypeError:\n",
    "    print('Impossible to access element via indexing')"
   ]
  },
  {
   "cell_type": "markdown",
   "id": "54b62795-37da-4a6e-809b-fe260af9375b",
   "metadata": {},
   "source": [
    "### 1.3.3. Dictionaries"
   ]
  },
  {
   "cell_type": "code",
   "execution_count": 43,
   "id": "24383c4b-fbc3-4e30-afd4-cb85ffcc48e0",
   "metadata": {},
   "outputs": [
    {
     "name": "stdout",
     "output_type": "stream",
     "text": [
      "{'name': 'Charles', 'age': 78, 'size': 173, 'gender': 'M'}\n"
     ]
    }
   ],
   "source": [
    "# dictionary\n",
    "person = {'name': 'Charles', 'age':78, 'size':173, 'gender':'M'}\n",
    "print(person)"
   ]
  },
  {
   "cell_type": "code",
   "execution_count": 45,
   "id": "46d9b68a-3380-410e-b415-2357950dfdea",
   "metadata": {},
   "outputs": [
    {
     "name": "stdout",
     "output_type": "stream",
     "text": [
      "Charles (M) is 78 years old and is 173 cm\n"
     ]
    }
   ],
   "source": [
    "# Accessing value using the key\n",
    "template = '{} ({}) is {} years old and is {} cm'\n",
    "print(template.format(person['name'], person['gender'], person['age'], person['size']))"
   ]
  },
  {
   "cell_type": "code",
   "execution_count": 47,
   "id": "c559017f-885a-4cee-a6f9-d94ff630a5a5",
   "metadata": {},
   "outputs": [
    {
     "name": "stdout",
     "output_type": "stream",
     "text": [
      "{'name': 'Charles', 'age': 78, 'size': 173, 'gender': 'M', 'eyes': 'blue'}\n"
     ]
    }
   ],
   "source": [
    "# Adding a key and its value\n",
    "person['eyes'] = 'blue'\n",
    "print(person)"
   ]
  },
  {
   "cell_type": "code",
   "execution_count": 95,
   "id": "bee32f24-e68f-4ad4-aeb7-c4e689e73611",
   "metadata": {},
   "outputs": [
    {
     "name": "stdout",
     "output_type": "stream",
     "text": [
      "True\n",
      "False\n"
     ]
    }
   ],
   "source": [
    "# Test if a key is present\n",
    "print('name' in person)\n",
    "print('brand' in person)"
   ]
  },
  {
   "cell_type": "markdown",
   "id": "ff29e6ae-a359-48cc-88e9-ffd3549908ee",
   "metadata": {},
   "source": [
    "## 1.4. Loops"
   ]
  },
  {
   "cell_type": "markdown",
   "id": "551f2982-7134-4a82-a1ae-1897c4886bb8",
   "metadata": {},
   "source": [
    "### 1.4.1. for loops"
   ]
  },
  {
   "cell_type": "code",
   "execution_count": 101,
   "id": "96bddd42-5e1e-4555-a9c6-09c4ae97fb17",
   "metadata": {},
   "outputs": [
    {
     "name": "stdout",
     "output_type": "stream",
     "text": [
      "0\n",
      "1\n",
      "5\n",
      "14\n",
      "30\n",
      "55\n",
      "91\n",
      "140\n",
      "204\n",
      "285\n"
     ]
    }
   ],
   "source": [
    "# Compute sum(i^2) for i from 0 to 9\n",
    "x = 0\n",
    "for i in range(0, 10):\n",
    "    x += i**2\n",
    "    print(x)"
   ]
  },
  {
   "cell_type": "code",
   "execution_count": 105,
   "id": "7fc27664-d0a2-4d59-a1de-749d7f606589",
   "metadata": {},
   "outputs": [
    {
     "name": "stdout",
     "output_type": "stream",
     "text": [
      "prune\n",
      "apple\n",
      "pear\n",
      "pineapple\n"
     ]
    }
   ],
   "source": [
    "# Loop over fruit via a set and print only ones with a 'p'\n",
    "for fruit in s:\n",
    "    if 'p' in fruit:\n",
    "        print(fruit)"
   ]
  },
  {
   "cell_type": "code",
   "execution_count": 107,
   "id": "77d62238-174c-4139-b27f-afc6e17429c5",
   "metadata": {},
   "outputs": [
    {
     "name": "stdout",
     "output_type": "stream",
     "text": [
      "name: Charles\n",
      "age: 78\n",
      "size: 173\n",
      "gender: M\n",
      "eyes: blue\n"
     ]
    }
   ],
   "source": [
    "# Loop over keys for a dictionary and access the value of each\n",
    "for properties in person:\n",
    "    value = person[properties]\n",
    "    print('{}: {}'.format(properties, value))"
   ]
  },
  {
   "cell_type": "code",
   "execution_count": 109,
   "id": "246731d6-4998-4888-a88a-64148d5791b9",
   "metadata": {},
   "outputs": [
    {
     "name": "stdout",
     "output_type": "stream",
     "text": [
      "Charles\n",
      "78\n",
      "173\n",
      "M\n",
      "blue\n"
     ]
    }
   ],
   "source": [
    "# Loop over dictionary values only\n",
    "for v in person.values():\n",
    "    print(v)"
   ]
  },
  {
   "cell_type": "code",
   "execution_count": 111,
   "id": "18b0b02e-56a2-4fd2-a4e1-677593015076",
   "metadata": {},
   "outputs": [
    {
     "name": "stdout",
     "output_type": "stream",
     "text": [
      "name: Charles\n",
      "age: 78\n",
      "size: 173\n",
      "gender: M\n",
      "eyes: blue\n"
     ]
    }
   ],
   "source": [
    "# Loop over both keys and values directly\n",
    "for key, value in person.items():\n",
    "    print('{}: {}'.format(key, value))"
   ]
  },
  {
   "cell_type": "code",
   "execution_count": 115,
   "id": "6dedbffc-fcc0-4732-b575-05ae2cd8664c",
   "metadata": {},
   "outputs": [
    {
     "name": "stdout",
     "output_type": "stream",
     "text": [
      "Jean 12\n",
      "Chloe 17\n",
      "Olivier 8\n",
      "Helene 10\n"
     ]
    }
   ],
   "source": [
    "# Define a dictionary\n",
    "students_marks = {\n",
    "    'Jean': 12,\n",
    "    'Chloe': 17,\n",
    "    'Olivier': 8,\n",
    "    'Helene': 10\n",
    "}\n",
    "\n",
    "# Print the key, values items\n",
    "for name, mark in students_marks.items():\n",
    "    print(name, mark)"
   ]
  },
  {
   "cell_type": "code",
   "execution_count": 123,
   "id": "68f4f3cd-0d2c-4683-9e90-8b62732376fa",
   "metadata": {},
   "outputs": [
    {
     "name": "stdout",
     "output_type": "stream",
     "text": [
      "('Jacques', 12) has a a mark of 12 and J as 1st letter\n"
     ]
    }
   ],
   "source": [
    "# Order it by increasing marks\n",
    "def get_mark(item):\n",
    "    return item[1]\n",
    "\n",
    "# Or by the first letter of the name\n",
    "def get_name(item):\n",
    "    return item[0][0]\n",
    "\n",
    "# Testing with an item\n",
    "item_test = ('Jacques', 12)\n",
    "print('{} has a a mark of {} and {} as 1st letter'.format(item_test, get_mark(item_test), get_name(item_test)))"
   ]
  },
  {
   "cell_type": "code",
   "execution_count": 127,
   "id": "0e6ec49d-bd1c-4752-a96a-acbb24b583c5",
   "metadata": {},
   "outputs": [],
   "source": [
    "# Get all items and sort them by increasing mark\n",
    "all_items = students_marks.items()\n",
    "items_sorted_by_marks = sorted(all_items, key=get_mark)\n",
    "items_sorted_by_names = sorted(all_items, key=get_name)"
   ]
  },
  {
   "cell_type": "code",
   "execution_count": 129,
   "id": "72cafc17-a3d4-45a3-aac1-bd4764301420",
   "metadata": {},
   "outputs": [],
   "source": [
    "# Check the version of Python\n",
    "import sys\n",
    "version = sys.version_info[0]\n",
    "isPython2 = version == 2"
   ]
  },
  {
   "cell_type": "code",
   "execution_count": 133,
   "id": "2e907677-a9c3-4214-84e9-ed4a2bae96ce",
   "metadata": {},
   "outputs": [],
   "source": [
    "# Final conversion of collection of items into a dictionary\n",
    "if isPython2:\n",
    "    from collections import OrderedDict\n",
    "    marks_sorted_dict = OrderedDict(items_sorted_by_marks)\n",
    "    names_sorted_dict = OrderedDict(items_sorted_by_names)\n",
    "\n",
    "else:\n",
    "    marks_sorted_dict = {k: v for k, v in items_sorted_by_marks}\n",
    "    names_sorted_dict = {k: v for k, v in items_sorted_by_names}"
   ]
  },
  {
   "cell_type": "code",
   "execution_count": 135,
   "id": "f2205bc1-757b-4bb4-a77a-fcfeb8e6e44e",
   "metadata": {},
   "outputs": [
    {
     "name": "stdout",
     "output_type": "stream",
     "text": [
      "Olivier 8\n",
      "Helene 10\n",
      "Jean 12\n",
      "Chloe 17\n"
     ]
    }
   ],
   "source": [
    "# Check the mark sorted results:\n",
    "for k, v in marks_sorted_dict.items():\n",
    "    print(k, v)"
   ]
  },
  {
   "cell_type": "code",
   "execution_count": 137,
   "id": "8dfa2307-c25b-4568-873e-45e0461163ed",
   "metadata": {},
   "outputs": [
    {
     "name": "stdout",
     "output_type": "stream",
     "text": [
      "Chloe 17\n",
      "Helene 10\n",
      "Jean 12\n",
      "Olivier 8\n"
     ]
    }
   ],
   "source": [
    "# Check the name sorted results:\n",
    "for k, v in names_sorted_dict.items():\n",
    "    print(k, v)"
   ]
  },
  {
   "cell_type": "markdown",
   "id": "1b665cb3-bc20-4df4-b457-859d53ccdfc1",
   "metadata": {},
   "source": [
    "### 1.4.2. while loops"
   ]
  },
  {
   "cell_type": "code",
   "execution_count": 140,
   "id": "3a99b44d-d6f3-4aca-a8f1-f89c66dab8c8",
   "metadata": {},
   "outputs": [],
   "source": [
    "# Cast (ie change type) the set s into a list\n",
    "my_list = list(s)"
   ]
  },
  {
   "cell_type": "code",
   "execution_count": 142,
   "id": "b649df80-db34-47fe-ad6f-2b38eccb47a5",
   "metadata": {},
   "outputs": [
    {
     "name": "stdout",
     "output_type": "stream",
     "text": [
      "['prune', 'apple', 'orange', 'pear', 'pineapple']\n",
      "['prune', 'apple', 'orange', 'pear']\n",
      "['prune', 'apple', 'orange']\n",
      "['prune', 'apple']\n",
      "['prune']\n",
      "[]\n"
     ]
    }
   ],
   "source": [
    "# Remove items one by one until there are no items left\n",
    "while len(my_list) > 0:\n",
    "    my_list.pop()\n",
    "    print(my_list)"
   ]
  },
  {
   "cell_type": "markdown",
   "id": "2ae53b1a-9e8f-4cbb-bf77-f649f2fa12ad",
   "metadata": {},
   "source": [
    "## 1.5. A few Python syntax typs"
   ]
  },
  {
   "cell_type": "code",
   "execution_count": 3,
   "id": "a4dfa06b-90d9-4380-95ce-978dc37cf502",
   "metadata": {},
   "outputs": [
    {
     "name": "stdout",
     "output_type": "stream",
     "text": [
      "[1, 4, 9, 16, 25, 36, 49, 64, 81]\n",
      "{1: 1, 4: 16, 9: 81, 16: 256, 25: 625}\n"
     ]
    }
   ],
   "source": [
    "# List\n",
    "list_squares = [i**2 for i in range(1, 10)]\n",
    "print(list_squares)\n",
    "\n",
    "# Dictionary\n",
    "dict_squares = {i:i**2 for i in list_squares[0:5]}\n",
    "print(dict_squares)"
   ]
  },
  {
   "cell_type": "code",
   "execution_count": 7,
   "id": "8854fde2-e5f3-4d43-ab17-c6c4b65b8d65",
   "metadata": {},
   "outputs": [
    {
     "name": "stdout",
     "output_type": "stream",
     "text": [
      "[0, 2, 4, 6, 8]\n"
     ]
    }
   ],
   "source": [
    "# Comprehension list with a condition (e.g. keep only if even numbers)\n",
    "list_even = [i for i in range(0, 10) if i%2 == 0]\n",
    "print(list_even)"
   ]
  },
  {
   "cell_type": "code",
   "execution_count": 11,
   "id": "d16da54c-3214-458c-930f-82caea221fc2",
   "metadata": {},
   "outputs": [
    {
     "name": "stdout",
     "output_type": "stream",
     "text": [
      "[0, 1, 2, 3, 4, 10, 11, 12, 13, 14, 20, 21, 22, 23, 24, 30, 31, 32, 33, 34, 40, 41, 42, 43, 44]\n"
     ]
    }
   ],
   "source": [
    "# Comprehension with nested loops\n",
    "sum_integers = [i*10+j for i in range(0, 5) for j in range(0, 5)]\n",
    "print(sum_integers)"
   ]
  },
  {
   "cell_type": "code",
   "execution_count": 25,
   "id": "a63c3ee0-12ec-4235-aa4d-951019d03de1",
   "metadata": {},
   "outputs": [
    {
     "name": "stdout",
     "output_type": "stream",
     "text": [
      "I         : 0\n",
      "would     : 1\n",
      "like      : 2\n",
      "to        : 3\n",
      "analyse   : 4\n",
      "this      : 5\n",
      "sentence  : 6\n",
      "in        : 7\n",
      "terms     : 8\n",
      "of        : 9\n",
      "word      : 10\n",
      "position  : 11\n",
      "['I', 'would', 'like', 'to', 'analyse', 'this', 'sentence', 'in', 'terms', 'of', 'word', 'position']\n"
     ]
    }
   ],
   "source": [
    "# Position of each word in a sentence\n",
    "sentence = 'I would like to analyse this sentence in terms of word position'\n",
    "words = sentence.split(' ')\n",
    "for i, w in enumerate(words):\n",
    "    print(w.ljust(10) + ': ' + str(i))\n",
    "\n",
    "print(words)"
   ]
  },
  {
   "cell_type": "code",
   "execution_count": 27,
   "id": "8456b498-3240-405f-99e6-fc134375ef1b",
   "metadata": {},
   "outputs": [
    {
     "name": "stdout",
     "output_type": "stream",
     "text": [
      "banana is yellow\n",
      "orange is orange\n",
      "pineapple is brown\n",
      "pear is green\n",
      "prune is purple\n"
     ]
    }
   ],
   "source": [
    "# Associate fruits and colors\n",
    "fruits = ['banana', 'orange', 'pineapple', 'pear', 'prune']\n",
    "colors = ['yellow', 'orange', 'brown', 'green', 'purple']\n",
    "for f, c in zip(fruits, colors):\n",
    "    print('{} is {}'.format(f, c))"
   ]
  },
  {
   "cell_type": "code",
   "execution_count": 33,
   "id": "223d1dc7-d7af-4cf5-8c07-89ac77ed1f19",
   "metadata": {},
   "outputs": [
    {
     "name": "stdout",
     "output_type": "stream",
     "text": [
      "0 0 0 0\n",
      "1 10 100 111\n",
      "2 20 200 222\n",
      "3 30 300 333\n",
      "4 40 400 444\n",
      "5 50 500 555\n",
      "6 60 600 666\n",
      "7 70 700 777\n",
      "8 80 800 888\n",
      "9 90 900 999\n"
     ]
    }
   ],
   "source": [
    "# Using zip() with three lists\n",
    "l1, l2, l3 = range(0, 10), range(0, 100, 10), range(0, 1000, 100)\n",
    "for i, j, k in zip(l1, l2, l3):\n",
    "    print(i, j, k, i+j+k)"
   ]
  },
  {
   "cell_type": "markdown",
   "id": "0a0b3cf8-23a9-4c9a-8805-e706a13872b7",
   "metadata": {},
   "source": [
    "## 1.6 Functions"
   ]
  },
  {
   "cell_type": "code",
   "execution_count": 35,
   "id": "be59ccec-46db-45e9-80cb-6d5c8af55207",
   "metadata": {},
   "outputs": [
    {
     "data": {
      "text/plain": [
       "6"
      ]
     },
     "execution_count": 35,
     "metadata": {},
     "output_type": "execute_result"
    }
   ],
   "source": [
    "# Definition syntax\n",
    "def function(argument):\n",
    "    result = argument * 3\n",
    "    return result\n",
    "\n",
    "# Call syntax\n",
    "function(2)"
   ]
  },
  {
   "cell_type": "code",
   "execution_count": 41,
   "id": "88fc702c-25e7-4b29-b491-c054c3725c9b",
   "metadata": {},
   "outputs": [
    {
     "name": "stdout",
     "output_type": "stream",
     "text": [
      "function(10) = 30\n",
      "function('ouh') = ouhouhouh\n"
     ]
    }
   ],
   "source": [
    "# Print the result for two types of arguments\n",
    "print('function(10) = {}'.format(function(10)))\n",
    "print('function(\\'ouh\\') = {}'.format(function('ouh')))"
   ]
  },
  {
   "cell_type": "code",
   "execution_count": 51,
   "id": "55b2ffaf-8577-488a-8b2a-83e511c457ff",
   "metadata": {},
   "outputs": [],
   "source": [
    "def person_printer(p):\n",
    "    template = '{} ({}) is {} years old and is {} cm'\n",
    "    print(template.format(p['name'], p['gender'], p['age'], p['size']))\n",
    "    return\n",
    "\n",
    "def grow_old(p, n_years):\n",
    "\n",
    "    # 1. copy the dictionary person (otherwise p *will* be modified)\n",
    "    res = p.copy()\n",
    "\n",
    "    # 2. Compute the new age and size\n",
    "    new_age = res['age'] + n_years\n",
    "    new_size = res['size'] - n_years * 0.13\n",
    "\n",
    "    # 3. Assign the new age/size to the result\n",
    "    res['age'] = new_age\n",
    "    res['size'] = new_size\n",
    "\n",
    "    # 4. Return the result\n",
    "    return res"
   ]
  },
  {
   "cell_type": "code",
   "execution_count": 55,
   "id": "51336e89-710a-492e-94de-90409bcb52fa",
   "metadata": {},
   "outputs": [
    {
     "name": "stdout",
     "output_type": "stream",
     "text": [
      "Charles (M) is 78 years old and is 173 cm\n",
      "Charles (M) is 88 years old and is 171.7 cm\n"
     ]
    }
   ],
   "source": [
    "# Print before growing old\n",
    "person_printer(person)\n",
    "\n",
    "# Growing old\n",
    "old_guy = grow_old(person, 10)\n",
    "\n",
    "# Print after growing old\n",
    "person_printer(old_guy)"
   ]
  },
  {
   "cell_type": "code",
   "execution_count": 57,
   "id": "b79396ef-0467-4e62-ad81-7dd6c42b4df2",
   "metadata": {},
   "outputs": [],
   "source": [
    "def grow_old(p, n_years):\n",
    "    '''\n",
    "    Take a person dictionary and update the age and the size to make the person older.\n",
    "\n",
    "    Parameters\n",
    "    ----------\n",
    "    p: dictionary\n",
    "        Person object as defined earlier in the code, with at least 'age' (years)\n",
    "        and 'size' (cms) keys, to get older.\n",
    "\n",
    "    n_years: integer\n",
    "        Number of years to be added to the age of the person.\n",
    "\n",
    "    Returns\n",
    "    -------\n",
    "    person: dictionary\n",
    "        Person object as defined earlier in the code with age and size updated as \n",
    "        age -> age + n_years\n",
    "        size -> size - n_years * 0.13\n",
    "    '''\n",
    "\n",
    "    # 1. copy the dictionary person (otherwise p will be modified, which might be problematic)\n",
    "    res = p.copy()\n",
    "\n",
    "    # 2. Compute the new age and size\n",
    "    new_age = res['age'] + n_years\n",
    "    new_size = res['size'] - n_years * 0.13\n",
    "\n",
    "    # 3. Assign the new age/size to the result\n",
    "    res['age'] = new_age\n",
    "    res['size'] = new_size\n",
    "\n",
    "    # 4. Return the result\n",
    "    return res"
   ]
  },
  {
   "cell_type": "code",
   "execution_count": 59,
   "id": "624ea75c-abf5-479b-8af6-651c31f6438c",
   "metadata": {},
   "outputs": [
    {
     "name": "stdout",
     "output_type": "stream",
     "text": [
      "Help on function grow_old in module __main__:\n",
      "\n",
      "grow_old(p, n_years)\n",
      "    Take a person dictionary and update the age and the size to make the person older.\n",
      "\n",
      "    Parameters\n",
      "    ----------\n",
      "    p: dictionary\n",
      "        Person object as defined earlier in the code, with at least 'age' (years)\n",
      "        and 'size' (cms) keys, to get older.\n",
      "\n",
      "    n_years: integer\n",
      "        Number of years to be added to the age of the person.\n",
      "\n",
      "    Returns\n",
      "    -------\n",
      "    person: dictionary\n",
      "        Person object as defined earlier in the code with age and size updated as\n",
      "        age -> age + n_years\n",
      "        size -> size - n_years * 0.13\n",
      "\n"
     ]
    }
   ],
   "source": [
    "help(grow_old)"
   ]
  },
  {
   "cell_type": "code",
   "execution_count": 61,
   "id": "96896baa-af0c-4617-8fe8-da77bfafa2d4",
   "metadata": {},
   "outputs": [],
   "source": [
    "# Test function\n",
    "def mean(a, b, c):\n",
    "    return (a + b + c) / 3 "
   ]
  },
  {
   "cell_type": "code",
   "execution_count": 63,
   "id": "2623ec47-d1fd-4a53-aaa1-19f66a4fb998",
   "metadata": {},
   "outputs": [
    {
     "data": {
      "text/plain": [
       "12.333333333333334"
      ]
     },
     "execution_count": 63,
     "metadata": {},
     "output_type": "execute_result"
    }
   ],
   "source": [
    "# Packing and unpacking with a list (or a tuple): *list\n",
    "my_numbers = [10, 12, 15]\n",
    "mean(*my_numbers)"
   ]
  },
  {
   "cell_type": "code",
   "execution_count": 65,
   "id": "0e8683cd-b2b4-4435-b191-69978187b120",
   "metadata": {},
   "outputs": [
    {
     "data": {
      "text/plain": [
       "12.333333333333334"
      ]
     },
     "execution_count": 65,
     "metadata": {},
     "output_type": "execute_result"
    }
   ],
   "source": [
    "# Packing & unpacking with a dictionary: **dict\n",
    "my_numbers = {'a':10, 'b':12, 'c':15}\n",
    "mean(**my_numbers)"
   ]
  },
  {
   "cell_type": "code",
   "execution_count": 69,
   "id": "d70750da-739d-4d2e-8173-f9af6882b6ad",
   "metadata": {},
   "outputs": [],
   "source": [
    "# Function definition with *args\n",
    "def test_function(*args):\n",
    "    print('There are {} arguments: '.format(len(args)))\n",
    "    for a in args:\n",
    "        print(' -> {}'.format(a))\n",
    "    print(' ')\n",
    "    return"
   ]
  },
  {
   "cell_type": "code",
   "execution_count": 75,
   "id": "8ac1a427-5bb4-42d1-908b-473924d9b067",
   "metadata": {},
   "outputs": [
    {
     "name": "stdout",
     "output_type": "stream",
     "text": [
      "There are 0 arguments: \n",
      " \n",
      "There are 1 arguments: \n",
      " -> hoho\n",
      " \n",
      "There are 2 arguments: \n",
      " -> hoho\n",
      " -> 3\n",
      " \n",
      "There are 4 arguments: \n",
      " -> hoho\n",
      " -> 3\n",
      " -> [1, 'banana']\n",
      " -> {'mood': 'happy', 'state': 'holidays'}\n",
      " \n"
     ]
    }
   ],
   "source": [
    "# Test with different numbers/types of arguments\n",
    "test_function()\n",
    "test_function('hoho')\n",
    "test_function('hoho', 3)\n",
    "test_function('hoho', 3, [1, 'banana'], {'mood':'happy', 'state':'holidays'})"
   ]
  },
  {
   "cell_type": "code",
   "execution_count": 77,
   "id": "4194b14f-ba51-4294-b1aa-a68fe4cd11a7",
   "metadata": {},
   "outputs": [],
   "source": [
    "# Function definition with kwargs\n",
    "def test_function(**kwargs):\n",
    "    print('There are {} arguments: '.format(len(kwargs)))\n",
    "    for k, v in kwargs.items():\n",
    "        print(' {}={}'.format(k, v))\n",
    "    print('')\n",
    "    return"
   ]
  },
  {
   "cell_type": "code",
   "execution_count": 85,
   "id": "0d52c69b-9a43-4529-ad1e-31dba363be26",
   "metadata": {},
   "outputs": [
    {
     "name": "stdout",
     "output_type": "stream",
     "text": [
      "There are 0 arguments: \n",
      "\n",
      "There are 1 arguments: \n",
      " x=hoho\n",
      "\n",
      "There are 2 arguments: \n",
      " word=hoho\n",
      " multiplicity=3\n",
      "\n",
      "There are 4 arguments: \n",
      " a=hoho\n",
      " N=3\n",
      " shopping=[1, 'banana']\n",
      " feeling={'mood': 'happy', 'state': 'holidays'}\n",
      "\n"
     ]
    }
   ],
   "source": [
    "test_function()\n",
    "test_function(x = 'hoho')\n",
    "test_function(word='hoho', multiplicity=3)\n",
    "test_function(a='hoho', N=3, shopping=[1, 'banana'], feeling={'mood':'happy', 'state':'holidays'})"
   ]
  },
  {
   "cell_type": "code",
   "execution_count": 89,
   "id": "a68ab9f5-6f71-40fa-a3de-959e6cc1cf3d",
   "metadata": {},
   "outputs": [
    {
     "name": "stdout",
     "output_type": "stream",
     "text": [
      "There are 4 arguments: \n",
      " a=hoho\n",
      " N=3\n",
      " shopping=[1, 'banana']\n",
      " feeling={'mood': 'happy', 'state': 'holidays'}\n",
      "\n"
     ]
    }
   ],
   "source": [
    "# Pack all keyword arguments in a dictionary first\n",
    "my_args = {\n",
    "    'a':'hoho',\n",
    "    'N':3,\n",
    "    'shopping':[1, 'banana'],\n",
    "    'feeling': {'mood':'happy', 'state':'holidays'}\n",
    "}\n",
    "\n",
    "# Then call the function\n",
    "test_function(**my_args)"
   ]
  },
  {
   "cell_type": "markdown",
   "id": "d69b449d-9ebe-4c09-986e-b49c61ba09a1",
   "metadata": {},
   "source": [
    "## 1.7 File manipulation"
   ]
  },
  {
   "cell_type": "code",
   "execution_count": null,
   "id": "d6b6808d-2640-40eb-8e82-da3a608e7d96",
   "metadata": {},
   "outputs": [],
   "source": [
    "# Open\n",
    "# f = open('my_file_name.txt', option)\n",
    "\n",
    "# Close\n",
    "# f.close()"
   ]
  },
  {
   "cell_type": "code",
   "execution_count": 99,
   "id": "5baad1dc-f011-4641-a115-0eb1e7377862",
   "metadata": {},
   "outputs": [],
   "source": [
    "text = '''Gervaise avait attendu Lantier jusqu'à deux heures du matin. Puis,\n",
    "toute frissonnante d'être restée en camisole à l'air vif de la fenêtre,\n",
    "elle s'était assoupie, jetée en travers du lit, fiévreuse, les joues\n",
    "trempées de larmes.\n",
    "'''\n",
    "\n",
    "# Open in write mode\n",
    "f = open('test.txt', 'w')\n",
    "\n",
    "# Write string\n",
    "f.write(text)\n",
    "\n",
    "# Close \n",
    "f.close()"
   ]
  },
  {
   "cell_type": "code",
   "execution_count": 109,
   "id": "ef365520-4193-4f4c-82a8-3035c4a1abd0",
   "metadata": {},
   "outputs": [
    {
     "name": "stdout",
     "output_type": "stream",
     "text": [
      "\n",
      "\n",
      "==================================================\n",
      "This line: Gervaise avait attendu Lantier jusqu'à deux heures du matin. Puis,\n",
      "\n",
      "This line has 2 sentences\n",
      " - sentence 0: ['Gervaise', 'avait', 'attendu', 'Lantier', \"jusqu'à\", 'deux', 'heures', 'du', 'matin']\n",
      " - sentence 1: ['Puis,']\n",
      "\n",
      "\n",
      "==================================================\n",
      "This line: toute frissonnante d'être restée en camisole à l'air vif de la fenêtre,\n",
      "\n",
      "This line has 1 sentences\n",
      " - sentence 0: ['toute', 'frissonnante', \"d'être\", 'restée', 'en', 'camisole', 'à', \"l'air\", 'vif', 'de', 'la', 'fenêtre,']\n",
      "\n",
      "\n",
      "==================================================\n",
      "This line: elle s'était assoupie, jetée en travers du lit, fiévreuse, les joues\n",
      "\n",
      "This line has 1 sentences\n",
      " - sentence 0: ['elle', \"s'était\", 'assoupie,', 'jetée', 'en', 'travers', 'du', 'lit,', 'fiévreuse,', 'les', 'joues']\n",
      "\n",
      "\n",
      "==================================================\n",
      "This line: trempées de larmes.\n",
      "\n",
      "This line has 2 sentences\n",
      " - sentence 0: ['trempées', 'de', 'larmes']\n",
      " - sentence 1: ['']\n"
     ]
    }
   ],
   "source": [
    "# Open the file in read mode\n",
    "f = open('test.txt', 'r')\n",
    "\n",
    "# Loop over the lines\n",
    "for line in f:\n",
    "\n",
    "    # Print a header to make the output clearer\n",
    "    print('\\n\\n{}'.format('='*50))\n",
    "\n",
    "    # Print the line as it is given\n",
    "    print('This line: {}'.format(line))\n",
    "\n",
    "    # Split by '.' to isolate sentence\n",
    "    sentences = line.split('.')\n",
    "    print('This line has {} sentences'.format(len(sentences)))\n",
    "\n",
    "    # Split each sentence by ' ' to isolate words\n",
    "    for i, s in enumerate(sentences):\n",
    "        sclean = s.strip()\n",
    "        words = sclean.split(' ')\n",
    "        print(' - sentence {}: {}'.format(i, words))\n",
    "\n",
    "f.close()"
   ]
  },
  {
   "cell_type": "code",
   "execution_count": 9,
   "id": "7fbd3aa2-e24f-468c-b362-f64d2fd83064",
   "metadata": {},
   "outputs": [],
   "source": [
    "# Open the in/out files\n",
    "f_i = open('test.txt', 'r')\n",
    "f_o = open('test_without_e.txt', 'w')\n",
    "\n",
    "# Loop over line, remove all \"e\" for each, and write the result in the output file\n",
    "for line in f_i:\n",
    "    line_without_e = line.replace('e', '') # replace \"e\" by nothing\n",
    "    f_o.write(line_without_e)\n",
    "\n",
    "# Close all files\n",
    "f_i.close()\n",
    "f_o.close()"
   ]
  },
  {
   "cell_type": "code",
   "execution_count": 13,
   "id": "eecf39d6-eec3-4b12-b155-7d1385ce42a6",
   "metadata": {},
   "outputs": [
    {
     "name": "stdout",
     "output_type": "stream",
     "text": [
      "Grvais avait attndu Lantir jusqu'à dux hurs du matin. Puis,\n",
      "tout frissonnant d'êtr rsté n camisol à l'air vif d la fnêtr,\n",
      "ll s'était assoupi, jté n travrs du lit, fiévrus, ls jous\n",
      "trmpés d larms.\n",
      "\n"
     ]
    }
   ],
   "source": [
    "# Open in read mode and check the result\n",
    "f = open('test_without_e.txt', 'r')\n",
    "print(f.read())"
   ]
  },
  {
   "cell_type": "code",
   "execution_count": 17,
   "id": "402c9179-4481-4ae4-abde-4093e72e1f29",
   "metadata": {},
   "outputs": [],
   "source": [
    "# Data taken from kaggle: https://www.kaggle.com/datasets/jolasa/waves-measuring-buoys-data-mooloolaba\n",
    "data_csv_format = '''index,date,height,heightMax,period,energy,direction,temperature\n",
    "1,01/01/2017 00:00,-99.9,-99.9,-99.9,-99.9,-99.9,-99.9\n",
    "2,01/01/2017 00:30,0.875,1.39,4.421,4.506,-99.9,-99.9\n",
    "3,01/01/2017 01:00,0.763,1.15,4.52,5.513,49,25.65\n",
    "4,01/01/2017 01:30,0.77,1.41,4.582,5.647,75,25.5\n",
    "5,01/01/2017 02:00,0.747,1.16,4.515,5.083,91,25.45\n",
    "6,01/01/2017 02:30,0.718,1.61,4.614,6.181,68,25.45\n",
    "7,01/01/2017 03:00,0.707,1.34,4.568,4.705,73,25.5\n",
    "8,01/01/2017 03:30,0.729,1.21,4.786,4.484,63,25.5\n",
    "9,01/01/2017 04:00,0.733,1.2,4.897,5.042,68,25.5\n",
    "10,01/01/2017 04:30,0.711,1.29,5.019,8.439,66,25.5\n",
    "11,01/01/2017 05:00,0.698,1.11,4.867,4.584,64,25.55\n",
    "12,01/01/2017 05:30,0.686,1.14,4.755,5.211,56,25.55\n",
    "13,01/01/2017 06:00,0.721,1.12,4.843,5.813,67,25.5\n",
    "14,01/01/2017 06:30,0.679,1.22,4.948,4.71,81,25.45\n",
    "15,01/01/2017 07:00,0.66,1.08,5.068,5.353,90,25.45\n",
    "16,01/01/2017 07:30,0.662,1.18,5.263,7.436,67,25.4\n",
    "17,01/01/2017 08:00,0.653,1.21,5.007,6.001,90,25.45\n",
    "18,01/01/2017 08:30,0.665,1.17,4.952,6.414,90,25.55\n",
    "19,01/01/2017 09:00,0.684,1.55,5.022,6.691,88,25.6\n",
    "20,01/01/2017 09:30,0.679,1.09,4.926,6.804,88,25.65\n",
    "21,01/01/2017 10:00,0.667,1.12,4.928,6.641,122,25.75\n",
    "22,01/01/2017 10:30,0.688,1.13,4.808,5.958,91,25.7\n",
    "23,01/01/2017 11:00,0.644,0.99,4.559,6.691,92,25.9\n",
    "'''\n",
    "\n",
    "# Create csv file using these data\n",
    "f = open('wave_data.csv', 'w')\n",
    "f.write(data_csv_format)\n",
    "f.close()"
   ]
  },
  {
   "cell_type": "code",
   "execution_count": 51,
   "id": "2783e743-aef0-4719-85de-0c528040e502",
   "metadata": {},
   "outputs": [
    {
     "name": "stdout",
     "output_type": "stream",
     "text": [
      "['index', 'date', 'height', 'heightMax', 'period', 'energy', 'direction', 'temperature']\n"
     ]
    }
   ],
   "source": [
    "# Open the file in read mode\n",
    "f = open('wave_data.csv', 'r')\n",
    "\n",
    "# Get the first line (calling the readline() method once) to extract the feature names\n",
    "features = f.readline().strip().split(',')\n",
    "print(features)\n",
    "\n",
    "# Loop over lines and store the information\n",
    "data = []\n",
    "for l in f:\n",
    "    values = l.strip().split(',')\n",
    "    data_single_wave = {var: val for var, val in zip(features, values)}\n",
    "    data.append(data_single_wave)"
   ]
  },
  {
   "cell_type": "code",
   "execution_count": 53,
   "id": "274f7298-9c22-4b84-8c98-af944a27441c",
   "metadata": {},
   "outputs": [
    {
     "name": "stdout",
     "output_type": "stream",
     "text": [
      "Wave 1 (01/01/2017 00:00) had a height of -99.9m with a temperature of -99.9 degrees\n",
      "Wave 2 (01/01/2017 00:30) had a height of 0.875m with a temperature of -99.9 degrees\n",
      "Wave 3 (01/01/2017 01:00) had a height of 0.763m with a temperature of 25.65 degrees\n",
      "Wave 4 (01/01/2017 01:30) had a height of 0.77m with a temperature of 25.5 degrees\n",
      "Wave 5 (01/01/2017 02:00) had a height of 0.747m with a temperature of 25.45 degrees\n"
     ]
    }
   ],
   "source": [
    "# helper function for a nice printing\n",
    "def print_wave(w):\n",
    "    tmp = 'Wave {} ({}) had a height of {}m with a temperature of {} degrees'\n",
    "    print(tmp.format(w['index'], w['date'], w['height'], w['temperature']))\n",
    "\n",
    "# Print the first 5 waves\n",
    "for wave in data[:5]:\n",
    "    print_wave(wave)"
   ]
  },
  {
   "cell_type": "code",
   "execution_count": 60,
   "id": "d73c75da-cac1-4cf8-b7e2-ca221e3b9d2b",
   "metadata": {},
   "outputs": [
    {
     "name": "stdout",
     "output_type": "stream",
     "text": [
      "Averaged waveheight is -3.7 m\n"
     ]
    }
   ],
   "source": [
    "# Compute the average height\n",
    "# heights = [w['height'] for w in data]\n",
    "#average = sum(heights) / len(heights)\n",
    "\n",
    "# Manage string to time object conversion\n",
    "def str_to_time(date_str):\n",
    "    import datetime\n",
    "    return datetime.datetime.strptime(date_str, '%d/%m/%Y %H:%M')\n",
    "\n",
    "\n",
    "# Container with properly converted data\n",
    "DATA = []\n",
    "\n",
    "# Loop over waves and make the proper conversion depending on the feature name\n",
    "for w in data:\n",
    "    wgood = w.copy()\n",
    "    for k in w:\n",
    "        if k == 'index': # Cast string into an integer\n",
    "            wgood[k] = int(w[k])\n",
    "        elif k == 'date': # cast string into a datetime object\n",
    "            wgood[k] = str_to_time(w[k])\n",
    "        else: # cast string into a float\n",
    "            wgood[k] = float(w[k])\n",
    "        DATA.append(wgood)\n",
    "\n",
    "# Compute the average height\n",
    "heights = [w['height'] for w in DATA]\n",
    "average = sum(heights)/len(heights)\n",
    "print('Averaged waveheight is {:.1f} m'.format(average))"
   ]
  },
  {
   "cell_type": "code",
   "execution_count": 70,
   "id": "d2b96116-031f-4322-9c35-dccf293f5825",
   "metadata": {},
   "outputs": [
    {
     "name": "stdout",
     "output_type": "stream",
     "text": [
      "Averaged waveheight is -3.1 m\n"
     ]
    }
   ],
   "source": [
    "heights = [w['height'] for w in DATA[1:]]\n",
    "average = sum(heights)/len(heights)\n",
    "print('Averaged waveheight is {:.1f} m'.format(average))"
   ]
  },
  {
   "cell_type": "markdown",
   "id": "e658eac4-9af2-4520-8066-114909f5734b",
   "metadata": {},
   "source": [
    "## 1.8 Plotting data: the very first step"
   ]
  },
  {
   "cell_type": "code",
   "execution_count": 74,
   "id": "be96066c-d4ca-4ac9-bd05-041b825c66ca",
   "metadata": {},
   "outputs": [],
   "source": [
    "# Prepare data to plot: wave height v.s. wave energy (removing point with -99 values)\n",
    "height = [w['height'] for w in DATA if w['height'] > -99]\n",
    "energy = [w['energy'] for w in DATA if w['energy'] > -99]"
   ]
  },
  {
   "cell_type": "code",
   "execution_count": 78,
   "id": "c92063de-c6ee-4b3b-a48c-6337a4a61137",
   "metadata": {},
   "outputs": [
    {
     "data": {
      "image/png": "[encoded data removed]",
      "text/plain": [
       "<Figure size 640x480 with 1 Axes>"
      ]
     },
     "metadata": {},
     "output_type": "display_data"
    }
   ],
   "source": [
    "# Import the key part of the package: pyplot\n",
    "import matplotlib.pyplot as plt\n",
    "\n",
    "# Display matplotlib output in the notebook\n",
    "%matplotlib inline\n",
    "\n",
    "# Call the simplest function to plot x vs y\n",
    "plt.plot(height, energy, linewidth=0, marker='o', label=\"Wave data\")\n",
    "\n",
    "# Set x and y axis labels\n",
    "plt.xlabel('Wave height')\n",
    "plt.ylabel('Wave energy')\n",
    "\n",
    "# Adding a legend based on label keyword\n",
    "plt.legend();"
   ]
  },
  {
   "cell_type": "markdown",
   "id": "97d01c48-45c5-4322-b6d5-33628fc28f2c",
   "metadata": {},
   "source": [
    "# 2. Basic introduction to NumPy\n",
    "## 2.1 Motivations\n",
    "## 2.2 The core object: arrays\n",
    "### 2.2.1 Main differences to usual Python lists"
   ]
  },
  {
   "cell_type": "code",
   "execution_count": 85,
   "id": "5def07d4-e358-48e9-9cca-bf9c7ef52888",
   "metadata": {},
   "outputs": [
    {
     "name": "stdout",
     "output_type": "stream",
     "text": [
      "[1, 2, 3] [3, 4, 5]\n"
     ]
    }
   ],
   "source": [
    "import numpy as np\n",
    "l1, l2 = [1, 2, 3], [3, 4, 5]\n",
    "a1, a2 = np.array([1, 2, 3]), np.array([3, 4, 5])\n",
    "print(l1, l2)"
   ]
  },
  {
   "cell_type": "code",
   "execution_count": null,
   "id": "2bbf7d8b-508d-4c4e-9ac9-7f320968be7a",
   "metadata": {},
   "outputs": [],
   "source": []
  }
 ],
 "metadata": {
  "kernelspec": {
   "display_name": "Python 3 (ipykernel)",
   "language": "python",
   "name": "python3"
  },
  "language_info": {
   "codemirror_mode": {
    "name": "ipython",
    "version": 3
   },
   "file_extension": ".py",
   "mimetype": "text/x-python",
   "name": "python",
   "nbconvert_exporter": "python",
   "pygments_lexer": "ipython3",
   "version": "3.12.4"
  }
 },
 "nbformat": 4,
 "nbformat_minor": 5
}
