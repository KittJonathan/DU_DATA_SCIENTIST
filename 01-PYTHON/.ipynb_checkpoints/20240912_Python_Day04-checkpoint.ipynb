{
 "cells": [
  {
   "cell_type": "markdown",
   "id": "32770caa-94f8-4c70-aacb-a88aa39d880e",
   "metadata": {},
   "source": [
    "## f-strings and formating"
   ]
  },
  {
   "cell_type": "code",
   "execution_count": 3,
   "id": "2cb3b9fe-174e-49a8-b9ed-d1e2525b7665",
   "metadata": {},
   "outputs": [],
   "source": [
    "a = 'Hello my name is Jo and I am 39 years old'"
   ]
  },
  {
   "cell_type": "code",
   "execution_count": 5,
   "id": "5dc8a357-14d5-4519-9c41-0470edce4464",
   "metadata": {},
   "outputs": [
    {
     "name": "stdout",
     "output_type": "stream",
     "text": [
      "Hello my name is Jo and I am 39 years old\n"
     ]
    }
   ],
   "source": [
    "print(a)"
   ]
  },
  {
   "cell_type": "code",
   "execution_count": 7,
   "id": "4ed3058d-1a50-42f8-bb25-64709109084c",
   "metadata": {},
   "outputs": [],
   "source": [
    "age = 39"
   ]
  },
  {
   "cell_type": "markdown",
   "id": "5e93ccd7-2396-4c9c-805b-ae9db04f98e7",
   "metadata": {},
   "source": [
    "text = f'Hello my name is Jo and I am {age} years old'"
   ]
  },
  {
   "cell_type": "code",
   "execution_count": 27,
   "id": "14a6ce60-f214-4c24-b370-3ec3bf6aa19a",
   "metadata": {},
   "outputs": [
    {
     "name": "stdout",
     "output_type": "stream",
     "text": [
      "Hello my name is Jo and I am 5.16 years old\n",
      "Hello my name is Jo and I am 5.16e+00 years old\n"
     ]
    }
   ],
   "source": [
    "print(f'Hello my name is Jo and I am {age*0.13243:.2f} years old')\n",
    "print(f'Hello my name is Jo and I am {age*0.13243:.2e} years old')"
   ]
  },
  {
   "cell_type": "code",
   "execution_count": 29,
   "id": "a0e9451f-d694-4bc1-bf61-a434742b7534",
   "metadata": {},
   "outputs": [],
   "source": [
    "ages = {'louie':35.67, 'paul':15.67, 'mathusela':1000.4567}"
   ]
  },
  {
   "cell_type": "code",
   "execution_count": 31,
   "id": "61f00068-c2a9-4104-9224-629363c05ac7",
   "metadata": {},
   "outputs": [
    {
     "name": "stdout",
     "output_type": "stream",
     "text": [
      "The person called louie is 35.67 years old\n",
      "The person called paul is 15.67 years old\n",
      "The person called mathusela is 1000.4567 years old\n"
     ]
    }
   ],
   "source": [
    "for name, age in ages.items():\n",
    "    print(f'The person called {name} is {age} years old')"
   ]
  },
  {
   "cell_type": "markdown",
   "id": "4ddf16a2-0a1d-431a-b433-bcc2fd0837a6",
   "metadata": {},
   "source": [
    "## Broadcasting"
   ]
  },
  {
   "cell_type": "markdown",
   "id": "05915ff2-d44b-4056-8a75-3ad67dfcbde2",
   "metadata": {},
   "source": [
    "## Broadcasting"
   ]
  },
  {
   "cell_type": "code",
   "execution_count": 36,
   "id": "0737dcb9-071c-49b3-b088-9b70395e51b4",
   "metadata": {},
   "outputs": [],
   "source": [
    "import numpy as np"
   ]
  },
  {
   "cell_type": "code",
   "execution_count": 94,
   "id": "6944ee22-6709-41c7-9f2a-77503ee4f46c",
   "metadata": {},
   "outputs": [
    {
     "data": {
      "text/plain": [
       "array([38.7568024 , 35.04155056, 38.43283629, ..., 35.70415836,\n",
       "       41.0740329 , 38.09203697])"
      ]
     },
     "execution_count": 94,
     "metadata": {},
     "output_type": "execute_result"
    }
   ],
   "source": [
    "a = np.random.normal(36, 2, size=3000)\n",
    "a"
   ]
  },
  {
   "cell_type": "code",
   "execution_count": 96,
   "id": "72fa702f-9530-4b7a-bbdc-949033050980",
   "metadata": {},
   "outputs": [
    {
     "data": {
      "text/plain": [
       "array([[38.7568024 , 35.04155056, 38.43283629, ..., 34.95497129,\n",
       "        38.75272076, 36.65872632],\n",
       "       [38.17572595, 34.16180998, 37.65143026, ..., 32.51016452,\n",
       "        37.57961749, 38.09779248],\n",
       "       [38.3698197 , 35.0657893 , 35.04045031, ..., 35.70415836,\n",
       "        41.0740329 , 38.09203697]])"
      ]
     },
     "execution_count": 96,
     "metadata": {},
     "output_type": "execute_result"
    }
   ],
   "source": [
    "b = a.reshape(3, 1000)\n",
    "b"
   ]
  },
  {
   "cell_type": "code",
   "execution_count": 100,
   "id": "69c60f5c-be5d-457b-b8b5-ace1d2ee7cd6",
   "metadata": {},
   "outputs": [
    {
     "data": {
      "text/plain": [
       "array([[38.7568024 , 35.04155056, 38.43283629, ..., 34.95497129,\n",
       "        38.75272076, 36.65872632],\n",
       "       [38.17572595, 34.16180998, 37.65143026, ..., 32.51016452,\n",
       "        37.57961749, 38.09779248],\n",
       "       [38.3698197 , 35.0657893 , 35.04045031, ..., 35.70415836,\n",
       "        41.0740329 , 38.09203697]])"
      ]
     },
     "execution_count": 100,
     "metadata": {},
     "output_type": "execute_result"
    }
   ],
   "source": [
    "b.shape\n",
    "b"
   ]
  },
  {
   "cell_type": "code",
   "execution_count": 84,
   "id": "8b9bbda6-6bec-4cab-a77c-69628b65114e",
   "metadata": {},
   "outputs": [
    {
     "data": {
      "text/plain": [
       "array([[37.75615438, 40.36486317, 36.23339407],\n",
       "       [37.50464771, 37.61668773, 36.83495372],\n",
       "       [35.05548635, 36.50002305, 34.16928243],\n",
       "       ...,\n",
       "       [35.35858482, 34.65511185, 35.41761599],\n",
       "       [38.824417  , 33.57896298, 35.11391407],\n",
       "       [33.47181505, 33.74486908, 36.36338141]])"
      ]
     },
     "execution_count": 84,
     "metadata": {},
     "output_type": "execute_result"
    }
   ],
   "source": [
    "b.reshape(1000, 3)"
   ]
  },
  {
   "cell_type": "code",
   "execution_count": 86,
   "id": "978b2790-ecdb-4c0d-a343-8aa38f7ab9d9",
   "metadata": {},
   "outputs": [
    {
     "data": {
      "text/plain": [
       "(3, 1000)"
      ]
     },
     "execution_count": 86,
     "metadata": {},
     "output_type": "execute_result"
    }
   ],
   "source": [
    "b.shape"
   ]
  },
  {
   "cell_type": "code",
   "execution_count": 110,
   "id": "74f3c14f-8e62-4175-81c2-362fb20f5f6a",
   "metadata": {},
   "outputs": [
    {
     "data": {
      "text/plain": [
       "(3,)"
      ]
     },
     "execution_count": 110,
     "metadata": {},
     "output_type": "execute_result"
    }
   ],
   "source": [
    "c = np.array([1, 10, 100])\n",
    "c.shape"
   ]
  },
  {
   "cell_type": "code",
   "execution_count": 130,
   "id": "62c49d7d-1829-4e94-a4f6-9b2b14aad77a",
   "metadata": {},
   "outputs": [
    {
     "name": "stdout",
     "output_type": "stream",
     "text": [
      "[[35.39519085 38.85825928 33.93032466 ... 36.0909316  38.07557707\n",
      "  35.95945557]\n",
      " [35.53040809 38.16034195 36.15399775 ... 38.11752691 37.90331187\n",
      "  37.28652667]\n",
      " [34.06587962 33.32189246 33.15069495 ... 36.91892868 34.16039575\n",
      "  34.33737127]]\n",
      "[  1  10 100]\n"
     ]
    },
    {
     "data": {
      "text/plain": [
       "(3,)"
      ]
     },
     "execution_count": 130,
     "metadata": {},
     "output_type": "execute_result"
    }
   ],
   "source": [
    "a = np.random.normal(36, 2, size = (3, 1000))\n",
    "c = np.array([1, 10, 100])\n",
    "print(a)\n",
    "print(c)\n",
    "a.shape\n",
    "c.shape"
   ]
  },
  {
   "cell_type": "code",
   "execution_count": 144,
   "id": "01d6a323-bbb2-4066-9c69-9e25518fb9b1",
   "metadata": {},
   "outputs": [
    {
     "data": {
      "text/plain": [
       "array([[[ 1.87099028e+01,  2.27747123e+01,  6.87037819e+00,\n",
       "         -6.84785650e+00, -7.71109506e+00],\n",
       "        [-1.97482915e+01,  3.56199199e+00, -8.60759374e-01,\n",
       "         -7.04814505e-01, -2.38373639e+01]],\n",
       "\n",
       "       [[ 1.91819274e+01,  1.50492332e+01,  3.06010947e+01,\n",
       "          4.38830390e+01,  4.34451633e+01],\n",
       "        [ 1.16919993e+01,  1.04047266e-02, -1.07983340e+01,\n",
       "          5.60646826e+00, -6.10779915e+00]],\n",
       "\n",
       "       [[ 2.47969756e+01, -1.23425774e+01,  2.71687696e+00,\n",
       "         -4.00131319e+00,  2.30009956e+01],\n",
       "        [-2.50667589e+01, -3.47847308e+01, -4.67833381e+01,\n",
       "          8.06263375e+00,  1.63091939e+01]],\n",
       "\n",
       "       [[ 1.05133982e+01,  1.11683907e+00,  2.74572738e-01,\n",
       "          2.21200488e+01, -5.06765312e+00],\n",
       "        [ 1.48783091e+01,  5.58689652e+01, -5.11375221e+01,\n",
       "         -7.96699140e+00, -8.91931232e+00]],\n",
       "\n",
       "       [[ 9.49656454e-02,  2.56045025e-01,  8.71491030e+00,\n",
       "          1.35746434e+01,  1.09820275e+01],\n",
       "        [ 7.74938847e+01, -3.17603150e+01, -7.61332926e+01,\n",
       "          9.74663396e+00,  8.26944012e-01]],\n",
       "\n",
       "       [[ 1.05166788e+01,  9.31087523e+00,  6.79582437e+00,\n",
       "          1.01221546e+01,  3.69645763e+01],\n",
       "        [ 3.23086454e+01, -4.27695654e+01, -3.83122358e+01,\n",
       "          3.96375329e+00,  4.54283176e-02]],\n",
       "\n",
       "       [[-6.95418045e+00,  1.37789881e+01,  1.43197960e+01,\n",
       "         -1.27805843e+01,  9.59817416e+01],\n",
       "        [ 6.72380669e+01, -2.43972530e+00, -3.72320708e+01,\n",
       "         -3.82615796e-01,  2.12181578e+01]],\n",
       "\n",
       "       [[-3.19816115e+01,  1.43501260e+01,  3.41387394e+01,\n",
       "          5.90389757e+00,  4.15502380e+01],\n",
       "        [-9.17418994e+00, -2.63676656e+01,  2.03076659e+01,\n",
       "          4.92760813e+00,  6.09012967e+00]],\n",
       "\n",
       "       [[ 3.15678751e+01,  9.40918213e+00,  3.04734038e+01,\n",
       "          8.25792997e-01,  1.01926786e+01],\n",
       "        [ 1.27174050e+01, -2.08273301e+01, -1.72339203e+01,\n",
       "          9.97476020e+00,  1.45203796e+01]],\n",
       "\n",
       "       [[-1.44212149e+01,  1.22768450e+00,  1.84045268e+01,\n",
       "          5.57216293e+00,  8.12417113e+00],\n",
       "        [ 1.85087252e+01, -3.45868719e+01, -1.63746795e+01,\n",
       "         -6.27858988e-01,  2.67714551e+01]]])"
      ]
     },
     "execution_count": 144,
     "metadata": {},
     "output_type": "execute_result"
    }
   ],
   "source": [
    "a = np.random.normal(2, 5, size = (10, 2, 5))\n",
    "b = np.random.normal(2, 5, size = (2, 5))\n",
    "a*b"
   ]
  },
  {
   "cell_type": "markdown",
   "id": "07c9c8e7-82c5-451e-a8f4-5acea01cf7a0",
   "metadata": {},
   "source": [
    "## Pandas"
   ]
  },
  {
   "cell_type": "code",
   "execution_count": 149,
   "id": "93b42e72-df07-4f5c-9d6e-e36b85d6bbd5",
   "metadata": {},
   "outputs": [
    {
     "data": {
      "text/html": [
       "<div>\n",
       "<style scoped>\n",
       "    .dataframe tbody tr th:only-of-type {\n",
       "        vertical-align: middle;\n",
       "    }\n",
       "\n",
       "    .dataframe tbody tr th {\n",
       "        vertical-align: top;\n",
       "    }\n",
       "\n",
       "    .dataframe thead th {\n",
       "        text-align: right;\n",
       "    }\n",
       "</style>\n",
       "<table border=\"1\" class=\"dataframe\">\n",
       "  <thead>\n",
       "    <tr style=\"text-align: right;\">\n",
       "      <th></th>\n",
       "      <th>index</th>\n",
       "      <th>date</th>\n",
       "      <th>height</th>\n",
       "      <th>heightMax</th>\n",
       "      <th>period</th>\n",
       "      <th>energy</th>\n",
       "      <th>direction</th>\n",
       "      <th>temperature</th>\n",
       "    </tr>\n",
       "  </thead>\n",
       "  <tbody>\n",
       "    <tr>\n",
       "      <th>0</th>\n",
       "      <td>1</td>\n",
       "      <td>01/01/2017 00:00</td>\n",
       "      <td>-99.900</td>\n",
       "      <td>-99.90</td>\n",
       "      <td>-99.900</td>\n",
       "      <td>-99.900</td>\n",
       "      <td>-99.9</td>\n",
       "      <td>-99.90</td>\n",
       "    </tr>\n",
       "    <tr>\n",
       "      <th>1</th>\n",
       "      <td>2</td>\n",
       "      <td>01/01/2017 00:30</td>\n",
       "      <td>0.875</td>\n",
       "      <td>1.39</td>\n",
       "      <td>4.421</td>\n",
       "      <td>4.506</td>\n",
       "      <td>-99.9</td>\n",
       "      <td>-99.90</td>\n",
       "    </tr>\n",
       "    <tr>\n",
       "      <th>2</th>\n",
       "      <td>3</td>\n",
       "      <td>01/01/2017 01:00</td>\n",
       "      <td>0.763</td>\n",
       "      <td>1.15</td>\n",
       "      <td>4.520</td>\n",
       "      <td>5.513</td>\n",
       "      <td>49.0</td>\n",
       "      <td>25.65</td>\n",
       "    </tr>\n",
       "    <tr>\n",
       "      <th>3</th>\n",
       "      <td>4</td>\n",
       "      <td>01/01/2017 01:30</td>\n",
       "      <td>0.770</td>\n",
       "      <td>1.41</td>\n",
       "      <td>4.582</td>\n",
       "      <td>5.647</td>\n",
       "      <td>75.0</td>\n",
       "      <td>25.50</td>\n",
       "    </tr>\n",
       "    <tr>\n",
       "      <th>4</th>\n",
       "      <td>5</td>\n",
       "      <td>01/01/2017 02:00</td>\n",
       "      <td>0.747</td>\n",
       "      <td>1.16</td>\n",
       "      <td>4.515</td>\n",
       "      <td>5.083</td>\n",
       "      <td>91.0</td>\n",
       "      <td>25.45</td>\n",
       "    </tr>\n",
       "  </tbody>\n",
       "</table>\n",
       "</div>"
      ],
      "text/plain": [
       "   index              date  height  heightMax  period  energy  direction  \\\n",
       "0      1  01/01/2017 00:00 -99.900     -99.90 -99.900 -99.900      -99.9   \n",
       "1      2  01/01/2017 00:30   0.875       1.39   4.421   4.506      -99.9   \n",
       "2      3  01/01/2017 01:00   0.763       1.15   4.520   5.513       49.0   \n",
       "3      4  01/01/2017 01:30   0.770       1.41   4.582   5.647       75.0   \n",
       "4      5  01/01/2017 02:00   0.747       1.16   4.515   5.083       91.0   \n",
       "\n",
       "   temperature  \n",
       "0       -99.90  \n",
       "1       -99.90  \n",
       "2        25.65  \n",
       "3        25.50  \n",
       "4        25.45  "
      ]
     },
     "execution_count": 149,
     "metadata": {},
     "output_type": "execute_result"
    }
   ],
   "source": [
    "import pandas as pd\n",
    "df = pd.read_csv('wave_data.csv')\n",
    "df.head()"
   ]
  },
  {
   "cell_type": "code",
   "execution_count": 151,
   "id": "69b86c5f-ebf0-4dac-9258-db83c4a83330",
   "metadata": {},
   "outputs": [],
   "source": [
    "df1 = df[['direction', 'energy']]"
   ]
  },
  {
   "cell_type": "code",
   "execution_count": 159,
   "id": "3d0acf57-22a6-424d-b3c8-8a316f315ae3",
   "metadata": {},
   "outputs": [
    {
     "data": {
      "text/html": [
       "<div>\n",
       "<style scoped>\n",
       "    .dataframe tbody tr th:only-of-type {\n",
       "        vertical-align: middle;\n",
       "    }\n",
       "\n",
       "    .dataframe tbody tr th {\n",
       "        vertical-align: top;\n",
       "    }\n",
       "\n",
       "    .dataframe thead th {\n",
       "        text-align: right;\n",
       "    }\n",
       "</style>\n",
       "<table border=\"1\" class=\"dataframe\">\n",
       "  <thead>\n",
       "    <tr style=\"text-align: right;\">\n",
       "      <th></th>\n",
       "      <th>direction</th>\n",
       "      <th>energy</th>\n",
       "    </tr>\n",
       "  </thead>\n",
       "  <tbody>\n",
       "    <tr>\n",
       "      <th>0</th>\n",
       "      <td></td>\n",
       "      <td></td>\n",
       "    </tr>\n",
       "    <tr>\n",
       "      <th>1</th>\n",
       "      <td></td>\n",
       "      <td>4.506</td>\n",
       "    </tr>\n",
       "    <tr>\n",
       "      <th>2</th>\n",
       "      <td>49.0</td>\n",
       "      <td>5.513</td>\n",
       "    </tr>\n",
       "    <tr>\n",
       "      <th>3</th>\n",
       "      <td>75.0</td>\n",
       "      <td>5.647</td>\n",
       "    </tr>\n",
       "    <tr>\n",
       "      <th>4</th>\n",
       "      <td>91.0</td>\n",
       "      <td>5.083</td>\n",
       "    </tr>\n",
       "    <tr>\n",
       "      <th>5</th>\n",
       "      <td>68.0</td>\n",
       "      <td>6.181</td>\n",
       "    </tr>\n",
       "    <tr>\n",
       "      <th>6</th>\n",
       "      <td>73.0</td>\n",
       "      <td>4.705</td>\n",
       "    </tr>\n",
       "    <tr>\n",
       "      <th>7</th>\n",
       "      <td>63.0</td>\n",
       "      <td>4.484</td>\n",
       "    </tr>\n",
       "    <tr>\n",
       "      <th>8</th>\n",
       "      <td>68.0</td>\n",
       "      <td>5.042</td>\n",
       "    </tr>\n",
       "    <tr>\n",
       "      <th>9</th>\n",
       "      <td>66.0</td>\n",
       "      <td>8.439</td>\n",
       "    </tr>\n",
       "    <tr>\n",
       "      <th>10</th>\n",
       "      <td>64.0</td>\n",
       "      <td>4.584</td>\n",
       "    </tr>\n",
       "    <tr>\n",
       "      <th>11</th>\n",
       "      <td>56.0</td>\n",
       "      <td>5.211</td>\n",
       "    </tr>\n",
       "    <tr>\n",
       "      <th>12</th>\n",
       "      <td>67.0</td>\n",
       "      <td>5.813</td>\n",
       "    </tr>\n",
       "    <tr>\n",
       "      <th>13</th>\n",
       "      <td>81.0</td>\n",
       "      <td>4.71</td>\n",
       "    </tr>\n",
       "    <tr>\n",
       "      <th>14</th>\n",
       "      <td>90.0</td>\n",
       "      <td>5.353</td>\n",
       "    </tr>\n",
       "    <tr>\n",
       "      <th>15</th>\n",
       "      <td>67.0</td>\n",
       "      <td>7.436</td>\n",
       "    </tr>\n",
       "    <tr>\n",
       "      <th>16</th>\n",
       "      <td>90.0</td>\n",
       "      <td>6.001</td>\n",
       "    </tr>\n",
       "    <tr>\n",
       "      <th>17</th>\n",
       "      <td>90.0</td>\n",
       "      <td>6.414</td>\n",
       "    </tr>\n",
       "    <tr>\n",
       "      <th>18</th>\n",
       "      <td>88.0</td>\n",
       "      <td>6.691</td>\n",
       "    </tr>\n",
       "    <tr>\n",
       "      <th>19</th>\n",
       "      <td>88.0</td>\n",
       "      <td>6.804</td>\n",
       "    </tr>\n",
       "    <tr>\n",
       "      <th>20</th>\n",
       "      <td>122.0</td>\n",
       "      <td>6.641</td>\n",
       "    </tr>\n",
       "    <tr>\n",
       "      <th>21</th>\n",
       "      <td>91.0</td>\n",
       "      <td>5.958</td>\n",
       "    </tr>\n",
       "    <tr>\n",
       "      <th>22</th>\n",
       "      <td>92.0</td>\n",
       "      <td>6.691</td>\n",
       "    </tr>\n",
       "  </tbody>\n",
       "</table>\n",
       "</div>"
      ],
      "text/plain": [
       "   direction energy\n",
       "0                  \n",
       "1             4.506\n",
       "2       49.0  5.513\n",
       "3       75.0  5.647\n",
       "4       91.0  5.083\n",
       "5       68.0  6.181\n",
       "6       73.0  4.705\n",
       "7       63.0  4.484\n",
       "8       68.0  5.042\n",
       "9       66.0  8.439\n",
       "10      64.0  4.584\n",
       "11      56.0  5.211\n",
       "12      67.0  5.813\n",
       "13      81.0   4.71\n",
       "14      90.0  5.353\n",
       "15      67.0  7.436\n",
       "16      90.0  6.001\n",
       "17      90.0  6.414\n",
       "18      88.0  6.691\n",
       "19      88.0  6.804\n",
       "20     122.0  6.641\n",
       "21      91.0  5.958\n",
       "22      92.0  6.691"
      ]
     },
     "execution_count": 159,
     "metadata": {},
     "output_type": "execute_result"
    }
   ],
   "source": [
    "df1[df1 > -99].fillna('')"
   ]
  },
  {
   "cell_type": "code",
   "execution_count": 173,
   "id": "87d4532c-38d4-4093-8ff2-61fd44418db2",
   "metadata": {},
   "outputs": [
    {
     "data": {
      "text/plain": [
       "direction    21\n",
       "energy       22\n",
       "dtype: int64"
      ]
     },
     "execution_count": 173,
     "metadata": {},
     "output_type": "execute_result"
    }
   ],
   "source": [
    "df1[df1 > -99].count()"
   ]
  },
  {
   "cell_type": "code",
   "execution_count": 179,
   "id": "59a36b28-ae43-4d9d-9b1f-6fab0769550b",
   "metadata": {},
   "outputs": [
    {
     "data": {
      "text/plain": [
       "62.573913043478264"
      ]
     },
     "execution_count": 179,
     "metadata": {},
     "output_type": "execute_result"
    }
   ],
   "source": [
    "df1.direction.std()\n",
    "df.direction.mean()"
   ]
  },
  {
   "cell_type": "code",
   "execution_count": 181,
   "id": "9a6ff067-9664-4a9f-923a-2d8f8c497276",
   "metadata": {},
   "outputs": [
    {
     "data": {
      "text/html": [
       "<div>\n",
       "<style scoped>\n",
       "    .dataframe tbody tr th:only-of-type {\n",
       "        vertical-align: middle;\n",
       "    }\n",
       "\n",
       "    .dataframe tbody tr th {\n",
       "        vertical-align: top;\n",
       "    }\n",
       "\n",
       "    .dataframe thead th {\n",
       "        text-align: right;\n",
       "    }\n",
       "</style>\n",
       "<table border=\"1\" class=\"dataframe\">\n",
       "  <thead>\n",
       "    <tr style=\"text-align: right;\">\n",
       "      <th></th>\n",
       "      <th>direction</th>\n",
       "      <th>energy</th>\n",
       "    </tr>\n",
       "  </thead>\n",
       "  <tbody>\n",
       "    <tr>\n",
       "      <th>count</th>\n",
       "      <td>23.000000</td>\n",
       "      <td>23.000000</td>\n",
       "    </tr>\n",
       "    <tr>\n",
       "      <th>mean</th>\n",
       "      <td>62.573913</td>\n",
       "      <td>1.217696</td>\n",
       "    </tr>\n",
       "    <tr>\n",
       "      <th>std</th>\n",
       "      <td>53.640489</td>\n",
       "      <td>22.066111</td>\n",
       "    </tr>\n",
       "    <tr>\n",
       "      <th>min</th>\n",
       "      <td>-99.900000</td>\n",
       "      <td>-99.900000</td>\n",
       "    </tr>\n",
       "    <tr>\n",
       "      <th>25%</th>\n",
       "      <td>65.000000</td>\n",
       "      <td>4.876000</td>\n",
       "    </tr>\n",
       "    <tr>\n",
       "      <th>50%</th>\n",
       "      <td>73.000000</td>\n",
       "      <td>5.647000</td>\n",
       "    </tr>\n",
       "    <tr>\n",
       "      <th>75%</th>\n",
       "      <td>90.000000</td>\n",
       "      <td>6.527500</td>\n",
       "    </tr>\n",
       "    <tr>\n",
       "      <th>max</th>\n",
       "      <td>122.000000</td>\n",
       "      <td>8.439000</td>\n",
       "    </tr>\n",
       "  </tbody>\n",
       "</table>\n",
       "</div>"
      ],
      "text/plain": [
       "        direction     energy\n",
       "count   23.000000  23.000000\n",
       "mean    62.573913   1.217696\n",
       "std     53.640489  22.066111\n",
       "min    -99.900000 -99.900000\n",
       "25%     65.000000   4.876000\n",
       "50%     73.000000   5.647000\n",
       "75%     90.000000   6.527500\n",
       "max    122.000000   8.439000"
      ]
     },
     "execution_count": 181,
     "metadata": {},
     "output_type": "execute_result"
    }
   ],
   "source": [
    "df1.describe()"
   ]
  },
  {
   "cell_type": "code",
   "execution_count": 187,
   "id": "668dbf83-329d-4a16-86b7-a4aa5331bbd3",
   "metadata": {},
   "outputs": [
    {
     "name": "stdout",
     "output_type": "stream",
     "text": [
      "0     -99.9\n",
      "1     -99.9\n",
      "2      49.0\n",
      "3      75.0\n",
      "4      91.0\n",
      "5      68.0\n",
      "6      73.0\n",
      "7      63.0\n",
      "8      68.0\n",
      "9      66.0\n",
      "10     64.0\n",
      "11     56.0\n",
      "12     67.0\n",
      "13     81.0\n",
      "14     90.0\n",
      "15     67.0\n",
      "16     90.0\n",
      "17     90.0\n",
      "18     88.0\n",
      "19     88.0\n",
      "20    122.0\n",
      "21     91.0\n",
      "22     92.0\n",
      "Name: direction, dtype: float64\n",
      "[-99.9 -99.9  49.   75.   91.   68.   73.   63.   68.   66.   64.   56.\n",
      "  67.   81.   90.   67.   90.   90.   88.   88.  122.   91.   92. ]\n"
     ]
    }
   ],
   "source": [
    "print(df.direction)\n",
    "print(df.direction.values)"
   ]
  }
 ],
 "metadata": {
  "kernelspec": {
   "display_name": "Python 3 (ipykernel)",
   "language": "python",
   "name": "python3"
  },
  "language_info": {
   "codemirror_mode": {
    "name": "ipython",
    "version": 3
   },
   "file_extension": ".py",
   "mimetype": "text/x-python",
   "name": "python",
   "nbconvert_exporter": "python",
   "pygments_lexer": "ipython3",
   "version": "3.12.4"
  }
 },
 "nbformat": 4,
 "nbformat_minor": 5
}
