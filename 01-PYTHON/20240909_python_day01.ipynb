{
 "cells": [
  {
   "cell_type": "code",
   "execution_count": 37,
   "id": "85541869-7b8d-462f-90d3-6ecce596c0a0",
   "metadata": {},
   "outputs": [
    {
     "name": "stdout",
     "output_type": "stream",
     "text": [
      "[1, 2, 3, 4, 5]\n",
      "[1, 3, 5]\n",
      "[2, 4]\n",
      "[5, 4, 3, 2]\n",
      "[5, 4, 3, 2, 1]\n",
      "[5, 4, 3, 2, 1]\n",
      "[1, 2, 3, 4, 5]\n"
     ]
    }
   ],
   "source": [
    "my_list = [1, 2, 3, 4, 5]\n",
    "print(my_list)\n",
    "print(my_list[0:5:2])\n",
    "print(my_list[1:4:2])\n",
    "print(my_list[5:0:-1])\n",
    "print(my_list[5::-1])\n",
    "print(my_list[::-1])\n",
    "print(my_list[::1])"
   ]
  },
  {
   "cell_type": "code",
   "execution_count": 45,
   "id": "072fc575-a29e-4a61-9b11-7a213c05aec9",
   "metadata": {},
   "outputs": [
    {
     "name": "stdout",
     "output_type": "stream",
     "text": [
      "{'name': 'Jo', 'age': 39}\n",
      "{'name': 'Jo'}\n"
     ]
    }
   ],
   "source": [
    "my_dict = {'name':'Jo', 'age':39}\n",
    "print(my_dict)\n",
    "del my_dict['age']\n",
    "print(my_dict)"
   ]
  },
  {
   "cell_type": "code",
   "execution_count": 59,
   "id": "1a753e34-6f4e-427b-b4b7-045e843be458",
   "metadata": {},
   "outputs": [
    {
     "name": "stdout",
     "output_type": "stream",
     "text": [
      "5\n",
      "6\n",
      "7\n",
      "8\n",
      "9\n"
     ]
    }
   ],
   "source": [
    "for num in range(10):\n",
    "    if num < 5:\n",
    "        continue\n",
    "    print(num)"
   ]
  },
  {
   "cell_type": "code",
   "execution_count": 63,
   "id": "1d742525-b5c2-4770-b4c2-e44d5c1d298f",
   "metadata": {},
   "outputs": [
    {
     "name": "stdout",
     "output_type": "stream",
     "text": [
      "5\n",
      "6\n",
      "7\n",
      "8\n",
      "9\n"
     ]
    }
   ],
   "source": [
    "for num in range(10):\n",
    "    if num >= 5:\n",
    "        print(num)"
   ]
  },
  {
   "cell_type": "code",
   "execution_count": 69,
   "id": "bffb2954-6c8c-4064-8a76-0e1a1c218a89",
   "metadata": {},
   "outputs": [],
   "source": [
    "for num in range(10):\n",
    "    if num < 5:\n",
    "        break\n",
    "    print(num)"
   ]
  },
  {
   "cell_type": "code",
   "execution_count": 75,
   "id": "1a7ac2f8-a910-46bd-af7e-64e24b9d9878",
   "metadata": {},
   "outputs": [
    {
     "name": "stdout",
     "output_type": "stream",
     "text": [
      "dict_items([('name', 'Jo'), ('age', 39)])\n",
      "dict_keys(['name', 'age'])\n",
      "dict_values(['Jo', 39])\n"
     ]
    }
   ],
   "source": [
    "my_dict = {'name':'Jo', 'age':39}\n",
    "print(my_dict.items())\n",
    "print(my_dict.keys())\n",
    "print(my_dict.values())"
   ]
  },
  {
   "cell_type": "markdown",
   "id": "6ac77cd5-ba6b-4298-9c35-4cf736506fc5",
   "metadata": {},
   "source": [
    "## Exercise"
   ]
  },
  {
   "cell_type": "code",
   "execution_count": 1,
   "id": "2e43de02-5b08-4ebc-8c77-9f36bb9b0e66",
   "metadata": {},
   "outputs": [],
   "source": [
    "text = 'Lorem ipsum dolor sit amet, consectetur adipiscing elit, sed do eiusmod tempor incididunt ut labore et dolore magna aliqua. Ut enim ad minim veniam, quis nostrud exercitation ullamco laboris nisi ut aliquip ex ea commodo consequat. Duis aute irure dolor in reprehenderit in voluptate velit esse cillum dolore eu fugiat nulla pariatur. Excepteur sint occaecat cupidatat non proident, sunt in culpa qui officia deserunt mollit anim id est laborum.'"
   ]
  },
  {
   "cell_type": "code",
   "execution_count": 5,
   "id": "e46d6da8-9320-4274-bab1-8100af9e0e62",
   "metadata": {},
   "outputs": [
    {
     "data": {
      "text/plain": [
       "68"
      ]
     },
     "execution_count": 5,
     "metadata": {},
     "output_type": "execute_result"
    }
   ],
   "source": [
    "text.count(' ')"
   ]
  },
  {
   "cell_type": "code",
   "execution_count": 6,
   "id": "608df6b2-5ff4-416c-93ff-f4c6598c382f",
   "metadata": {},
   "outputs": [
    {
     "data": {
      "text/plain": [
       "69"
      ]
     },
     "execution_count": 6,
     "metadata": {},
     "output_type": "execute_result"
    }
   ],
   "source": [
    "len(text.split(' '))"
   ]
  },
  {
   "cell_type": "code",
   "execution_count": 11,
   "id": "e49d992b-7b23-4334-8e27-c77937c71051",
   "metadata": {},
   "outputs": [
    {
     "name": "stdout",
     "output_type": "stream",
     "text": [
      "Lorem ipsum dolor sit amet, consectetur adipiscing elit, sed do eiusmod tempor incididunt ut labore et dolore magna aliqua\n",
      "Ut enim ad minim veniam, quis nostrud exercitation ullamco laboris nisi ut aliquip ex ea commodo consequat\n",
      "Duis aute irure dolor in reprehenderit in voluptate velit esse cillum dolore eu fugiat nulla pariatur\n",
      "Excepteur sint occaecat cupidatat non proident, sunt in culpa qui officia deserunt mollit anim id est laborum\n",
      "\n"
     ]
    }
   ],
   "source": [
    "for line in text.split('.'):\n",
    "    print(line.strip())"
   ]
  },
  {
   "cell_type": "code",
   "execution_count": 13,
   "id": "7118667e-17fc-457b-a736-9afc33b37a43",
   "metadata": {},
   "outputs": [
    {
     "name": "stdout",
     "output_type": "stream",
     "text": [
      "orem ipsum dolor sit amet, consectetur adipiscing elit, sed do eiusmod tempor incididunt ut labore et dolore magna aliqua\n",
      "Ut enim ad minim veniam, quis nostrud exercitation ullamco laboris nisi ut aliquip ex ea commodo consequat\n",
      "Duis aute irure dolor in reprehenderit in voluptate velit esse cillum dolore eu fugiat nulla pariatur\n",
      "Excepteur sint occaecat cupidatat non proident, sunt in culpa qui officia deserunt mollit anim id est laborum\n",
      "\n"
     ]
    }
   ],
   "source": [
    "for line in text.split('.'):\n",
    "    print(line[1:])"
   ]
  },
  {
   "cell_type": "raw",
   "id": "d632742d-6d0f-428f-b085-ef965d2929c6",
   "metadata": {},
   "source": [
    "' '.join(text.split(' ')[::-1]"
   ]
  },
  {
   "cell_type": "code",
   "execution_count": 19,
   "id": "8d3e5fe0-fe8c-4746-8691-1fc2c3dab3a4",
   "metadata": {},
   "outputs": [
    {
     "name": "stdout",
     "output_type": "stream",
     "text": [
      "ipsum\n",
      "adipiscing\n",
      "tempor\n",
      "aliquip\n",
      "reprehenderit\n",
      "voluptate\n",
      "pariatur.\n",
      "Excepteur\n",
      "cupidatat\n",
      "proident,\n",
      "culpa\n"
     ]
    }
   ],
   "source": [
    "for word in text.split(' '):\n",
    "    if 'p' in word:\n",
    "        print(word)"
   ]
  },
  {
   "cell_type": "code",
   "execution_count": 23,
   "id": "5a1c5bda-1c1c-40ec-951e-824c0c07307d",
   "metadata": {},
   "outputs": [],
   "source": [
    "number_of_i = 0\n",
    "\n",
    "number_of_i = text.count('i')"
   ]
  },
  {
   "cell_type": "code",
   "execution_count": 31,
   "id": "2cec72aa-8821-4de5-9d4e-50e28153c30f",
   "metadata": {},
   "outputs": [
    {
     "name": "stdout",
     "output_type": "stream",
     "text": [
      "U appears 0 times\n",
      "x appears 3 times\n",
      "  appears 68 times\n",
      "i appears 42 times\n",
      "u appears 29 times\n",
      "d appears 19 times\n",
      "f appears 3 times\n",
      "t appears 32 times\n",
      "n appears 24 times\n",
      "h appears 1 times\n",
      "E appears 0 times\n",
      "o appears 29 times\n",
      "e appears 38 times\n",
      "a appears 29 times\n",
      "L appears 0 times\n",
      "q appears 5 times\n",
      "v appears 3 times\n",
      "l appears 22 times\n",
      "r appears 22 times\n",
      "s appears 18 times\n",
      "D appears 0 times\n",
      "g appears 3 times\n",
      ". appears 4 times\n",
      "m appears 17 times\n",
      ", appears 4 times\n",
      "p appears 11 times\n",
      "c appears 16 times\n",
      "b appears 3 times\n"
     ]
    }
   ],
   "source": [
    "set(text)\n",
    "\n",
    "for letter in set(text):\n",
    "    print(letter, 'appears', text.lower().count(letter), 'times')"
   ]
  },
  {
   "cell_type": "code",
   "execution_count": 45,
   "id": "a56848dd-da0e-4b5e-a6a4-7f1bff5bfd79",
   "metadata": {},
   "outputs": [
    {
     "name": "stdout",
     "output_type": "stream",
     "text": [
      "a appears 29 times True\n",
      "e appears 38 times True\n",
      "i appears 42 times True\n",
      "o appears 29 times True\n",
      "t appears 32 times True\n",
      "u appears 29 times True\n"
     ]
    }
   ],
   "source": [
    "for letter in sorted(set(text)):\n",
    "    if not letter.isalnum(): continue\n",
    "    if text.count(letter) >= 25:\n",
    "        print(letter, 'appears', text.lower().count(letter), 'times', letter.isalnum())\n",
    "\n",
    "# the space appears 68 times"
   ]
  },
  {
   "cell_type": "code",
   "execution_count": 93,
   "id": "1f10f2c3-f220-4ebf-aab1-6c12772bcee1",
   "metadata": {},
   "outputs": [
    {
     "name": "stdout",
     "output_type": "stream",
     "text": [
      "Lorem ipsum dolor sit amet consectetur adipiscing elit sed do eiusmod tempor incididunt ut labore et dolore magna aliqua Ut enim ad minim veniam quis nostrud exercitation ullamco laboris nisi ut aliquip ex ea commodo consequat Duis aute irure dolor in reprehenderit in voluptate velit esse cillum dolore eu fugiat nulla pariatur Excepteur sint occaecat cupidatat non proident sunt in culpa qui officia deserunt mollit anim id est laborum\n"
     ]
    }
   ],
   "source": [
    "text_only_words = []\n",
    "for char in text:\n",
    "    if char.isalnum() or char == ' ':\n",
    "        text_only_words.append(char)\n",
    "\n",
    "print(''.join(text_only_words))"
   ]
  },
  {
   "cell_type": "code",
   "execution_count": 97,
   "id": "48f09777-abec-4db8-970f-472612dcf9c5",
   "metadata": {},
   "outputs": [
    {
     "ename": "AttributeError",
     "evalue": "'list' object has no attribute 'split'",
     "output_type": "error",
     "traceback": [
      "\u001b[1;31m---------------------------------------------------------------------------\u001b[0m",
      "\u001b[1;31mAttributeError\u001b[0m                            Traceback (most recent call last)",
      "Cell \u001b[1;32mIn[97], line 2\u001b[0m\n\u001b[0;32m      1\u001b[0m my_dict \u001b[38;5;241m=\u001b[39m {}\n\u001b[1;32m----> 2\u001b[0m unique_words \u001b[38;5;241m=\u001b[39m \u001b[38;5;28mlist\u001b[39m(\u001b[38;5;28mset\u001b[39m(\u001b[43mtext_only_words\u001b[49m\u001b[38;5;241;43m.\u001b[39;49m\u001b[43msplit\u001b[49m(\u001b[38;5;124m'\u001b[39m\u001b[38;5;124m \u001b[39m\u001b[38;5;124m'\u001b[39m)))\n\u001b[0;32m      3\u001b[0m words \u001b[38;5;241m=\u001b[39m text_only_words\u001b[38;5;241m.\u001b[39msplit(\u001b[38;5;124m'\u001b[39m\u001b[38;5;124m \u001b[39m\u001b[38;5;124m'\u001b[39m)\n\u001b[0;32m      5\u001b[0m \u001b[38;5;28;01mfor\u001b[39;00m word \u001b[38;5;129;01min\u001b[39;00m unique_words:\n",
      "\u001b[1;31mAttributeError\u001b[0m: 'list' object has no attribute 'split'"
     ]
    }
   ],
   "source": [
    "my_dict = {}\n",
    "unique_words = list(set(text_only_words.split(' ')))\n",
    "words = text_only_words.split(' ')\n",
    "\n",
    "for word in unique_words:\n",
    "    print(word, words.count(word))\n",
    "    mydict[word] = words.count(word)"
   ]
  }
 ],
 "metadata": {
  "kernelspec": {
   "display_name": "Python 3 (ipykernel)",
   "language": "python",
   "name": "python3"
  },
  "language_info": {
   "codemirror_mode": {
    "name": "ipython",
    "version": 3
   },
   "file_extension": ".py",
   "mimetype": "text/x-python",
   "name": "python",
   "nbconvert_exporter": "python",
   "pygments_lexer": "ipython3",
   "version": "3.12.4"
  }
 },
 "nbformat": 4,
 "nbformat_minor": 5
}
