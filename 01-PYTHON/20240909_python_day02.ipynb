{
 "cells": [
  {
   "cell_type": "markdown",
   "id": "c73f4561-f010-40cf-8507-a138f9f19c24",
   "metadata": {},
   "source": [
    "# Python Day 2"
   ]
  },
  {
   "cell_type": "code",
   "execution_count": 12,
   "id": "bd30ae35-694c-4eb7-9dd5-502a3316f5f1",
   "metadata": {},
   "outputs": [],
   "source": [
    "# List comprehension\n",
    "l1 = [i**2 for i in range(5)]\n",
    "l2 = [5, 9.4, 4.4, 8.7, 9.7]"
   ]
  },
  {
   "cell_type": "markdown",
   "id": "6721c670-cddd-4798-9dba-fc60ca71c815",
   "metadata": {},
   "source": [
    "print(l1)\n",
    "print(l2)\n",
    "print(l1 + l2)\n",
    "print(3*l1)"
   ]
  },
  {
   "cell_type": "code",
   "execution_count": 20,
   "id": "0b56f1ea-e794-4741-aec6-ab505985bd9b",
   "metadata": {},
   "outputs": [],
   "source": [
    "l3 = l2*5"
   ]
  },
  {
   "cell_type": "code",
   "execution_count": 26,
   "id": "4781da5f-d37f-4d76-9e82-d921b5d26288",
   "metadata": {},
   "outputs": [
    {
     "name": "stdout",
     "output_type": "stream",
     "text": [
      "7.44000e+00\n"
     ]
    }
   ],
   "source": [
    "# calculate the mean\n",
    "mean = 0\n",
    "for element in l3:\n",
    "    mean = mean + element\n",
    "\n",
    "mean = mean / len(l3)\n",
    "print(f'{mean:.5e}')"
   ]
  },
  {
   "cell_type": "markdown",
   "id": "1a841029-8779-4936-862e-835d59eb4d01",
   "metadata": {},
   "source": [
    "Numpy = Numerical Python"
   ]
  },
  {
   "cell_type": "code",
   "execution_count": 29,
   "id": "f25dfe33-3305-47f7-baa8-219f326b1394",
   "metadata": {},
   "outputs": [],
   "source": [
    "import numpy as np"
   ]
  },
  {
   "cell_type": "markdown",
   "id": "08ec0e3f-dfc7-4291-bbab-912bde56140a",
   "metadata": {},
   "source": [
    "The most important object in numpy is the numpy array, which is a lot like a list but with extra special features which make it more performant and practical to use."
   ]
  },
  {
   "cell_type": "code",
   "execution_count": 33,
   "id": "6a640f5c-fb89-4249-9731-e725fc712615",
   "metadata": {},
   "outputs": [],
   "source": [
    "a1 = np.array(l1)\n",
    "a2 = np.array(l2)"
   ]
  },
  {
   "cell_type": "code",
   "execution_count": 35,
   "id": "1e549158-8022-49ca-b652-dcf80b8cec54",
   "metadata": {},
   "outputs": [
    {
     "name": "stdout",
     "output_type": "stream",
     "text": [
      "[ 0  1  4  9 16]\n",
      "[5.  9.4 4.4 8.7 9.7]\n"
     ]
    }
   ],
   "source": [
    "print(a1)\n",
    "print(a2)"
   ]
  },
  {
   "cell_type": "code",
   "execution_count": 48,
   "id": "dbc577da-ba8b-46ee-9bb8-0fa38b057c56",
   "metadata": {},
   "outputs": [
    {
     "name": "stdout",
     "output_type": "stream",
     "text": [
      "[0, 1, 4, 9, 16, 5, 9.4, 4.4, 8.7, 9.7]\n",
      "[ 5.  10.4  8.4 17.7 25.7]\n"
     ]
    }
   ],
   "source": [
    "print(l1 + l2)\n",
    "print(a1 + a2) # adding arrays does the addition element by element instead of concatenating"
   ]
  },
  {
   "cell_type": "code",
   "execution_count": 50,
   "id": "7c7f7a13-4d90-435c-9801-3a505d0baa37",
   "metadata": {},
   "outputs": [
    {
     "ename": "ValueError",
     "evalue": "operands could not be broadcast together with shapes (5,) (3,) ",
     "output_type": "error",
     "traceback": [
      "\u001b[1;31m---------------------------------------------------------------------------\u001b[0m",
      "\u001b[1;31mValueError\u001b[0m                                Traceback (most recent call last)",
      "Cell \u001b[1;32mIn[50], line 1\u001b[0m\n\u001b[1;32m----> 1\u001b[0m \u001b[43ma1\u001b[49m\u001b[43m \u001b[49m\u001b[38;5;241;43m+\u001b[39;49m\u001b[43m \u001b[49m\u001b[43mnp\u001b[49m\u001b[38;5;241;43m.\u001b[39;49m\u001b[43marray\u001b[49m\u001b[43m(\u001b[49m\u001b[43m[\u001b[49m\u001b[38;5;241;43m1\u001b[39;49m\u001b[43m,\u001b[49m\u001b[43m \u001b[49m\u001b[38;5;241;43m2\u001b[39;49m\u001b[43m,\u001b[49m\u001b[43m \u001b[49m\u001b[38;5;241;43m3\u001b[39;49m\u001b[43m]\u001b[49m\u001b[43m)\u001b[49m  \u001b[38;5;66;03m# but this means that the arrays should have the same length\u001b[39;00m\n",
      "\u001b[1;31mValueError\u001b[0m: operands could not be broadcast together with shapes (5,) (3,) "
     ]
    }
   ],
   "source": [
    "a1 + np.array([1, 2, 3])  # but this means that the arrays should have the same length"
   ]
  },
  {
   "cell_type": "code",
   "execution_count": 52,
   "id": "4f683b4f-2504-43ec-b58f-88dc3e58ddfb",
   "metadata": {},
   "outputs": [
    {
     "name": "stdout",
     "output_type": "stream",
     "text": [
      "[5, 10.4, 8.4, 17.7, 25.7]\n"
     ]
    }
   ],
   "source": [
    "lnew = []\n",
    "\n",
    "for i in range(len(l1)):\n",
    "    lnew.append(l1[i] + l2[i])\n",
    "\n",
    "print(lnew)"
   ]
  },
  {
   "cell_type": "code",
   "execution_count": 54,
   "id": "5a33fcb5-0469-430e-92a3-725c98a2e3a0",
   "metadata": {},
   "outputs": [
    {
     "data": {
      "text/plain": [
       "array([ 5. , 10.4,  8.4, 17.7, 25.7])"
      ]
     },
     "execution_count": 54,
     "metadata": {},
     "output_type": "execute_result"
    }
   ],
   "source": [
    "a1 + a2"
   ]
  },
  {
   "cell_type": "code",
   "execution_count": 56,
   "id": "c6ce0712-cbbb-49eb-a8bb-2f3fdc02ba55",
   "metadata": {},
   "outputs": [
    {
     "data": {
      "text/plain": [
       "array([ 0.        ,  0.84147098, -0.7568025 ,  0.41211849, -0.28790332])"
      ]
     },
     "execution_count": 56,
     "metadata": {},
     "output_type": "execute_result"
    }
   ],
   "source": [
    "# this is vectorisation: the loop is implicit and you can do all operations element-wise\n",
    "np.sin(a1)"
   ]
  },
  {
   "cell_type": "code",
   "execution_count": 60,
   "id": "377f7dd6-1cee-4348-a528-ce027b7fda6c",
   "metadata": {},
   "outputs": [],
   "source": [
    "matrix = [[1, 2, 3], [4, 5, 6], [7, 8, 9]]"
   ]
  },
  {
   "cell_type": "code",
   "execution_count": 62,
   "id": "45343201-03e5-4cd6-8f53-12d0824284b8",
   "metadata": {},
   "outputs": [],
   "source": [
    "np_matrix = np.array(matrix)"
   ]
  },
  {
   "cell_type": "code",
   "execution_count": 66,
   "id": "e1da4c99-50bf-4318-9ebc-5e0e70c528bc",
   "metadata": {},
   "outputs": [
    {
     "data": {
      "text/plain": [
       "array([[1, 2, 3],\n",
       "       [4, 5, 6],\n",
       "       [7, 8, 9]])"
      ]
     },
     "execution_count": 66,
     "metadata": {},
     "output_type": "execute_result"
    }
   ],
   "source": [
    "np_matrix"
   ]
  },
  {
   "cell_type": "code",
   "execution_count": 68,
   "id": "48139a15-9a00-430f-b69e-2b70a671f5da",
   "metadata": {},
   "outputs": [
    {
     "data": {
      "text/plain": [
       "(3, 3)"
      ]
     },
     "execution_count": 68,
     "metadata": {},
     "output_type": "execute_result"
    }
   ],
   "source": [
    "np_matrix.shape"
   ]
  },
  {
   "cell_type": "code",
   "execution_count": 70,
   "id": "5f47d2ba-d965-42b1-be69-49075b938e9f",
   "metadata": {},
   "outputs": [
    {
     "data": {
      "text/plain": [
       "array([[-4.45969769, -2.41614684,  2.0100075 ],\n",
       "       [ 9.34635638, 19.28366219, 30.96017029],\n",
       "       [43.75390225, 57.85449997, 74.08886974]])"
      ]
     },
     "execution_count": 70,
     "metadata": {},
     "output_type": "execute_result"
    }
   ],
   "source": [
    "np.cos(np_matrix) + np_matrix**2 - 6"
   ]
  },
  {
   "cell_type": "markdown",
   "id": "c2711d4f-379d-4ace-a6b6-31538f399dcc",
   "metadata": {},
   "source": [
    "We can ask an array about certain of its properties"
   ]
  },
  {
   "cell_type": "code",
   "execution_count": 77,
   "id": "8f0e8139-6f94-4777-851c-4b4350594eab",
   "metadata": {},
   "outputs": [
    {
     "data": {
      "text/plain": [
       "dtype('float64')"
      ]
     },
     "execution_count": 77,
     "metadata": {},
     "output_type": "execute_result"
    }
   ],
   "source": [
    "np_matrix.dtype"
   ]
  },
  {
   "cell_type": "code",
   "execution_count": 77,
   "id": "7c7a37a7-a902-4c28-bb4a-6e6d6e48f6d4",
   "metadata": {},
   "outputs": [
    {
     "data": {
      "text/plain": [
       "dtype('float64')"
      ]
     },
     "execution_count": 77,
     "metadata": {},
     "output_type": "execute_result"
    }
   ],
   "source": [
    "np.sin(matrix).dtype"
   ]
  },
  {
   "cell_type": "code",
   "execution_count": 79,
   "id": "1893d286-dc31-4016-be1c-44817b5e1de4",
   "metadata": {},
   "outputs": [
    {
     "data": {
      "text/plain": [
       "(3, 3)"
      ]
     },
     "execution_count": 79,
     "metadata": {},
     "output_type": "execute_result"
    }
   ],
   "source": [
    "np_matrix.shape"
   ]
  },
  {
   "cell_type": "code",
   "execution_count": 85,
   "id": "efbd58b9-a889-4178-9035-45c75a6eb440",
   "metadata": {},
   "outputs": [
    {
     "data": {
      "text/plain": [
       "2"
      ]
     },
     "execution_count": 85,
     "metadata": {},
     "output_type": "execute_result"
    }
   ],
   "source": [
    "np_matrix.ndim"
   ]
  },
  {
   "cell_type": "code",
   "execution_count": 89,
   "id": "e2d4c731-42fe-456c-a417-2c03ce8b13a5",
   "metadata": {},
   "outputs": [
    {
     "name": "stdout",
     "output_type": "stream",
     "text": [
      "[[1 2 3]\n",
      " [4 5 6]\n",
      " [7 8 9]]\n",
      "[[1 4 7]\n",
      " [2 5 8]\n",
      " [3 6 9]]\n"
     ]
    }
   ],
   "source": [
    "print(np_matrix)\n",
    "print(np_matrix.T)"
   ]
  },
  {
   "cell_type": "code",
   "execution_count": 91,
   "id": "45a74414-0e1b-4f86-86db-cbd14375ccb2",
   "metadata": {},
   "outputs": [
    {
     "name": "stdout",
     "output_type": "stream",
     "text": [
      "[[1 2 3 4 5 6 7 8 9]]\n"
     ]
    }
   ],
   "source": [
    "print(np_matrix.reshape(1, 9))"
   ]
  },
  {
   "cell_type": "code",
   "execution_count": 93,
   "id": "86561c6e-b3d7-4634-9186-5d18da762dc3",
   "metadata": {},
   "outputs": [],
   "source": [
    "mat1 = np.array([[1, 2, 3, 4, 5, 6, 7, 8, 9, 10],\n",
    "                 [11, 12, 13, 14, 15, 16, 17, 18, 19, 20]])"
   ]
  },
  {
   "cell_type": "code",
   "execution_count": 95,
   "id": "8241bbff-ac92-49ac-b088-e2e31aab7d4c",
   "metadata": {},
   "outputs": [
    {
     "data": {
      "text/plain": [
       "array([[ 1,  2,  3,  4,  5,  6,  7,  8,  9, 10],\n",
       "       [11, 12, 13, 14, 15, 16, 17, 18, 19, 20]])"
      ]
     },
     "execution_count": 95,
     "metadata": {},
     "output_type": "execute_result"
    }
   ],
   "source": [
    "mat1"
   ]
  },
  {
   "cell_type": "code",
   "execution_count": 101,
   "id": "e00c7fd1-da07-41a6-987c-42fa4d0c5189",
   "metadata": {},
   "outputs": [
    {
     "name": "stdout",
     "output_type": "stream",
     "text": [
      "[[ 1  2  3  4  5]\n",
      " [ 6  7  8  9 10]\n",
      " [11 12 13 14 15]\n",
      " [16 17 18 19 20]]\n",
      "[[ 1  2  3  4]\n",
      " [ 5  6  7  8]\n",
      " [ 9 10 11 12]\n",
      " [13 14 15 16]\n",
      " [17 18 19 20]]\n"
     ]
    }
   ],
   "source": [
    "print(mat1.reshape(4, 5))\n",
    "print(mat1.reshape(5, 4))"
   ]
  },
  {
   "cell_type": "markdown",
   "id": "8047af66-f3ad-45d9-a420-7245484ccbf8",
   "metadata": {},
   "source": [
    "# Three properties of Numpy arrays\n",
    "## Vectorization"
   ]
  },
  {
   "cell_type": "code",
   "execution_count": 108,
   "id": "e7a34ff8-ebd0-4651-81a3-309175d25f61",
   "metadata": {},
   "outputs": [
    {
     "name": "stdout",
     "output_type": "stream",
     "text": [
      "[ 0.69134007 -1.05370678 -0.18749959 ...  2.13920277  0.26902399\n",
      " -0.07458608]\n"
     ]
    }
   ],
   "source": [
    "a = np.random.normal(0, 1, size = 10000)\n",
    "print(a)"
   ]
  },
  {
   "cell_type": "code",
   "execution_count": null,
   "id": "e4b86c07-cc1b-475a-8d58-4dda7bbcd372",
   "metadata": {},
   "outputs": [],
   "source": [
    "# we want to get the list of 1/x"
   ]
  },
  {
   "cell_type": "code",
   "execution_count": 110,
   "id": "5df91c9a-6bce-46be-8a25-d3f760c581e8",
   "metadata": {},
   "outputs": [],
   "source": [
    "# method 1 : custom function\n",
    "def explicit_loop(array):\n",
    "    result = []\n",
    "    for element in array:\n",
    "        result.append(1/element)\n",
    "    return np.array(result)"
   ]
  },
  {
   "cell_type": "code",
   "execution_count": 114,
   "id": "1daceb06-31b9-41ad-841d-5a17b94423e0",
   "metadata": {},
   "outputs": [
    {
     "name": "stdout",
     "output_type": "stream",
     "text": [
      "3.39 ms ± 117 μs per loop (mean ± std. dev. of 7 runs, 100 loops each)\n"
     ]
    }
   ],
   "source": [
    "%timeit explicit_loop(a)"
   ]
  },
  {
   "cell_type": "code",
   "execution_count": 120,
   "id": "b7a9233d-9af0-4de9-910c-e4dcd35eab74",
   "metadata": {},
   "outputs": [
    {
     "name": "stdout",
     "output_type": "stream",
     "text": [
      "2.31 ms ± 493 μs per loop (mean ± std. dev. of 7 runs, 100 loops each)\n"
     ]
    }
   ],
   "source": [
    "# method 2 : list comprehension\n",
    "%timeit a2 = np.array([1/x for x in a])"
   ]
  },
  {
   "cell_type": "code",
   "execution_count": 122,
   "id": "96a3f5f9-dd52-43c9-b080-c0043b7541dc",
   "metadata": {},
   "outputs": [
    {
     "name": "stdout",
     "output_type": "stream",
     "text": [
      "27 μs ± 2.47 μs per loop (mean ± std. dev. of 7 runs, 10,000 loops each)\n"
     ]
    }
   ],
   "source": [
    "# method 3 : numpy array vectorisation\n",
    "%timeit a3 = 1/a"
   ]
  },
  {
   "cell_type": "code",
   "execution_count": 130,
   "id": "7d542235-e5c8-4637-9f27-de159ba42ff1",
   "metadata": {},
   "outputs": [
    {
     "data": {
      "text/plain": [
       "566.849659265584"
      ]
     },
     "execution_count": 130,
     "metadata": {},
     "output_type": "execute_result"
    }
   ],
   "source": [
    "max(1/a)"
   ]
  },
  {
   "cell_type": "code",
   "execution_count": 132,
   "id": "700fb1f2-933c-4a56-895e-ef98f466eeed",
   "metadata": {},
   "outputs": [
    {
     "data": {
      "text/plain": [
       "2547"
      ]
     },
     "execution_count": 132,
     "metadata": {},
     "output_type": "execute_result"
    }
   ],
   "source": [
    "np.argmax(1/a)"
   ]
  },
  {
   "cell_type": "code",
   "execution_count": 155,
   "id": "8ff421ee-cf6a-419c-a534-be27f7196938",
   "metadata": {},
   "outputs": [
    {
     "data": {
      "text/plain": [
       "array([[7.14312319, 5.89656329, 6.70717189, ..., 6.29287278, 3.65116048,\n",
       "        5.6672553 ],\n",
       "       [6.05578042, 2.24316258, 2.32360283, ..., 5.43026786, 3.64868116,\n",
       "        5.43547817],\n",
       "       [9.17693622, 6.39195847, 4.21422374, ..., 8.24317679, 2.38855569,\n",
       "        4.23479477]])"
      ]
     },
     "execution_count": 155,
     "metadata": {},
     "output_type": "execute_result"
    }
   ],
   "source": [
    "vector3D = np.array(np.random.normal(5, 2, size = (3, 100000)))\n",
    "vector3D"
   ]
  },
  {
   "cell_type": "code",
   "execution_count": 139,
   "id": "4ddf8ba7-6c5e-4058-ab09-7bafc798ae22",
   "metadata": {},
   "outputs": [
    {
     "data": {
      "text/plain": [
       "array([[0.85549142, 3.58644956, 2.04928878, ..., 2.51140058, 1.70387665,\n",
       "        4.34711028],\n",
       "       [2.18310922, 2.95583294, 3.24973766, ..., 1.76146835, 2.58887221,\n",
       "        2.45390601],\n",
       "       [1.96061471, 3.01520252, 4.12182507, ..., 1.25988637, 1.52928198,\n",
       "        2.49018322]])"
      ]
     },
     "execution_count": 139,
     "metadata": {},
     "output_type": "execute_result"
    }
   ],
   "source": [
    "vector3D*0.5"
   ]
  },
  {
   "cell_type": "code",
   "execution_count": 180,
   "id": "9111d043-e2ae-4ebe-9199-0d71da3c5f34",
   "metadata": {},
   "outputs": [
    {
     "data": {
      "text/plain": [
       "(3, 100000)"
      ]
     },
     "execution_count": 180,
     "metadata": {},
     "output_type": "execute_result"
    }
   ],
   "source": [
    "vector3D.shape"
   ]
  },
  {
   "cell_type": "code",
   "execution_count": 186,
   "id": "71264f89-b628-4544-b574-1ed713376de1",
   "metadata": {},
   "outputs": [
    {
     "data": {
      "text/plain": [
       "(3,)"
      ]
     },
     "execution_count": 186,
     "metadata": {},
     "output_type": "execute_result"
    }
   ],
   "source": [
    "np.array([1.5, 7.4, -0.6]).shape"
   ]
  },
  {
   "cell_type": "code",
   "execution_count": 188,
   "id": "df369261-4042-4afa-93ad-4168259e5dd9",
   "metadata": {},
   "outputs": [
    {
     "data": {
      "text/plain": [
       "array([[ 8.64312319,  7.39656329,  8.20717189, ...,  7.79287278,\n",
       "         5.15116048,  7.1672553 ],\n",
       "       [13.45578042,  9.64316258,  9.72360283, ..., 12.83026786,\n",
       "        11.04868116, 12.83547817],\n",
       "       [ 8.57693622,  5.79195847,  3.61422374, ...,  7.64317679,\n",
       "         1.78855569,  3.63479477]])"
      ]
     },
     "execution_count": 188,
     "metadata": {},
     "output_type": "execute_result"
    }
   ],
   "source": [
    "vector3D + np.array([[1.5], [7.4], [-0.6]])"
   ]
  },
  {
   "cell_type": "code",
   "execution_count": 190,
   "id": "4602b1c8-9ea0-4629-9d71-f462a0f6b5e6",
   "metadata": {},
   "outputs": [
    {
     "ename": "ValueError",
     "evalue": "operands could not be broadcast together with shapes (3,100000) (2,) ",
     "output_type": "error",
     "traceback": [
      "\u001b[1;31m---------------------------------------------------------------------------\u001b[0m",
      "\u001b[1;31mValueError\u001b[0m                                Traceback (most recent call last)",
      "Cell \u001b[1;32mIn[190], line 1\u001b[0m\n\u001b[1;32m----> 1\u001b[0m \u001b[43mvector3D\u001b[49m\u001b[43m \u001b[49m\u001b[38;5;241;43m+\u001b[39;49m\u001b[43m \u001b[49m\u001b[43mnp\u001b[49m\u001b[38;5;241;43m.\u001b[39;49m\u001b[43marray\u001b[49m\u001b[43m(\u001b[49m\u001b[43m[\u001b[49m\u001b[38;5;241;43m6\u001b[39;49m\u001b[43m,\u001b[49m\u001b[43m \u001b[49m\u001b[38;5;241;43m8\u001b[39;49m\u001b[43m]\u001b[49m\u001b[43m)\u001b[49m\n",
      "\u001b[1;31mValueError\u001b[0m: operands could not be broadcast together with shapes (3,100000) (2,) "
     ]
    }
   ],
   "source": [
    "vector3D + np.array([6, 8])"
   ]
  },
  {
   "cell_type": "code",
   "execution_count": 192,
   "id": "f5235196-c675-4c80-95ae-5b414e9410a2",
   "metadata": {},
   "outputs": [
    {
     "data": {
      "text/plain": [
       "array([[ 8.14312319,  6.89656329,  7.70717189, ...,  7.29287278,\n",
       "         4.65116048,  6.6672553 ],\n",
       "       [ 8.05578042,  4.24316258,  4.32360283, ...,  7.43026786,\n",
       "         5.64868116,  7.43547817],\n",
       "       [12.17693622,  9.39195847,  7.21422374, ..., 11.24317679,\n",
       "         5.38855569,  7.23479477]])"
      ]
     },
     "execution_count": 192,
     "metadata": {},
     "output_type": "execute_result"
    }
   ],
   "source": [
    "vector3D + np.array([[1], [2], [3]])"
   ]
  }
 ],
 "metadata": {
  "kernelspec": {
   "display_name": "Python 3 (ipykernel)",
   "language": "python",
   "name": "python3"
  },
  "language_info": {
   "codemirror_mode": {
    "name": "ipython",
    "version": 3
   },
   "file_extension": ".py",
   "mimetype": "text/x-python",
   "name": "python",
   "nbconvert_exporter": "python",
   "pygments_lexer": "ipython3",
   "version": "3.12.4"
  }
 },
 "nbformat": 4,
 "nbformat_minor": 5
}
