{
 "cells": [
  {
   "cell_type": "markdown",
   "id": "c73f4561-f010-40cf-8507-a138f9f19c24",
   "metadata": {},
   "source": [
    "# Python Day 2"
   ]
  },
  {
   "cell_type": "code",
   "execution_count": 12,
   "id": "bd30ae35-694c-4eb7-9dd5-502a3316f5f1",
   "metadata": {},
   "outputs": [],
   "source": [
    "# List comprehension\n",
    "l1 = [i**2 for i in range(5)]\n",
    "l2 = [5, 9.4, 4.4, 8.7, 9.7]"
   ]
  },
  {
   "cell_type": "markdown",
   "id": "6721c670-cddd-4798-9dba-fc60ca71c815",
   "metadata": {},
   "source": [
    "print(l1)\n",
    "print(l2)\n",
    "print(l1 + l2)\n",
    "print(3*l1)"
   ]
  },
  {
   "cell_type": "code",
   "execution_count": 20,
   "id": "0b56f1ea-e794-4741-aec6-ab505985bd9b",
   "metadata": {},
   "outputs": [],
   "source": [
    "l3 = l2*5"
   ]
  },
  {
   "cell_type": "code",
   "execution_count": 26,
   "id": "4781da5f-d37f-4d76-9e82-d921b5d26288",
   "metadata": {},
   "outputs": [
    {
     "name": "stdout",
     "output_type": "stream",
     "text": [
      "7.44000e+00\n"
     ]
    }
   ],
   "source": [
    "# calculate the mean\n",
    "mean = 0\n",
    "for element in l3:\n",
    "    mean = mean + element\n",
    "\n",
    "mean = mean / len(l3)\n",
    "print(f'{mean:.5e}')"
   ]
  },
  {
   "cell_type": "markdown",
   "id": "1a841029-8779-4936-862e-835d59eb4d01",
   "metadata": {},
   "source": [
    "Numpy = Numerical Python"
   ]
  },
  {
   "cell_type": "code",
   "execution_count": 29,
   "id": "f25dfe33-3305-47f7-baa8-219f326b1394",
   "metadata": {},
   "outputs": [],
   "source": [
    "import numpy as np"
   ]
  },
  {
   "cell_type": "markdown",
   "id": "08ec0e3f-dfc7-4291-bbab-912bde56140a",
   "metadata": {},
   "source": [
    "The most important object in numpy is the numpy array, which is a lot like a list but with extra special features which make it more performant and practical to use."
   ]
  },
  {
   "cell_type": "code",
   "execution_count": 33,
   "id": "6a640f5c-fb89-4249-9731-e725fc712615",
   "metadata": {},
   "outputs": [],
   "source": [
    "a1 = np.array(l1)\n",
    "a2 = np.array(l2)"
   ]
  },
  {
   "cell_type": "code",
   "execution_count": 35,
   "id": "1e549158-8022-49ca-b652-dcf80b8cec54",
   "metadata": {},
   "outputs": [
    {
     "name": "stdout",
     "output_type": "stream",
     "text": [
      "[ 0  1  4  9 16]\n",
      "[5.  9.4 4.4 8.7 9.7]\n"
     ]
    }
   ],
   "source": [
    "print(a1)\n",
    "print(a2)"
   ]
  },
  {
   "cell_type": "code",
   "execution_count": 48,
   "id": "dbc577da-ba8b-46ee-9bb8-0fa38b057c56",
   "metadata": {},
   "outputs": [
    {
     "name": "stdout",
     "output_type": "stream",
     "text": [
      "[0, 1, 4, 9, 16, 5, 9.4, 4.4, 8.7, 9.7]\n",
      "[ 5.  10.4  8.4 17.7 25.7]\n"
     ]
    }
   ],
   "source": [
    "print(l1 + l2)\n",
    "print(a1 + a2) # adding arrays does the addition element by element instead of concatenating"
   ]
  },
  {
   "cell_type": "code",
   "execution_count": 50,
   "id": "7c7f7a13-4d90-435c-9801-3a505d0baa37",
   "metadata": {},
   "outputs": [
    {
     "ename": "ValueError",
     "evalue": "operands could not be broadcast together with shapes (5,) (3,) ",
     "output_type": "error",
     "traceback": [
      "\u001b[1;31m---------------------------------------------------------------------------\u001b[0m",
      "\u001b[1;31mValueError\u001b[0m                                Traceback (most recent call last)",
      "Cell \u001b[1;32mIn[50], line 1\u001b[0m\n\u001b[1;32m----> 1\u001b[0m \u001b[43ma1\u001b[49m\u001b[43m \u001b[49m\u001b[38;5;241;43m+\u001b[39;49m\u001b[43m \u001b[49m\u001b[43mnp\u001b[49m\u001b[38;5;241;43m.\u001b[39;49m\u001b[43marray\u001b[49m\u001b[43m(\u001b[49m\u001b[43m[\u001b[49m\u001b[38;5;241;43m1\u001b[39;49m\u001b[43m,\u001b[49m\u001b[43m \u001b[49m\u001b[38;5;241;43m2\u001b[39;49m\u001b[43m,\u001b[49m\u001b[43m \u001b[49m\u001b[38;5;241;43m3\u001b[39;49m\u001b[43m]\u001b[49m\u001b[43m)\u001b[49m  \u001b[38;5;66;03m# but this means that the arrays should have the same length\u001b[39;00m\n",
      "\u001b[1;31mValueError\u001b[0m: operands could not be broadcast together with shapes (5,) (3,) "
     ]
    }
   ],
   "source": [
    "a1 + np.array([1, 2, 3])  # but this means that the arrays should have the same length"
   ]
  },
  {
   "cell_type": "code",
   "execution_count": 52,
   "id": "4f683b4f-2504-43ec-b58f-88dc3e58ddfb",
   "metadata": {},
   "outputs": [
    {
     "name": "stdout",
     "output_type": "stream",
     "text": [
      "[5, 10.4, 8.4, 17.7, 25.7]\n"
     ]
    }
   ],
   "source": [
    "lnew = []\n",
    "\n",
    "for i in range(len(l1)):\n",
    "    lnew.append(l1[i] + l2[i])\n",
    "\n",
    "print(lnew)"
   ]
  },
  {
   "cell_type": "code",
   "execution_count": 54,
   "id": "5a33fcb5-0469-430e-92a3-725c98a2e3a0",
   "metadata": {},
   "outputs": [
    {
     "data": {
      "text/plain": [
       "array([ 5. , 10.4,  8.4, 17.7, 25.7])"
      ]
     },
     "execution_count": 54,
     "metadata": {},
     "output_type": "execute_result"
    }
   ],
   "source": [
    "a1 + a2"
   ]
  },
  {
   "cell_type": "code",
   "execution_count": 56,
   "id": "c6ce0712-cbbb-49eb-a8bb-2f3fdc02ba55",
   "metadata": {},
   "outputs": [
    {
     "data": {
      "text/plain": [
       "array([ 0.        ,  0.84147098, -0.7568025 ,  0.41211849, -0.28790332])"
      ]
     },
     "execution_count": 56,
     "metadata": {},
     "output_type": "execute_result"
    }
   ],
   "source": [
    "# this is vectorisation: the loop is implicit and you can do all operations element-wise\n",
    "np.sin(a1)"
   ]
  },
  {
   "cell_type": "code",
   "execution_count": 60,
   "id": "377f7dd6-1cee-4348-a528-ce027b7fda6c",
   "metadata": {},
   "outputs": [],
   "source": [
    "matrix = [[1, 2, 3], [4, 5, 6], [7, 8, 9]]"
   ]
  },
  {
   "cell_type": "code",
   "execution_count": 62,
   "id": "45343201-03e5-4cd6-8f53-12d0824284b8",
   "metadata": {},
   "outputs": [],
   "source": [
    "np_matrix = np.array(matrix)"
   ]
  },
  {
   "cell_type": "code",
   "execution_count": 66,
   "id": "e1da4c99-50bf-4318-9ebc-5e0e70c528bc",
   "metadata": {},
   "outputs": [
    {
     "data": {
      "text/plain": [
       "array([[1, 2, 3],\n",
       "       [4, 5, 6],\n",
       "       [7, 8, 9]])"
      ]
     },
     "execution_count": 66,
     "metadata": {},
     "output_type": "execute_result"
    }
   ],
   "source": [
    "np_matrix"
   ]
  },
  {
   "cell_type": "code",
   "execution_count": 68,
   "id": "48139a15-9a00-430f-b69e-2b70a671f5da",
   "metadata": {},
   "outputs": [
    {
     "data": {
      "text/plain": [
       "(3, 3)"
      ]
     },
     "execution_count": 68,
     "metadata": {},
     "output_type": "execute_result"
    }
   ],
   "source": [
    "np_matrix.shape"
   ]
  },
  {
   "cell_type": "code",
   "execution_count": 70,
   "id": "5f47d2ba-d965-42b1-be69-49075b938e9f",
   "metadata": {},
   "outputs": [
    {
     "data": {
      "text/plain": [
       "array([[-4.45969769, -2.41614684,  2.0100075 ],\n",
       "       [ 9.34635638, 19.28366219, 30.96017029],\n",
       "       [43.75390225, 57.85449997, 74.08886974]])"
      ]
     },
     "execution_count": 70,
     "metadata": {},
     "output_type": "execute_result"
    }
   ],
   "source": [
    "np.cos(np_matrix) + np_matrix**2 - 6"
   ]
  },
  {
   "cell_type": "markdown",
   "id": "c2711d4f-379d-4ace-a6b6-31538f399dcc",
   "metadata": {},
   "source": [
    "We can ask an array about certain of its properties"
   ]
  },
  {
   "cell_type": "code",
   "execution_count": 77,
   "id": "8f0e8139-6f94-4777-851c-4b4350594eab",
   "metadata": {},
   "outputs": [
    {
     "data": {
      "text/plain": [
       "dtype('float64')"
      ]
     },
     "execution_count": 77,
     "metadata": {},
     "output_type": "execute_result"
    }
   ],
   "source": [
    "np_matrix.dtype"
   ]
  },
  {
   "cell_type": "code",
   "execution_count": 77,
   "id": "7c7a37a7-a902-4c28-bb4a-6e6d6e48f6d4",
   "metadata": {},
   "outputs": [
    {
     "data": {
      "text/plain": [
       "dtype('float64')"
      ]
     },
     "execution_count": 77,
     "metadata": {},
     "output_type": "execute_result"
    }
   ],
   "source": [
    "np.sin(matrix).dtype"
   ]
  },
  {
   "cell_type": "code",
   "execution_count": 79,
   "id": "1893d286-dc31-4016-be1c-44817b5e1de4",
   "metadata": {},
   "outputs": [
    {
     "data": {
      "text/plain": [
       "(3, 3)"
      ]
     },
     "execution_count": 79,
     "metadata": {},
     "output_type": "execute_result"
    }
   ],
   "source": [
    "np_matrix.shape"
   ]
  },
  {
   "cell_type": "code",
   "execution_count": 85,
   "id": "efbd58b9-a889-4178-9035-45c75a6eb440",
   "metadata": {},
   "outputs": [
    {
     "data": {
      "text/plain": [
       "2"
      ]
     },
     "execution_count": 85,
     "metadata": {},
     "output_type": "execute_result"
    }
   ],
   "source": [
    "np_matrix.ndim"
   ]
  },
  {
   "cell_type": "code",
   "execution_count": 89,
   "id": "e2d4c731-42fe-456c-a417-2c03ce8b13a5",
   "metadata": {},
   "outputs": [
    {
     "name": "stdout",
     "output_type": "stream",
     "text": [
      "[[1 2 3]\n",
      " [4 5 6]\n",
      " [7 8 9]]\n",
      "[[1 4 7]\n",
      " [2 5 8]\n",
      " [3 6 9]]\n"
     ]
    }
   ],
   "source": [
    "print(np_matrix)\n",
    "print(np_matrix.T)"
   ]
  },
  {
   "cell_type": "code",
   "execution_count": 91,
   "id": "45a74414-0e1b-4f86-86db-cbd14375ccb2",
   "metadata": {},
   "outputs": [
    {
     "name": "stdout",
     "output_type": "stream",
     "text": [
      "[[1 2 3 4 5 6 7 8 9]]\n"
     ]
    }
   ],
   "source": [
    "print(np_matrix.reshape(1, 9))"
   ]
  },
  {
   "cell_type": "code",
   "execution_count": 93,
   "id": "86561c6e-b3d7-4634-9186-5d18da762dc3",
   "metadata": {},
   "outputs": [],
   "source": [
    "mat1 = np.array([[1, 2, 3, 4, 5, 6, 7, 8, 9, 10],\n",
    "                 [11, 12, 13, 14, 15, 16, 17, 18, 19, 20]])"
   ]
  },
  {
   "cell_type": "code",
   "execution_count": 95,
   "id": "8241bbff-ac92-49ac-b088-e2e31aab7d4c",
   "metadata": {},
   "outputs": [
    {
     "data": {
      "text/plain": [
       "array([[ 1,  2,  3,  4,  5,  6,  7,  8,  9, 10],\n",
       "       [11, 12, 13, 14, 15, 16, 17, 18, 19, 20]])"
      ]
     },
     "execution_count": 95,
     "metadata": {},
     "output_type": "execute_result"
    }
   ],
   "source": [
    "mat1"
   ]
  },
  {
   "cell_type": "code",
   "execution_count": 101,
   "id": "e00c7fd1-da07-41a6-987c-42fa4d0c5189",
   "metadata": {},
   "outputs": [
    {
     "name": "stdout",
     "output_type": "stream",
     "text": [
      "[[ 1  2  3  4  5]\n",
      " [ 6  7  8  9 10]\n",
      " [11 12 13 14 15]\n",
      " [16 17 18 19 20]]\n",
      "[[ 1  2  3  4]\n",
      " [ 5  6  7  8]\n",
      " [ 9 10 11 12]\n",
      " [13 14 15 16]\n",
      " [17 18 19 20]]\n"
     ]
    }
   ],
   "source": [
    "print(mat1.reshape(4, 5))\n",
    "print(mat1.reshape(5, 4))"
   ]
  },
  {
   "cell_type": "markdown",
   "id": "8047af66-f3ad-45d9-a420-7245484ccbf8",
   "metadata": {},
   "source": [
    "# Three properties of Numpy arrays\n",
    "## Vectorization"
   ]
  },
  {
   "cell_type": "code",
   "execution_count": 108,
   "id": "e7a34ff8-ebd0-4651-81a3-309175d25f61",
   "metadata": {},
   "outputs": [
    {
     "name": "stdout",
     "output_type": "stream",
     "text": [
      "[ 0.69134007 -1.05370678 -0.18749959 ...  2.13920277  0.26902399\n",
      " -0.07458608]\n"
     ]
    }
   ],
   "source": [
    "a = np.random.normal(0, 1, size = 10000)\n",
    "print(a)"
   ]
  },
  {
   "cell_type": "code",
   "execution_count": null,
   "id": "e4b86c07-cc1b-475a-8d58-4dda7bbcd372",
   "metadata": {},
   "outputs": [],
   "source": [
    "# we want to get the list of 1/x"
   ]
  },
  {
   "cell_type": "code",
   "execution_count": 110,
   "id": "5df91c9a-6bce-46be-8a25-d3f760c581e8",
   "metadata": {},
   "outputs": [],
   "source": [
    "# method 1 : custom function\n",
    "def explicit_loop(array):\n",
    "    result = []\n",
    "    for element in array:\n",
    "        result.append(1/element)\n",
    "    return np.array(result)"
   ]
  },
  {
   "cell_type": "code",
   "execution_count": 114,
   "id": "1daceb06-31b9-41ad-841d-5a17b94423e0",
   "metadata": {},
   "outputs": [
    {
     "name": "stdout",
     "output_type": "stream",
     "text": [
      "3.39 ms ± 117 μs per loop (mean ± std. dev. of 7 runs, 100 loops each)\n"
     ]
    }
   ],
   "source": [
    "%timeit explicit_loop(a)"
   ]
  },
  {
   "cell_type": "code",
   "execution_count": 120,
   "id": "b7a9233d-9af0-4de9-910c-e4dcd35eab74",
   "metadata": {},
   "outputs": [
    {
     "name": "stdout",
     "output_type": "stream",
     "text": [
      "2.31 ms ± 493 μs per loop (mean ± std. dev. of 7 runs, 100 loops each)\n"
     ]
    }
   ],
   "source": [
    "# method 2 : list comprehension\n",
    "%timeit a2 = np.array([1/x for x in a])"
   ]
  },
  {
   "cell_type": "code",
   "execution_count": 122,
   "id": "96a3f5f9-dd52-43c9-b080-c0043b7541dc",
   "metadata": {},
   "outputs": [
    {
     "name": "stdout",
     "output_type": "stream",
     "text": [
      "27 μs ± 2.47 μs per loop (mean ± std. dev. of 7 runs, 10,000 loops each)\n"
     ]
    }
   ],
   "source": [
    "# method 3 : numpy array vectorisation\n",
    "%timeit a3 = 1/a"
   ]
  },
  {
   "cell_type": "code",
   "execution_count": 130,
   "id": "7d542235-e5c8-4637-9f27-de159ba42ff1",
   "metadata": {},
   "outputs": [
    {
     "data": {
      "text/plain": [
       "566.849659265584"
      ]
     },
     "execution_count": 130,
     "metadata": {},
     "output_type": "execute_result"
    }
   ],
   "source": [
    "max(1/a)"
   ]
  },
  {
   "cell_type": "code",
   "execution_count": 132,
   "id": "700fb1f2-933c-4a56-895e-ef98f466eeed",
   "metadata": {},
   "outputs": [
    {
     "data": {
      "text/plain": [
       "2547"
      ]
     },
     "execution_count": 132,
     "metadata": {},
     "output_type": "execute_result"
    }
   ],
   "source": [
    "np.argmax(1/a)"
   ]
  },
  {
   "cell_type": "markdown",
   "id": "25131ddd-e191-4668-81f9-33404d59009a",
   "metadata": {},
   "source": [
    "## Broadcasting"
   ]
  },
  {
   "cell_type": "code",
   "execution_count": 155,
   "id": "8ff421ee-cf6a-419c-a534-be27f7196938",
   "metadata": {},
   "outputs": [
    {
     "data": {
      "text/plain": [
       "array([[7.14312319, 5.89656329, 6.70717189, ..., 6.29287278, 3.65116048,\n",
       "        5.6672553 ],\n",
       "       [6.05578042, 2.24316258, 2.32360283, ..., 5.43026786, 3.64868116,\n",
       "        5.43547817],\n",
       "       [9.17693622, 6.39195847, 4.21422374, ..., 8.24317679, 2.38855569,\n",
       "        4.23479477]])"
      ]
     },
     "execution_count": 155,
     "metadata": {},
     "output_type": "execute_result"
    }
   ],
   "source": [
    "vector3D = np.array(np.random.normal(5, 2, size = (3, 100000)))\n",
    "vector3D"
   ]
  },
  {
   "cell_type": "code",
   "execution_count": 139,
   "id": "4ddf8ba7-6c5e-4058-ab09-7bafc798ae22",
   "metadata": {},
   "outputs": [
    {
     "data": {
      "text/plain": [
       "array([[0.85549142, 3.58644956, 2.04928878, ..., 2.51140058, 1.70387665,\n",
       "        4.34711028],\n",
       "       [2.18310922, 2.95583294, 3.24973766, ..., 1.76146835, 2.58887221,\n",
       "        2.45390601],\n",
       "       [1.96061471, 3.01520252, 4.12182507, ..., 1.25988637, 1.52928198,\n",
       "        2.49018322]])"
      ]
     },
     "execution_count": 139,
     "metadata": {},
     "output_type": "execute_result"
    }
   ],
   "source": [
    "vector3D*0.5"
   ]
  },
  {
   "cell_type": "code",
   "execution_count": 180,
   "id": "9111d043-e2ae-4ebe-9199-0d71da3c5f34",
   "metadata": {},
   "outputs": [
    {
     "data": {
      "text/plain": [
       "(3, 100000)"
      ]
     },
     "execution_count": 180,
     "metadata": {},
     "output_type": "execute_result"
    }
   ],
   "source": [
    "vector3D.shape"
   ]
  },
  {
   "cell_type": "code",
   "execution_count": 186,
   "id": "71264f89-b628-4544-b574-1ed713376de1",
   "metadata": {},
   "outputs": [
    {
     "data": {
      "text/plain": [
       "(3,)"
      ]
     },
     "execution_count": 186,
     "metadata": {},
     "output_type": "execute_result"
    }
   ],
   "source": [
    "np.array([1.5, 7.4, -0.6]).shape"
   ]
  },
  {
   "cell_type": "code",
   "execution_count": 188,
   "id": "df369261-4042-4afa-93ad-4168259e5dd9",
   "metadata": {},
   "outputs": [
    {
     "data": {
      "text/plain": [
       "array([[ 8.64312319,  7.39656329,  8.20717189, ...,  7.79287278,\n",
       "         5.15116048,  7.1672553 ],\n",
       "       [13.45578042,  9.64316258,  9.72360283, ..., 12.83026786,\n",
       "        11.04868116, 12.83547817],\n",
       "       [ 8.57693622,  5.79195847,  3.61422374, ...,  7.64317679,\n",
       "         1.78855569,  3.63479477]])"
      ]
     },
     "execution_count": 188,
     "metadata": {},
     "output_type": "execute_result"
    }
   ],
   "source": [
    "vector3D + np.array([[1.5], [7.4], [-0.6]])"
   ]
  },
  {
   "cell_type": "code",
   "execution_count": 190,
   "id": "4602b1c8-9ea0-4629-9d71-f462a0f6b5e6",
   "metadata": {},
   "outputs": [
    {
     "ename": "ValueError",
     "evalue": "operands could not be broadcast together with shapes (3,100000) (2,) ",
     "output_type": "error",
     "traceback": [
      "\u001b[1;31m---------------------------------------------------------------------------\u001b[0m",
      "\u001b[1;31mValueError\u001b[0m                                Traceback (most recent call last)",
      "Cell \u001b[1;32mIn[190], line 1\u001b[0m\n\u001b[1;32m----> 1\u001b[0m \u001b[43mvector3D\u001b[49m\u001b[43m \u001b[49m\u001b[38;5;241;43m+\u001b[39;49m\u001b[43m \u001b[49m\u001b[43mnp\u001b[49m\u001b[38;5;241;43m.\u001b[39;49m\u001b[43marray\u001b[49m\u001b[43m(\u001b[49m\u001b[43m[\u001b[49m\u001b[38;5;241;43m6\u001b[39;49m\u001b[43m,\u001b[49m\u001b[43m \u001b[49m\u001b[38;5;241;43m8\u001b[39;49m\u001b[43m]\u001b[49m\u001b[43m)\u001b[49m\n",
      "\u001b[1;31mValueError\u001b[0m: operands could not be broadcast together with shapes (3,100000) (2,) "
     ]
    }
   ],
   "source": [
    "vector3D + np.array([6, 8])"
   ]
  },
  {
   "cell_type": "code",
   "execution_count": 194,
   "id": "f5235196-c675-4c80-95ae-5b414e9410a2",
   "metadata": {},
   "outputs": [
    {
     "data": {
      "text/plain": [
       "array([[ 8.14312319,  6.89656329,  7.70717189, ...,  7.29287278,\n",
       "         4.65116048,  6.6672553 ],\n",
       "       [ 8.05578042,  4.24316258,  4.32360283, ...,  7.43026786,\n",
       "         5.64868116,  7.43547817],\n",
       "       [12.17693622,  9.39195847,  7.21422374, ..., 11.24317679,\n",
       "         5.38855569,  7.23479477]])"
      ]
     },
     "execution_count": 194,
     "metadata": {},
     "output_type": "execute_result"
    }
   ],
   "source": [
    "vector3D + np.array([[1], [2], [3]])"
   ]
  },
  {
   "cell_type": "markdown",
   "id": "10ab98d9-420d-4789-b62e-43e1c6992915",
   "metadata": {},
   "source": [
    "## Fancy indexing"
   ]
  },
  {
   "cell_type": "code",
   "execution_count": 209,
   "id": "7e128011-b42c-42ab-bb89-7d1e6ecbe7ae",
   "metadata": {},
   "outputs": [],
   "source": [
    "a = np.random.normal(4, 3, size = (100, 3))"
   ]
  },
  {
   "cell_type": "code",
   "execution_count": 211,
   "id": "a27cc96c-7d3e-42c8-9839-73ad06fae321",
   "metadata": {},
   "outputs": [
    {
     "data": {
      "text/plain": [
       "array([[ 4.99085034e+00,  5.36874099e+00,  5.98392208e+00],\n",
       "       [ 8.50658502e-01,  3.75257209e+00,  3.25602626e+00],\n",
       "       [ 3.94846660e+00, -1.13444091e+00, -3.94878842e-01],\n",
       "       [ 2.60829364e+00,  4.18383443e+00,  3.74578486e+00],\n",
       "       [ 5.40402714e+00, -4.01026915e+00,  7.43046454e+00],\n",
       "       [ 7.65472284e-01,  6.51283344e+00,  2.28595669e+00],\n",
       "       [ 1.13416138e+01,  4.72665331e+00,  7.76670748e+00],\n",
       "       [ 8.90437999e+00,  4.25408150e+00,  2.77724649e+00],\n",
       "       [ 8.19137975e+00, -9.62780231e-01,  3.09805888e+00],\n",
       "       [-1.80783239e+00,  4.98880557e+00,  4.92040839e+00],\n",
       "       [ 1.72156651e-01,  8.62680670e-01,  2.67354688e+00],\n",
       "       [ 2.96217787e+00,  3.10454961e+00,  3.81741722e+00],\n",
       "       [ 6.86161643e+00,  2.40102510e+00,  3.89191375e+00],\n",
       "       [ 4.30210545e+00,  4.29791255e+00,  5.94436363e+00],\n",
       "       [ 1.90335579e+00,  2.96108617e+00,  6.29868376e+00],\n",
       "       [ 6.62729927e+00,  6.00181875e+00,  4.68989613e+00],\n",
       "       [ 3.14035570e-01, -7.32885771e-01,  4.28046504e+00],\n",
       "       [-2.50337259e+00, -2.23244945e+00,  8.46956463e+00],\n",
       "       [ 2.46171105e+00, -1.06248074e+00,  1.98474114e+00],\n",
       "       [ 3.47134773e+00,  7.36837618e+00,  6.65229205e+00],\n",
       "       [ 4.63269653e+00,  9.08121604e+00,  2.50187040e+00],\n",
       "       [ 1.79760317e+00,  4.93326171e+00,  1.24124084e+00],\n",
       "       [ 1.47179740e-02,  3.53375902e+00, -2.09784921e+00],\n",
       "       [ 3.43203789e-01,  3.17696890e+00,  2.85724844e+00],\n",
       "       [-2.90461900e+00,  4.12970293e+00,  6.49487029e-01],\n",
       "       [ 1.63485760e+00,  9.36087448e+00,  4.87066489e+00],\n",
       "       [-2.36061884e-01,  6.02405594e+00,  3.62100694e+00],\n",
       "       [-1.31298849e+00,  6.29282444e+00,  7.08821493e-01],\n",
       "       [ 2.62047695e+00,  5.66934048e+00,  3.59849660e+00],\n",
       "       [ 3.01752896e+00,  6.21088979e+00,  1.89972199e+00],\n",
       "       [ 4.81260456e+00,  2.47325273e+00,  9.13992663e-01],\n",
       "       [ 2.03399139e+00,  1.85625454e+00,  1.84686716e+00],\n",
       "       [ 5.93750756e+00,  1.08176855e+01,  3.11301630e+00],\n",
       "       [ 6.58506296e+00,  4.25001051e+00,  8.35118477e+00],\n",
       "       [ 3.58490731e+00,  4.26247065e+00,  1.00445835e+00],\n",
       "       [ 6.21438782e+00,  6.99420035e+00,  1.34647189e+01],\n",
       "       [ 2.11673067e+00,  5.60481875e+00,  6.95954716e+00],\n",
       "       [ 1.06044039e+00,  1.01054836e+01,  6.73485605e+00],\n",
       "       [ 1.50204589e+00, -1.85513262e+00,  1.41589582e+00],\n",
       "       [ 6.10232350e+00, -1.19087625e+00, -4.51382130e+00],\n",
       "       [ 6.44856375e+00,  1.06521493e+00,  5.94313163e+00],\n",
       "       [ 8.01426931e+00,  1.25895507e+00,  9.48402578e+00],\n",
       "       [ 5.71885432e+00,  3.45428142e+00,  4.90901256e+00],\n",
       "       [ 8.57029236e+00,  3.95777047e+00,  4.16741342e+00],\n",
       "       [ 1.20320220e+01, -5.46678385e-01,  1.67734353e+00],\n",
       "       [ 3.41957692e+00,  5.88014646e+00,  9.06892344e+00],\n",
       "       [ 2.14440580e+00,  4.28837765e+00,  4.90914106e+00],\n",
       "       [ 7.48149822e-01,  4.23273585e+00,  1.68311877e+00],\n",
       "       [ 3.00589879e+00,  8.63015750e+00,  2.49392768e+00],\n",
       "       [ 8.84197564e+00,  8.89829934e+00,  5.90248860e+00],\n",
       "       [ 5.81145403e+00,  6.70618128e+00,  7.54166245e+00],\n",
       "       [-1.24391139e+00,  9.28752695e+00,  3.75182164e+00],\n",
       "       [ 2.82962359e+00,  3.81622963e+00,  7.36315195e+00],\n",
       "       [ 2.16285177e+00,  4.53134765e+00,  2.63044526e+00],\n",
       "       [ 7.29810916e+00,  6.86252793e-01, -3.96981113e+00],\n",
       "       [ 8.01506027e+00,  5.46252838e+00,  3.68344623e+00],\n",
       "       [ 7.54483566e+00,  2.65938492e+00,  2.24192900e+00],\n",
       "       [ 7.23983430e+00,  4.75583423e+00, -2.58691154e+00],\n",
       "       [-7.85947595e-01,  3.55109217e+00, -2.61730888e-01],\n",
       "       [ 4.93523945e+00,  6.44060410e+00,  5.56762562e+00],\n",
       "       [ 5.19711695e+00,  2.47373991e+00, -1.33131030e+00],\n",
       "       [-2.11145503e+00,  4.71358438e+00,  4.71606913e-01],\n",
       "       [ 1.67394372e+00,  4.18199493e+00, -1.29203923e+00],\n",
       "       [ 9.62276076e+00, -4.19932309e-01,  7.63657849e+00],\n",
       "       [ 5.30227249e+00, -1.06368673e+00,  5.72767198e+00],\n",
       "       [-1.20618436e+00, -1.06627903e+00,  1.77750635e+00],\n",
       "       [ 6.20466836e+00,  1.64656411e+00,  8.50453967e+00],\n",
       "       [ 4.55525425e+00,  6.79054355e+00,  5.73477709e+00],\n",
       "       [ 5.05124183e+00,  1.36854645e-01,  6.86065689e+00],\n",
       "       [ 5.27799367e+00,  1.02265563e+01,  4.20500320e+00],\n",
       "       [ 3.80980414e+00,  1.94276575e+00,  6.33199997e+00],\n",
       "       [ 2.48814161e+00,  1.55788568e+01,  4.40635385e+00],\n",
       "       [ 9.00685332e+00,  9.28085585e+00,  5.10737027e+00],\n",
       "       [ 5.59087316e+00,  1.00690169e+01,  3.16908685e+00],\n",
       "       [ 5.16965569e+00,  9.85349661e-01,  2.36473265e+00],\n",
       "       [ 3.35779979e+00,  6.28455786e-01, -4.28828817e+00],\n",
       "       [ 8.87926377e+00,  7.83670454e+00,  5.47713822e+00],\n",
       "       [ 2.99387130e+00,  2.89603606e+00,  3.99536300e+00],\n",
       "       [ 7.35265702e+00, -2.90583333e+00,  5.45012339e+00],\n",
       "       [ 6.89676285e+00,  3.38980182e+00,  1.15473551e+00],\n",
       "       [ 1.14260940e+00,  8.78168952e+00, -3.99382646e+00],\n",
       "       [-1.13126146e+00,  4.79439792e+00,  3.05966150e+00],\n",
       "       [ 4.41368399e+00,  7.05262050e+00,  8.01642231e-01],\n",
       "       [ 3.34349646e+00,  6.64996204e+00,  6.93580451e+00],\n",
       "       [ 2.80996449e+00,  6.42863759e+00,  9.51681265e+00],\n",
       "       [ 6.36032059e+00,  2.65092856e+00,  7.21195538e+00],\n",
       "       [ 3.03961850e+00,  5.88332462e+00,  4.49314031e+00],\n",
       "       [-3.95031233e-01,  4.31618087e+00,  2.47810072e+00],\n",
       "       [ 9.87419860e-01,  9.56515917e+00,  1.04668842e+00],\n",
       "       [ 1.07790316e+00,  9.64460768e+00,  5.25721450e+00],\n",
       "       [ 5.56084387e+00,  9.16588467e-01,  1.22483445e+01],\n",
       "       [ 1.33718077e+00,  5.07261349e+00,  1.97135527e+00],\n",
       "       [ 5.97651934e+00,  3.51340372e+00,  1.14126743e+00],\n",
       "       [ 3.95646697e+00,  2.34296174e+00,  6.39494191e+00],\n",
       "       [ 6.13973807e+00,  5.12033655e+00,  4.64734292e+00],\n",
       "       [ 5.53092396e+00,  3.62925742e-01,  3.38345645e+00],\n",
       "       [ 3.30380194e+00,  6.13487379e+00,  2.49630570e+00],\n",
       "       [ 5.11504856e+00,  2.84753224e+00,  3.69910708e+00],\n",
       "       [ 2.43327489e+00,  6.62646930e+00,  4.02350768e+00],\n",
       "       [-4.85056138e-01,  1.60610269e+00,  2.50459722e+00]])"
      ]
     },
     "execution_count": 211,
     "metadata": {},
     "output_type": "execute_result"
    }
   ],
   "source": [
    "a"
   ]
  },
  {
   "cell_type": "code",
   "execution_count": 213,
   "id": "8f02ee8a-b9fd-4e0b-8ffa-9ac4d32a8310",
   "metadata": {},
   "outputs": [
    {
     "data": {
      "text/plain": [
       "array([0.8506585 , 3.75257209, 3.25602626])"
      ]
     },
     "execution_count": 213,
     "metadata": {},
     "output_type": "execute_result"
    }
   ],
   "source": [
    "a[1]  # access a row"
   ]
  },
  {
   "cell_type": "code",
   "execution_count": 223,
   "id": "2f3fa721-7eef-427b-a6b8-5dcf794b4161",
   "metadata": {},
   "outputs": [
    {
     "data": {
      "text/plain": [
       "6.512833440548625"
      ]
     },
     "execution_count": 223,
     "metadata": {},
     "output_type": "execute_result"
    }
   ],
   "source": [
    "a[5,1]"
   ]
  },
  {
   "cell_type": "code",
   "execution_count": 225,
   "id": "a74c0933-99af-4d73-b2a3-65207fdfe372",
   "metadata": {},
   "outputs": [],
   "source": [
    "l = [1, 2, 3, 8, 5, 8, 9]"
   ]
  },
  {
   "cell_type": "code",
   "execution_count": 227,
   "id": "b378e495-69c3-4cc8-a76a-7fe7947c572e",
   "metadata": {},
   "outputs": [
    {
     "data": {
      "text/plain": [
       "[5, 8, 9]"
      ]
     },
     "execution_count": 227,
     "metadata": {},
     "output_type": "execute_result"
    }
   ],
   "source": [
    "l[4:7]"
   ]
  },
  {
   "cell_type": "code",
   "execution_count": 229,
   "id": "f63148a2-bf3c-4747-b626-58718f38aa52",
   "metadata": {},
   "outputs": [],
   "source": [
    "b = np.random.normal(0, 1, size = 10)"
   ]
  },
  {
   "cell_type": "code",
   "execution_count": 231,
   "id": "fab21abd-b3a0-4f7f-93ee-a53919234275",
   "metadata": {},
   "outputs": [
    {
     "data": {
      "text/plain": [
       "array([-0.27858357,  1.2880122 , -0.15590617, -0.24955726,  0.28358629,\n",
       "       -2.02089566, -2.11758006, -0.54873616, -0.12613032,  0.42531999])"
      ]
     },
     "execution_count": 231,
     "metadata": {},
     "output_type": "execute_result"
    }
   ],
   "source": [
    "b"
   ]
  },
  {
   "cell_type": "code",
   "execution_count": 233,
   "id": "42850f7d-cef7-419b-81f3-3e0b8663f15a",
   "metadata": {},
   "outputs": [
    {
     "data": {
      "text/plain": [
       "array([ 1.2880122 , -0.15590617, -0.24955726, -0.54873616])"
      ]
     },
     "execution_count": 233,
     "metadata": {},
     "output_type": "execute_result"
    }
   ],
   "source": [
    "b[[1, 2, 3, 7]]"
   ]
  },
  {
   "cell_type": "code",
   "execution_count": 237,
   "id": "05dd5dd6-6c15-4ac8-ba33-d7e5f393c77c",
   "metadata": {},
   "outputs": [
    {
     "data": {
      "text/plain": [
       "array([-0.54873616, -0.24955726,  1.2880122 , -0.15590617])"
      ]
     },
     "execution_count": 237,
     "metadata": {},
     "output_type": "execute_result"
    }
   ],
   "source": [
    "b[[7, 3, 1, 2]]"
   ]
  },
  {
   "cell_type": "markdown",
   "id": "010c9e50-617e-425c-92db-95f91b201846",
   "metadata": {},
   "source": [
    "### Masking"
   ]
  },
  {
   "cell_type": "code",
   "execution_count": 240,
   "id": "135c9ba7-fa2d-4664-956c-fe262d2cd2c8",
   "metadata": {},
   "outputs": [
    {
     "data": {
      "text/plain": [
       "array([-0.27858357,  1.2880122 , -0.15590617, -0.24955726,  0.28358629,\n",
       "       -2.02089566, -2.11758006, -0.54873616, -0.12613032,  0.42531999])"
      ]
     },
     "execution_count": 240,
     "metadata": {},
     "output_type": "execute_result"
    }
   ],
   "source": [
    "b"
   ]
  },
  {
   "cell_type": "code",
   "execution_count": 244,
   "id": "44c5fce0-2d2d-4d3c-9166-763678aa3106",
   "metadata": {},
   "outputs": [],
   "source": [
    "mask = b < 0"
   ]
  },
  {
   "cell_type": "code",
   "execution_count": 246,
   "id": "79d85fd0-a6e9-4d3f-bd02-a58193ba379c",
   "metadata": {},
   "outputs": [
    {
     "data": {
      "text/plain": [
       "array([-0.27858357, -0.15590617, -0.24955726, -2.02089566, -2.11758006,\n",
       "       -0.54873616, -0.12613032])"
      ]
     },
     "execution_count": 246,
     "metadata": {},
     "output_type": "execute_result"
    }
   ],
   "source": [
    "b[mask]"
   ]
  },
  {
   "cell_type": "code",
   "execution_count": 248,
   "id": "af345811-2ab5-4ff0-804a-33527e00895f",
   "metadata": {},
   "outputs": [
    {
     "data": {
      "text/plain": [
       "array([-0.27858357, -0.15590617, -0.24955726, -2.02089566, -2.11758006,\n",
       "       -0.54873616, -0.12613032])"
      ]
     },
     "execution_count": 248,
     "metadata": {},
     "output_type": "execute_result"
    }
   ],
   "source": [
    "b[b < 0]"
   ]
  },
  {
   "cell_type": "markdown",
   "id": "206f5897-7742-4452-aa88-267a403e0076",
   "metadata": {},
   "source": [
    "# Exercise"
   ]
  },
  {
   "cell_type": "code",
   "execution_count": 281,
   "id": "4ba3cf96-c48a-4faf-a003-193b8b561fee",
   "metadata": {},
   "outputs": [],
   "source": [
    "import pandas as pd\n",
    "import numpy as np"
   ]
  },
  {
   "cell_type": "code",
   "execution_count": 275,
   "id": "d61c3b6d-4265-46d7-8575-df4750223f78",
   "metadata": {},
   "outputs": [],
   "source": [
    "pulse = pd.read_csv('lecture-python/data/pulse.csv', skiprows=14)\n",
    "# pulse = np.loadtxt('lecture-python/data/pulse.csv', skiprows = 15, delimiter = ',')"
   ]
  },
  {
   "cell_type": "code",
   "execution_count": 277,
   "id": "097e150e-151e-4baf-afad-b0434f94e034",
   "metadata": {},
   "outputs": [
    {
     "data": {
      "text/html": [
       "<div>\n",
       "<style scoped>\n",
       "    .dataframe tbody tr th:only-of-type {\n",
       "        vertical-align: middle;\n",
       "    }\n",
       "\n",
       "    .dataframe tbody tr th {\n",
       "        vertical-align: top;\n",
       "    }\n",
       "\n",
       "    .dataframe thead th {\n",
       "        text-align: right;\n",
       "    }\n",
       "</style>\n",
       "<table border=\"1\" class=\"dataframe\">\n",
       "  <thead>\n",
       "    <tr style=\"text-align: right;\">\n",
       "      <th></th>\n",
       "      <th>TIME</th>\n",
       "      <th>CH1</th>\n",
       "    </tr>\n",
       "  </thead>\n",
       "  <tbody>\n",
       "    <tr>\n",
       "      <th>0</th>\n",
       "      <td>-4.000000e-08</td>\n",
       "      <td>-0.437750</td>\n",
       "    </tr>\n",
       "    <tr>\n",
       "      <th>1</th>\n",
       "      <td>-3.960000e-08</td>\n",
       "      <td>-0.437547</td>\n",
       "    </tr>\n",
       "    <tr>\n",
       "      <th>2</th>\n",
       "      <td>-3.920000e-08</td>\n",
       "      <td>-0.437109</td>\n",
       "    </tr>\n",
       "    <tr>\n",
       "      <th>3</th>\n",
       "      <td>-3.880000e-08</td>\n",
       "      <td>-0.437016</td>\n",
       "    </tr>\n",
       "    <tr>\n",
       "      <th>4</th>\n",
       "      <td>-3.840000e-08</td>\n",
       "      <td>-0.436938</td>\n",
       "    </tr>\n",
       "  </tbody>\n",
       "</table>\n",
       "</div>"
      ],
      "text/plain": [
       "           TIME       CH1\n",
       "0 -4.000000e-08 -0.437750\n",
       "1 -3.960000e-08 -0.437547\n",
       "2 -3.920000e-08 -0.437109\n",
       "3 -3.880000e-08 -0.437016\n",
       "4 -3.840000e-08 -0.436938"
      ]
     },
     "execution_count": 277,
     "metadata": {},
     "output_type": "execute_result"
    }
   ],
   "source": [
    "pulse.head()"
   ]
  },
  {
   "cell_type": "code",
   "execution_count": 342,
   "id": "cb4e39bf-0000-4eb0-a656-69aff5018a32",
   "metadata": {},
   "outputs": [
    {
     "name": "stdout",
     "output_type": "stream",
     "text": [
      "6e-08\n",
      "-0.2856137573353294\n"
     ]
    },
    {
     "data": {
      "text/plain": [
       "TIME    6.000000e-08\n",
       "CH1    -2.856138e-01\n",
       "dtype: float64"
      ]
     },
     "execution_count": 342,
     "metadata": {},
     "output_type": "execute_result"
    }
   ],
   "source": [
    "# Calculate mean for 'TIME'\n",
    "\n",
    "time_mean = 0\n",
    "\n",
    "for element in pulse['TIME']:\n",
    "    time_mean = time_mean + element\n",
    "\n",
    "time_mean = time_mean / len(pulse['TIME'])\n",
    "\n",
    "# Calculate mean for 'CH1'\n",
    "\n",
    "ch1_mean = 0\n",
    "\n",
    "for element in pulse['CH1']:\n",
    "    ch1_mean = ch1_mean + element\n",
    "\n",
    "ch1_mean = ch1_mean / len(pulse['CH1'])"
   ]
  },
  {
   "cell_type": "code",
   "execution_count": 364,
   "id": "2a5eded6-945f-4fba-bc3c-dbcda648e7e0",
   "metadata": {},
   "outputs": [
    {
     "name": "stdout",
     "output_type": "stream",
     "text": [
      "5.785038173311103e-08\n"
     ]
    },
    {
     "data": {
      "text/plain": [
       "TIME    5.785038e-08\n",
       "CH1     2.068782e-01\n",
       "dtype: float64"
      ]
     },
     "execution_count": 364,
     "metadata": {},
     "output_type": "execute_result"
    }
   ],
   "source": [
    "# Calculate standard deviation for 'TIME'\n",
    "\n",
    "time_diff = 0\n",
    "\n",
    "for element in pulse['TIME']:\n",
    "    time_diff = time_diff + (element - time_mean)**2\n",
    "\n",
    "time_std = np.sqrt(time_diff / len(pulse['TIME']))"
   ]
  },
  {
   "cell_type": "code",
   "execution_count": 368,
   "id": "af09eeb4-03b9-4121-bb66-a477c2af7f39",
   "metadata": {},
   "outputs": [
    {
     "name": "stdout",
     "output_type": "stream",
     "text": [
      "0.20687816110734641\n"
     ]
    },
    {
     "data": {
      "text/plain": [
       "TIME    5.785038e-08\n",
       "CH1     2.068782e-01\n",
       "dtype: float64"
      ]
     },
     "execution_count": 368,
     "metadata": {},
     "output_type": "execute_result"
    }
   ],
   "source": [
    "# Calculate standard deviation for 'CH1'\n",
    "\n",
    "ch1_diff = 0\n",
    "\n",
    "for element in pulse['CH1']:\n",
    "    ch1_diff = ch1_diff + (element - ch1_mean)**2\n",
    "\n",
    "ch1_std = np.sqrt(ch1_diff / len(pulse['CH1']))"
   ]
  },
  {
   "cell_type": "code",
   "execution_count": 386,
   "id": "7d4370ff-643e-4fe3-9bd6-043f7e12cab9",
   "metadata": {},
   "outputs": [
    {
     "name": "stdout",
     "output_type": "stream",
     "text": [
      "5.785038173311103e-08 0.20687816110734647\n"
     ]
    },
    {
     "data": {
      "text/plain": [
       "TIME    5.785038e-08\n",
       "CH1     2.068782e-01\n",
       "dtype: float64"
      ]
     },
     "execution_count": 386,
     "metadata": {},
     "output_type": "execute_result"
    }
   ],
   "source": [
    "# Calculate standard deviations with vectorisation\n",
    "\n",
    "time_std = np.sqrt((np.sum((pulse['TIME'] - np.mean(pulse['TIME']))**2)) / len(pulse['TIME']))\n",
    "ch1_std = np.sqrt((np.sum((pulse['CH1'] - np.mean(pulse['CH1']))**2)) / len(pulse['CH1']))\n",
    "\n",
    "print(time_std, ch1_std)"
   ]
  },
  {
   "cell_type": "code",
   "execution_count": 388,
   "id": "10a3e904-2837-47d5-bfea-cea43920c116",
   "metadata": {},
   "outputs": [
    {
     "data": {
      "text/plain": [
       "TIME    5.785038e-08\n",
       "CH1     2.068782e-01\n",
       "dtype: float64"
      ]
     },
     "execution_count": 388,
     "metadata": {},
     "output_type": "execute_result"
    }
   ],
   "source": [
    "# Calculate standard deviations using pandas\n",
    "np.std(pulse, axis = 0)"
   ]
  },
  {
   "cell_type": "code",
   "execution_count": 409,
   "id": "811cccbd-dd83-4943-b0c3-6ac3d689921e",
   "metadata": {},
   "outputs": [
    {
     "name": "stdout",
     "output_type": "stream",
     "text": [
      "6e-08\n"
     ]
    }
   ],
   "source": [
    "mean = 0\n",
    "for i in range(len(pulse['TIME'])):\n",
    "    mean = mean + pulse['TIME'][i]\n",
    "mean = mean / len(pulse['TIME'])\n",
    "print(mean)"
   ]
  },
  {
   "cell_type": "code",
   "execution_count": 417,
   "id": "8c2e1b5b-f4f5-45ab-84f4-250abff71f3e",
   "metadata": {},
   "outputs": [
    {
     "name": "stdout",
     "output_type": "stream",
     "text": [
      "6.000000000000001e-08 6e-08\n"
     ]
    }
   ],
   "source": [
    "mean = 0\n",
    "for t in pulse['TIME']:\n",
    "    mean = mean + t / len(pulse['TIME'])\n",
    "print(mean, np.mean(pulse['TIME']))"
   ]
  },
  {
   "cell_type": "code",
   "execution_count": 419,
   "id": "fa2a94ce-86d6-467f-a058-aea0dfd1a342",
   "metadata": {},
   "outputs": [
    {
     "data": {
      "text/plain": [
       "6e-08"
      ]
     },
     "execution_count": 419,
     "metadata": {},
     "output_type": "execute_result"
    }
   ],
   "source": [
    "sum(pulse['TIME']) / len(pulse['TIME'])"
   ]
  },
  {
   "cell_type": "code",
   "execution_count": 421,
   "id": "1ed2f1c8-fa03-4f0e-b64a-a2b2a64b773d",
   "metadata": {},
   "outputs": [
    {
     "name": "stdout",
     "output_type": "stream",
     "text": [
      "5.785038173311104e-08 5.7908203218542355e-08\n"
     ]
    }
   ],
   "source": [
    "std = 0\n",
    "for t in pulse['TIME']:\n",
    "    std += (t - mean)**2 / len(pulse['TIME'])\n",
    "std = np.sqrt(std)\n",
    "\n",
    "print(std, pulse['TIME'].std())"
   ]
  },
  {
   "cell_type": "code",
   "execution_count": 453,
   "id": "2324e4ee-8917-4064-a44c-73b764107b19",
   "metadata": {},
   "outputs": [],
   "source": [
    "def std_dev(x):\n",
    "    \n",
    "    mean = sum(x) / len(x)\n",
    "    \n",
    "    for i in x:\n",
    "        std += (i - mean)**2 / len(x)\n",
    "        \n",
    "    std = np.sqrt(std)\n",
    "    return(std)"
   ]
  }
 ],
 "metadata": {
  "kernelspec": {
   "display_name": "Python 3 (ipykernel)",
   "language": "python",
   "name": "python3"
  },
  "language_info": {
   "codemirror_mode": {
    "name": "ipython",
    "version": 3
   },
   "file_extension": ".py",
   "mimetype": "text/x-python",
   "name": "python",
   "nbconvert_exporter": "python",
   "pygments_lexer": "ipython3",
   "version": "3.12.4"
  }
 },
 "nbformat": 4,
 "nbformat_minor": 5
}
