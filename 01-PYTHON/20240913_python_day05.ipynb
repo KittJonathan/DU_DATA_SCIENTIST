{
 "cells": [
  {
   "cell_type": "markdown",
   "id": "0c823034-b996-492d-b63c-af8ea0adb5e0",
   "metadata": {},
   "source": [
    "# Introduction to image processing"
   ]
  },
  {
   "cell_type": "code",
   "execution_count": 7,
   "id": "7debb6a5-bf8e-4807-8a45-1353f5ee2311",
   "metadata": {},
   "outputs": [],
   "source": [
    "import numpy as np\n",
    "\n",
    "def myfunc(x, a, b):\n",
    "    return a*x + b"
   ]
  },
  {
   "cell_type": "code",
   "execution_count": 9,
   "id": "97486981-bf81-4211-86cc-ea10f0a9ac51",
   "metadata": {},
   "outputs": [],
   "source": [
    "x = np.linspace(0, 1, 5)"
   ]
  },
  {
   "cell_type": "code",
   "execution_count": 11,
   "id": "5114d085-0e16-4f18-bbce-2e2c4b996a78",
   "metadata": {},
   "outputs": [
    {
     "data": {
      "text/plain": [
       "array([1., 1., 1., 1., 1.])"
      ]
     },
     "execution_count": 11,
     "metadata": {},
     "output_type": "execute_result"
    }
   ],
   "source": [
    "myfunc(x, 0, 1)"
   ]
  },
  {
   "cell_type": "code",
   "execution_count": 13,
   "id": "a4136078-1503-4cc3-b801-1854e40420b4",
   "metadata": {},
   "outputs": [
    {
     "data": {
      "text/plain": [
       "array([41. , 42.5, 44. , 45.5, 47. ])"
      ]
     },
     "execution_count": 13,
     "metadata": {},
     "output_type": "execute_result"
    }
   ],
   "source": [
    "myfunc(x, 6, 41)"
   ]
  },
  {
   "cell_type": "code",
   "execution_count": 15,
   "id": "24585f59-2692-4f72-b516-ae576752e5a9",
   "metadata": {},
   "outputs": [
    {
     "data": {
      "text/plain": [
       "array([41. , 42.5, 44. , 45.5, 47. ])"
      ]
     },
     "execution_count": 15,
     "metadata": {},
     "output_type": "execute_result"
    }
   ],
   "source": [
    "args = [6, 41]\n",
    "myfunc(x, *args)"
   ]
  }
 ],
 "metadata": {
  "kernelspec": {
   "display_name": "Python 3 (ipykernel)",
   "language": "python",
   "name": "python3"
  },
  "language_info": {
   "codemirror_mode": {
    "name": "ipython",
    "version": 3
   },
   "file_extension": ".py",
   "mimetype": "text/x-python",
   "name": "python",
   "nbconvert_exporter": "python",
   "pygments_lexer": "ipython3",
   "version": "3.12.4"
  }
 },
 "nbformat": 4,
 "nbformat_minor": 5
}
